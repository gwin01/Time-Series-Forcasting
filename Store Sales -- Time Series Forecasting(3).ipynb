{
 "cells": [
  {
   "cell_type": "markdown",
   "metadata": {
    "id": "BzK4yMsDloLs"
   },
   "source": [
    "# Regression Project (Store Sales -- Time Series Forecasting)\n"
   ]
  },
  {
   "cell_type": "markdown",
   "metadata": {},
   "source": [
    "## Import Packages"
   ]
  },
  {
   "cell_type": "code",
   "execution_count": 154,
   "metadata": {
    "id": "gjRNDsUIQzQo"
   },
   "outputs": [],
   "source": [
    "import pandas as pd\n",
    "import numpy as np\n",
    "import matplotlib.pyplot as plt\n",
    "import matplotlib.patches as mpathes\n",
    "import matplotlib.dates as mdates\n",
    "import seaborn as sns\n",
    "import plotly.express as px\n",
    "import ipywidgets as widgets\n",
    "from IPython.display import display\n",
    "import warnings\n",
    "import plotly.graph_objects as go\n",
    "warnings.filterwarnings('ignore')\n",
    "import datetime as dt\n",
    "import squarify\n",
    "\n",
    "from scipy.stats import f_oneway\n",
    "from datetime import datetime\n",
    "from datetime import date\n",
    "\n",
    "from  category_encoders import BinaryEncoder\n",
    "from sklearn import preprocessing\n",
    "from sklearn.preprocessing import StandardScaler\n",
    "from sklearn.model_selection import train_test_split\n",
    "\n",
    "from statsmodels.graphics.tsaplots import plot_pacf,plot_acf\n",
    "from statsmodels.tsa.ar_model import AutoReg\n",
    "from pmdarima import auto_arima\n",
    "from statsmodels.tsa.arima.model import ARIMA\n",
    "from statsmodels.tsa.statespace.sarimax import SARIMAX\n",
    "\n",
    "from sklearn.linear_model import LinearRegression\n",
    "from sklearn.tree import DecisionTreeRegressor\n",
    "from sklearn.ensemble import RandomForestRegressor\n",
    "import xgboost as xgb\n",
    "\n",
    "from sklearn.metrics import mean_squared_error\n",
    "from sklearn.metrics import mean_squared_log_error"
   ]
  },
  {
   "cell_type": "markdown",
   "metadata": {},
   "source": [
    "## Load Data"
   ]
  },
  {
   "cell_type": "code",
   "execution_count": 155,
   "metadata": {
    "id": "FxUMzySBQ9Bs"
   },
   "outputs": [],
   "source": [
    "#Loading all datasets\n",
    "holiday = pd.read_csv('holidays_events.csv',index_col=[\"date\"],parse_dates=[\"date\"])\n",
    "oil = pd.read_csv('oil.csv', parse_dates=[\"date\"])\n",
    "stores = pd.read_csv('stores.csv')\n",
    "test = pd.read_csv('test.csv',index_col=[\"date\"],parse_dates=[\"date\"])\n",
    "train = pd.read_csv('train.csv',index_col=[\"date\"],parse_dates=['date'])\n",
    "transactions = pd.read_csv('transactions.csv',index_col=[\"date\"],parse_dates=[\"date\"])\n",
    "sample_submission = pd.read_csv('sample_submission.csv')"
   ]
  },
  {
   "cell_type": "markdown",
   "metadata": {
    "id": "BBNajc6IRauL"
   },
   "source": [
    "## Exploratory Data Analysis: EDA"
   ]
  },
  {
   "cell_type": "markdown",
   "metadata": {},
   "source": [
    "### Questions\n",
    "\n",
    "#### 1. Is the train dataset complete (has all the required dates)?\n",
    "\n",
    "#### 2. Which dates have the lowest and highest sales for each year?\n",
    "\n",
    "#### 3. Did the earthquake impact sales?\n",
    "\n",
    "#### 4. Are certain groups of stores selling more products? (Cluster, city, state, type)\n",
    "\n",
    "#### 5. Are sales affected by promotions, oil prices and holidays?\n",
    "\n"
   ]
  },
  {
   "cell_type": "markdown",
   "metadata": {},
   "source": [
    "### Hypothesis\n",
    "\n",
    "##### Null Hypothesis:  Holidays do not affect the unit store sales\n",
    "##### Alternate Hypothesis:  Holidays affect the sales in the store sales"
   ]
  },
  {
   "cell_type": "markdown",
   "metadata": {},
   "source": [
    "### Data Overview\n",
    "Here, the following were checked:<br>\n",
    "* The shape of all the datasets\n",
    "* The datatypes of the columns in the datasets\n",
    "* Summary statistics\n",
    "* Missing values"
   ]
  },
  {
   "cell_type": "markdown",
   "metadata": {},
   "source": [
    "##### Data Shape"
   ]
  },
  {
   "cell_type": "code",
   "execution_count": 156,
   "metadata": {
    "colab": {
     "base_uri": "https://localhost:8080/"
    },
    "id": "SQlX3HBNQ9Ee",
    "outputId": "980fe4e9-5640-41af-ecab-8009b3c6ae50"
   },
   "outputs": [
    {
     "name": "stdout",
     "output_type": "stream",
     "text": [
      "The shape of the holiday dataset is: (350, 5)\n",
      "The shape of the oil dataset is: (1218, 2)\n",
      "The shape of the stores dataset is: (54, 5)\n",
      "The shape of the test dataset is: (28512, 4)\n",
      "The shape of the train dataset is: (3000888, 5)\n",
      "The shape of the transactions dataset is: (83488, 2)\n",
      "The shape of the sample_submission dataset is: (28512, 2)\n"
     ]
    }
   ],
   "source": [
    "# Print out the shapes of the datasets\n",
    "print(f\"The shape of the holiday dataset is: {holiday.shape}\")\n",
    "print(f\"The shape of the oil dataset is: {oil.shape}\")\n",
    "print(f\"The shape of the stores dataset is: {stores.shape}\")\n",
    "print(f\"The shape of the test dataset is: {test.shape}\")\n",
    "print(f\"The shape of the train dataset is: {train.shape}\")\n",
    "print(f\"The shape of the transactions dataset is: {transactions.shape}\")\n",
    "print(f\"The shape of the sample_submission dataset is: {sample_submission.shape}\")"
   ]
  },
  {
   "cell_type": "markdown",
   "metadata": {},
   "source": [
    "##### Datatypes"
   ]
  },
  {
   "cell_type": "code",
   "execution_count": 157,
   "metadata": {
    "colab": {
     "base_uri": "https://localhost:8080/"
    },
    "id": "MlJsPrCFQ9Hn",
    "outputId": "67fe122c-8f04-4a70-e872-4396c4508fcc"
   },
   "outputs": [
    {
     "name": "stdout",
     "output_type": "stream",
     "text": [
      "Data types for Stores:\n",
      "store_nbr     int64\n",
      "city         object\n",
      "state        object\n",
      "type         object\n",
      "cluster       int64\n",
      "dtype: object\n",
      "__________________________________________________\n",
      "Data types for Train:\n",
      "id               int64\n",
      "store_nbr        int64\n",
      "family          object\n",
      "sales          float64\n",
      "onpromotion      int64\n",
      "dtype: object\n",
      "__________________________________________________\n",
      "Data types for Test:\n",
      "id              int64\n",
      "store_nbr       int64\n",
      "family         object\n",
      "onpromotion     int64\n",
      "dtype: object\n",
      "__________________________________________________\n",
      "Data types for Transactions:\n",
      "store_nbr       int64\n",
      "transactions    int64\n",
      "dtype: object\n",
      "__________________________________________________\n",
      "Data types for Oil:\n",
      "date          datetime64[ns]\n",
      "dcoilwtico           float64\n",
      "dtype: object\n",
      "__________________________________________________\n",
      "Data types for Holiday:\n",
      "type           object\n",
      "locale         object\n",
      "locale_name    object\n",
      "description    object\n",
      "transferred      bool\n",
      "dtype: object\n",
      "__________________________________________________\n",
      "Data types for Sample_Submission:\n",
      "id         int64\n",
      "sales    float64\n",
      "dtype: object\n",
      "__________________________________________________\n"
     ]
    }
   ],
   "source": [
    "# Print the data types of each dataset\n",
    "def show_data_type(dataset_name, dataset):\n",
    "    print(f\"Data types for {dataset_name}:\")\n",
    "    print(dataset.dtypes)\n",
    "    print('_' * 50)\n",
    "        \n",
    "show_data_type('Stores', stores)\n",
    "show_data_type('Train', train)\n",
    "show_data_type('Test', test)\n",
    "show_data_type('Transactions', transactions)\n",
    "show_data_type('Oil', oil)\n",
    "show_data_type('Holiday', holiday)\n",
    "show_data_type('Sample_Submission', sample_submission)\n",
    "\n"
   ]
  },
  {
   "cell_type": "markdown",
   "metadata": {},
   "source": [
    "##### Summary Statistics"
   ]
  },
  {
   "cell_type": "code",
   "execution_count": 158,
   "metadata": {
    "colab": {
     "base_uri": "https://localhost:8080/"
    },
    "id": "HAiaFJ9DijXq",
    "outputId": "ac3c6dfd-fcea-4e59-957e-552306ecb81c"
   },
   "outputs": [
    {
     "name": "stdout",
     "output_type": "stream",
     "text": [
      "\n",
      "Holiday dataset summary statistics:\n",
      "\n",
      "           type    locale locale_name description transferred\n",
      "count       350       350         350         350         350\n",
      "unique        6         3          24         103           2\n",
      "top     Holiday  National     Ecuador    Carnaval       False\n",
      "freq        221       174         174          10         338\n",
      "__________________________________________________\n",
      "\n",
      "Oil dataset summary statistics:\n",
      "\n",
      "       dcoilwtico\n",
      "count   1,175.000\n",
      "mean       67.714\n",
      "std        25.630\n",
      "min        26.190\n",
      "25%        46.405\n",
      "50%        53.190\n",
      "75%        95.660\n",
      "max       110.620\n",
      "__________________________________________________\n",
      "\n",
      "Stores dataset summary statistics:\n",
      "\n",
      "       store_nbr  cluster\n",
      "count     54.000   54.000\n",
      "mean      27.500    8.481\n",
      "std       15.732    4.693\n",
      "min        1.000    1.000\n",
      "25%       14.250    4.000\n",
      "50%       27.500    8.500\n",
      "75%       40.750   13.000\n",
      "max       54.000   17.000\n",
      "__________________________________________________\n",
      "\n",
      "Train dataset summary statistics:\n",
      "\n",
      "                 id     store_nbr         sales   onpromotion\n",
      "count 3,000,888.000 3,000,888.000 3,000,888.000 3,000,888.000\n",
      "mean  1,500,443.500        27.500       357.776         2.603\n",
      "std     866,281.892        15.586     1,101.998        12.219\n",
      "min           0.000         1.000         0.000         0.000\n",
      "25%     750,221.750        14.000         0.000         0.000\n",
      "50%   1,500,443.500        27.500        11.000         0.000\n",
      "75%   2,250,665.250        41.000       195.847         0.000\n",
      "max   3,000,887.000        54.000   124,717.000       741.000\n",
      "__________________________________________________\n",
      "\n",
      "Test dataset summary statistics:\n",
      "\n",
      "                 id  store_nbr  onpromotion\n",
      "count    28,512.000 28,512.000   28,512.000\n",
      "mean  3,015,143.500     27.500        6.965\n",
      "std       8,230.850     15.586       20.684\n",
      "min   3,000,888.000      1.000        0.000\n",
      "25%   3,008,015.750     14.000        0.000\n",
      "50%   3,015,143.500     27.500        0.000\n",
      "75%   3,022,271.250     41.000        6.000\n",
      "max   3,029,399.000     54.000      646.000\n",
      "__________________________________________________\n",
      "\n",
      "Transactions dataset summary statistics:\n",
      "\n",
      "       store_nbr  transactions\n",
      "count 83,488.000    83,488.000\n",
      "mean      26.939     1,694.602\n",
      "std       15.608       963.287\n",
      "min        1.000         5.000\n",
      "25%       13.000     1,046.000\n",
      "50%       27.000     1,393.000\n",
      "75%       40.000     2,079.000\n",
      "max       54.000     8,359.000\n",
      "__________________________________________________\n",
      "\n",
      "Sample_submission dataset summary statistics:\n",
      "\n",
      "                 id      sales\n",
      "count    28,512.000 28,512.000\n",
      "mean  3,015,143.500      0.000\n",
      "std       8,230.850      0.000\n",
      "min   3,000,888.000      0.000\n",
      "25%   3,008,015.750      0.000\n",
      "50%   3,015,143.500      0.000\n",
      "75%   3,022,271.250      0.000\n",
      "max   3,029,399.000      0.000\n",
      "__________________________________________________\n"
     ]
    }
   ],
   "source": [
    "#checking for the summary of the datasets:\n",
    "datasets = {'holiday': holiday, 'oil': oil, 'stores': stores, 'train': train, 'test': test, 'transactions': transactions, 'sample_submission' : sample_submission}\n",
    "\n",
    "for name, data in datasets.items():\n",
    "    print(f\"\\n{name.capitalize()} dataset summary statistics:\\n\")\n",
    "    print(data.describe())\n",
    "    print('_' * 50)"
   ]
  },
  {
   "cell_type": "markdown",
   "metadata": {},
   "source": [
    "##### Missing Values"
   ]
  },
  {
   "cell_type": "code",
   "execution_count": 159,
   "metadata": {
    "colab": {
     "base_uri": "https://localhost:8080/"
    },
    "id": "kcffAUPakf0R",
    "outputId": "bd7560ef-6251-479a-f56a-153da9ebfe7e"
   },
   "outputs": [
    {
     "name": "stdout",
     "output_type": "stream",
     "text": [
      "Missing values in stores dataset:\n",
      "store_nbr    0\n",
      "city         0\n",
      "state        0\n",
      "type         0\n",
      "cluster      0\n",
      "dtype: int64\n",
      "__________________________________________________\n",
      "Missing values in train dataset:\n",
      "id             0\n",
      "store_nbr      0\n",
      "family         0\n",
      "sales          0\n",
      "onpromotion    0\n",
      "dtype: int64\n",
      "__________________________________________________\n",
      "Missing values in test dataset:\n",
      "id             0\n",
      "store_nbr      0\n",
      "family         0\n",
      "onpromotion    0\n",
      "dtype: int64\n",
      "__________________________________________________\n",
      "Missing values in transactions dataset:\n",
      "store_nbr       0\n",
      "transactions    0\n",
      "dtype: int64\n",
      "__________________________________________________\n",
      "Missing values in oil dataset:\n",
      "date           0\n",
      "dcoilwtico    43\n",
      "dtype: int64\n",
      "__________________________________________________\n",
      "Missing values in holiday dataset:\n",
      "type           0\n",
      "locale         0\n",
      "locale_name    0\n",
      "description    0\n",
      "transferred    0\n",
      "dtype: int64\n",
      "__________________________________________________\n",
      "Missing values in sample_submission dataset:\n",
      "id       0\n",
      "sales    0\n",
      "dtype: int64\n",
      "__________________________________________________\n"
     ]
    }
   ],
   "source": [
    "# showing missing values in all dataset using a function\n",
    "\n",
    "datasets = {'stores': stores, 'train': train, 'test': test, 'transactions': transactions, 'oil': oil, 'holiday': holiday, 'sample_submission' : sample_submission}\n",
    "\n",
    "def show_missing_values(datasets):\n",
    "    for name, data in datasets.items():\n",
    "        print(f\"Missing values in {name} dataset:\")\n",
    "        print(data.isnull().sum())\n",
    "        print('_' * 50)\n",
    "\n",
    "show_missing_values(datasets)\n"
   ]
  },
  {
   "cell_type": "markdown",
   "metadata": {
    "id": "7_qmHndIlsGa"
   },
   "source": [
    "#### Comment:\n",
    "* Missing data was found in the oil datasets.\n",
    "\n",
    "#### Approach:\n",
    "* The missing data were to be replaced by the mean value per month.<br> The rationale was to represent the missing values properly by the values over the month period.\n",
    "\n",
    "\n"
   ]
  },
  {
   "cell_type": "code",
   "execution_count": 160,
   "metadata": {
    "id": "K4gK60b0XAp1"
   },
   "outputs": [],
   "source": [
    "#replacing the nan with the mean of each month of its year\n",
    "for year in range(2013, 2023):\n",
    "    for month in range(1, 13):\n",
    "        mask = (oil['date'].dt.month == month) & (oil['date'].dt.year == year)\n",
    "        mean = oil.loc[mask, 'dcoilwtico'].mean()\n",
    "        oil.loc[mask, 'dcoilwtico'] = oil.loc[mask, 'dcoilwtico'].fillna(mean)\n",
    "\n"
   ]
  },
  {
   "cell_type": "code",
   "execution_count": 161,
   "metadata": {
    "colab": {
     "base_uri": "https://localhost:8080/"
    },
    "id": "--Qi2wU0Q9TD",
    "outputId": "cd92d2f2-c0b9-4720-9b87-627102c7c6cf"
   },
   "outputs": [
    {
     "name": "stdout",
     "output_type": "stream",
     "text": [
      "date          0\n",
      "dcoilwtico    0\n",
      "dtype: int64\n"
     ]
    }
   ],
   "source": [
    "# Print the missing values in the dataset again to confirm that there are no missing values left\n",
    "print(oil.isnull().sum())"
   ]
  },
  {
   "cell_type": "markdown",
   "metadata": {
    "id": "BDhMI4ekoM_3"
   },
   "source": [
    "### Merging Data"
   ]
  },
  {
   "cell_type": "code",
   "execution_count": 162,
   "metadata": {
    "id": "6kgYoo76XmJ_"
   },
   "outputs": [],
   "source": [
    "# combine the datasets on common columns one after the other\n",
    "merged_data1 = pd.merge(train, transactions, how='outer', on=['date', 'store_nbr'])\n",
    "merged_data2 = pd.merge(merged_data1, holiday, how='outer', on='date')\n",
    "merged_data3 = pd.merge(merged_data2, oil, how='outer', on='date')\n",
    "merged_data = pd.merge(merged_data3, stores, how='outer', on='store_nbr')"
   ]
  },
  {
   "cell_type": "code",
   "execution_count": 163,
   "metadata": {
    "colab": {
     "base_uri": "https://localhost:8080/"
    },
    "id": "mdsEAYazXmM2",
    "outputId": "4306e1b9-0347-445f-a9a7-50f230f50531"
   },
   "outputs": [
    {
     "name": "stdout",
     "output_type": "stream",
     "text": [
      "<class 'pandas.core.frame.DataFrame'>\n",
      "Int64Index: 3054427 entries, 0 to 3054426\n",
      "Data columns (total 17 columns):\n",
      " #   Column        Dtype         \n",
      "---  ------        -----         \n",
      " 0   date          datetime64[ns]\n",
      " 1   id            float64       \n",
      " 2   store_nbr     float64       \n",
      " 3   family        object        \n",
      " 4   sales         float64       \n",
      " 5   onpromotion   float64       \n",
      " 6   transactions  float64       \n",
      " 7   type_x        object        \n",
      " 8   locale        object        \n",
      " 9   locale_name   object        \n",
      " 10  description   object        \n",
      " 11  transferred   object        \n",
      " 12  dcoilwtico    float64       \n",
      " 13  city          object        \n",
      " 14  state         object        \n",
      " 15  type_y        object        \n",
      " 16  cluster       float64       \n",
      "dtypes: datetime64[ns](1), float64(7), object(9)\n",
      "memory usage: 419.5+ MB\n"
     ]
    }
   ],
   "source": [
    "merged_data.info()"
   ]
  },
  {
   "cell_type": "markdown",
   "metadata": {
    "id": "dDL5F0iuqxiT"
   },
   "source": [
    "##### Renaming Columns\n",
    "\n",
    "* Two columns had to be renamed. \n",
    "* 'type_x' column was changed to holiday_type\n",
    "* 'type_y' column was changed to store_type"
   ]
  },
  {
   "cell_type": "code",
   "execution_count": 164,
   "metadata": {
    "colab": {
     "base_uri": "https://localhost:8080/",
     "height": 357
    },
    "id": "H9ASjiAjXmPN",
    "outputId": "be359bee-6cad-4d83-b3bc-f08217d0d72a"
   },
   "outputs": [
    {
     "data": {
      "text/html": [
       "<div>\n",
       "<style scoped>\n",
       "    .dataframe tbody tr th:only-of-type {\n",
       "        vertical-align: middle;\n",
       "    }\n",
       "\n",
       "    .dataframe tbody tr th {\n",
       "        vertical-align: top;\n",
       "    }\n",
       "\n",
       "    .dataframe thead th {\n",
       "        text-align: right;\n",
       "    }\n",
       "</style>\n",
       "<table border=\"1\" class=\"dataframe\">\n",
       "  <thead>\n",
       "    <tr style=\"text-align: right;\">\n",
       "      <th></th>\n",
       "      <th>date</th>\n",
       "      <th>id</th>\n",
       "      <th>store_nbr</th>\n",
       "      <th>family</th>\n",
       "      <th>sales</th>\n",
       "      <th>onpromotion</th>\n",
       "      <th>transactions</th>\n",
       "      <th>holiday_type</th>\n",
       "      <th>locale</th>\n",
       "      <th>locale_name</th>\n",
       "      <th>description</th>\n",
       "      <th>transferred</th>\n",
       "      <th>dcoilwtico</th>\n",
       "      <th>city</th>\n",
       "      <th>state</th>\n",
       "      <th>store_type</th>\n",
       "      <th>cluster</th>\n",
       "    </tr>\n",
       "  </thead>\n",
       "  <tbody>\n",
       "    <tr>\n",
       "      <th>0</th>\n",
       "      <td>2013-01-01</td>\n",
       "      <td>0.000</td>\n",
       "      <td>1.000</td>\n",
       "      <td>AUTOMOTIVE</td>\n",
       "      <td>0.000</td>\n",
       "      <td>0.000</td>\n",
       "      <td>NaN</td>\n",
       "      <td>Holiday</td>\n",
       "      <td>National</td>\n",
       "      <td>Ecuador</td>\n",
       "      <td>Primer dia del ano</td>\n",
       "      <td>False</td>\n",
       "      <td>94.757</td>\n",
       "      <td>Quito</td>\n",
       "      <td>Pichincha</td>\n",
       "      <td>D</td>\n",
       "      <td>13.000</td>\n",
       "    </tr>\n",
       "    <tr>\n",
       "      <th>1</th>\n",
       "      <td>2013-01-01</td>\n",
       "      <td>1.000</td>\n",
       "      <td>1.000</td>\n",
       "      <td>BABY CARE</td>\n",
       "      <td>0.000</td>\n",
       "      <td>0.000</td>\n",
       "      <td>NaN</td>\n",
       "      <td>Holiday</td>\n",
       "      <td>National</td>\n",
       "      <td>Ecuador</td>\n",
       "      <td>Primer dia del ano</td>\n",
       "      <td>False</td>\n",
       "      <td>94.757</td>\n",
       "      <td>Quito</td>\n",
       "      <td>Pichincha</td>\n",
       "      <td>D</td>\n",
       "      <td>13.000</td>\n",
       "    </tr>\n",
       "    <tr>\n",
       "      <th>2</th>\n",
       "      <td>2013-01-01</td>\n",
       "      <td>2.000</td>\n",
       "      <td>1.000</td>\n",
       "      <td>BEAUTY</td>\n",
       "      <td>0.000</td>\n",
       "      <td>0.000</td>\n",
       "      <td>NaN</td>\n",
       "      <td>Holiday</td>\n",
       "      <td>National</td>\n",
       "      <td>Ecuador</td>\n",
       "      <td>Primer dia del ano</td>\n",
       "      <td>False</td>\n",
       "      <td>94.757</td>\n",
       "      <td>Quito</td>\n",
       "      <td>Pichincha</td>\n",
       "      <td>D</td>\n",
       "      <td>13.000</td>\n",
       "    </tr>\n",
       "    <tr>\n",
       "      <th>3</th>\n",
       "      <td>2013-01-01</td>\n",
       "      <td>3.000</td>\n",
       "      <td>1.000</td>\n",
       "      <td>BEVERAGES</td>\n",
       "      <td>0.000</td>\n",
       "      <td>0.000</td>\n",
       "      <td>NaN</td>\n",
       "      <td>Holiday</td>\n",
       "      <td>National</td>\n",
       "      <td>Ecuador</td>\n",
       "      <td>Primer dia del ano</td>\n",
       "      <td>False</td>\n",
       "      <td>94.757</td>\n",
       "      <td>Quito</td>\n",
       "      <td>Pichincha</td>\n",
       "      <td>D</td>\n",
       "      <td>13.000</td>\n",
       "    </tr>\n",
       "    <tr>\n",
       "      <th>4</th>\n",
       "      <td>2013-01-01</td>\n",
       "      <td>4.000</td>\n",
       "      <td>1.000</td>\n",
       "      <td>BOOKS</td>\n",
       "      <td>0.000</td>\n",
       "      <td>0.000</td>\n",
       "      <td>NaN</td>\n",
       "      <td>Holiday</td>\n",
       "      <td>National</td>\n",
       "      <td>Ecuador</td>\n",
       "      <td>Primer dia del ano</td>\n",
       "      <td>False</td>\n",
       "      <td>94.757</td>\n",
       "      <td>Quito</td>\n",
       "      <td>Pichincha</td>\n",
       "      <td>D</td>\n",
       "      <td>13.000</td>\n",
       "    </tr>\n",
       "  </tbody>\n",
       "</table>\n",
       "</div>"
      ],
      "text/plain": [
       "        date    id  store_nbr      family  sales  onpromotion  transactions  \\\n",
       "0 2013-01-01 0.000      1.000  AUTOMOTIVE  0.000        0.000           NaN   \n",
       "1 2013-01-01 1.000      1.000   BABY CARE  0.000        0.000           NaN   \n",
       "2 2013-01-01 2.000      1.000      BEAUTY  0.000        0.000           NaN   \n",
       "3 2013-01-01 3.000      1.000   BEVERAGES  0.000        0.000           NaN   \n",
       "4 2013-01-01 4.000      1.000       BOOKS  0.000        0.000           NaN   \n",
       "\n",
       "  holiday_type    locale locale_name         description transferred  \\\n",
       "0      Holiday  National     Ecuador  Primer dia del ano       False   \n",
       "1      Holiday  National     Ecuador  Primer dia del ano       False   \n",
       "2      Holiday  National     Ecuador  Primer dia del ano       False   \n",
       "3      Holiday  National     Ecuador  Primer dia del ano       False   \n",
       "4      Holiday  National     Ecuador  Primer dia del ano       False   \n",
       "\n",
       "   dcoilwtico   city      state store_type  cluster  \n",
       "0      94.757  Quito  Pichincha          D   13.000  \n",
       "1      94.757  Quito  Pichincha          D   13.000  \n",
       "2      94.757  Quito  Pichincha          D   13.000  \n",
       "3      94.757  Quito  Pichincha          D   13.000  \n",
       "4      94.757  Quito  Pichincha          D   13.000  "
      ]
     },
     "execution_count": 164,
     "metadata": {},
     "output_type": "execute_result"
    }
   ],
   "source": [
    "#Renaming Columns\n",
    "merged_data = merged_data.rename(columns={\"type_x\": \"holiday_type\", \"type_y\": \"store_type\"})\n",
    "merged_data.head()"
   ]
  },
  {
   "cell_type": "code",
   "execution_count": 165,
   "metadata": {
    "colab": {
     "base_uri": "https://localhost:8080/",
     "height": 269
    },
    "id": "dMu0_tfZXmYb",
    "outputId": "ee6343d6-724c-43c2-f96f-401afc1b3032",
    "scrolled": true
   },
   "outputs": [
    {
     "data": {
      "text/html": [
       "<div>\n",
       "<style scoped>\n",
       "    .dataframe tbody tr th:only-of-type {\n",
       "        vertical-align: middle;\n",
       "    }\n",
       "\n",
       "    .dataframe tbody tr th {\n",
       "        vertical-align: top;\n",
       "    }\n",
       "\n",
       "    .dataframe thead th {\n",
       "        text-align: right;\n",
       "    }\n",
       "</style>\n",
       "<table border=\"1\" class=\"dataframe\">\n",
       "  <thead>\n",
       "    <tr style=\"text-align: right;\">\n",
       "      <th></th>\n",
       "      <th>count</th>\n",
       "      <th>mean</th>\n",
       "      <th>std</th>\n",
       "      <th>min</th>\n",
       "      <th>25%</th>\n",
       "      <th>50%</th>\n",
       "      <th>75%</th>\n",
       "      <th>max</th>\n",
       "    </tr>\n",
       "  </thead>\n",
       "  <tbody>\n",
       "    <tr>\n",
       "      <th>id</th>\n",
       "      <td>3,054,348.000</td>\n",
       "      <td>1,504,276.775</td>\n",
       "      <td>866,261.012</td>\n",
       "      <td>0.000</td>\n",
       "      <td>754,676.750</td>\n",
       "      <td>1,507,571.500</td>\n",
       "      <td>2,255,120.250</td>\n",
       "      <td>3,000,887.000</td>\n",
       "    </tr>\n",
       "    <tr>\n",
       "      <th>store_nbr</th>\n",
       "      <td>3,054,348.000</td>\n",
       "      <td>27.500</td>\n",
       "      <td>15.586</td>\n",
       "      <td>1.000</td>\n",
       "      <td>14.000</td>\n",
       "      <td>27.500</td>\n",
       "      <td>41.000</td>\n",
       "      <td>54.000</td>\n",
       "    </tr>\n",
       "    <tr>\n",
       "      <th>sales</th>\n",
       "      <td>3,054,348.000</td>\n",
       "      <td>359.021</td>\n",
       "      <td>1,107.286</td>\n",
       "      <td>0.000</td>\n",
       "      <td>0.000</td>\n",
       "      <td>11.000</td>\n",
       "      <td>196.011</td>\n",
       "      <td>124,717.000</td>\n",
       "    </tr>\n",
       "    <tr>\n",
       "      <th>onpromotion</th>\n",
       "      <td>3,054,348.000</td>\n",
       "      <td>2.617</td>\n",
       "      <td>12.255</td>\n",
       "      <td>0.000</td>\n",
       "      <td>0.000</td>\n",
       "      <td>0.000</td>\n",
       "      <td>0.000</td>\n",
       "      <td>741.000</td>\n",
       "    </tr>\n",
       "    <tr>\n",
       "      <th>transactions</th>\n",
       "      <td>2,805,231.000</td>\n",
       "      <td>1,697.071</td>\n",
       "      <td>966.832</td>\n",
       "      <td>5.000</td>\n",
       "      <td>1,046.000</td>\n",
       "      <td>1,395.000</td>\n",
       "      <td>2,081.000</td>\n",
       "      <td>8,359.000</td>\n",
       "    </tr>\n",
       "    <tr>\n",
       "      <th>dcoilwtico</th>\n",
       "      <td>2,175,837.000</td>\n",
       "      <td>67.919</td>\n",
       "      <td>25.673</td>\n",
       "      <td>26.190</td>\n",
       "      <td>46.530</td>\n",
       "      <td>53.380</td>\n",
       "      <td>95.610</td>\n",
       "      <td>110.620</td>\n",
       "    </tr>\n",
       "    <tr>\n",
       "      <th>cluster</th>\n",
       "      <td>3,054,348.000</td>\n",
       "      <td>8.481</td>\n",
       "      <td>4.650</td>\n",
       "      <td>1.000</td>\n",
       "      <td>4.000</td>\n",
       "      <td>8.500</td>\n",
       "      <td>13.000</td>\n",
       "      <td>17.000</td>\n",
       "    </tr>\n",
       "  </tbody>\n",
       "</table>\n",
       "</div>"
      ],
      "text/plain": [
       "                     count          mean         std    min         25%  \\\n",
       "id           3,054,348.000 1,504,276.775 866,261.012  0.000 754,676.750   \n",
       "store_nbr    3,054,348.000        27.500      15.586  1.000      14.000   \n",
       "sales        3,054,348.000       359.021   1,107.286  0.000       0.000   \n",
       "onpromotion  3,054,348.000         2.617      12.255  0.000       0.000   \n",
       "transactions 2,805,231.000     1,697.071     966.832  5.000   1,046.000   \n",
       "dcoilwtico   2,175,837.000        67.919      25.673 26.190      46.530   \n",
       "cluster      3,054,348.000         8.481       4.650  1.000       4.000   \n",
       "\n",
       "                       50%           75%           max  \n",
       "id           1,507,571.500 2,255,120.250 3,000,887.000  \n",
       "store_nbr           27.500        41.000        54.000  \n",
       "sales               11.000       196.011   124,717.000  \n",
       "onpromotion          0.000         0.000       741.000  \n",
       "transactions     1,395.000     2,081.000     8,359.000  \n",
       "dcoilwtico          53.380        95.610       110.620  \n",
       "cluster              8.500        13.000        17.000  "
      ]
     },
     "execution_count": 165,
     "metadata": {},
     "output_type": "execute_result"
    }
   ],
   "source": [
    "merged_data.describe().T"
   ]
  },
  {
   "cell_type": "markdown",
   "metadata": {},
   "source": [
    "#### Missing Values after merge"
   ]
  },
  {
   "cell_type": "code",
   "execution_count": 166,
   "metadata": {},
   "outputs": [
    {
     "data": {
      "text/plain": [
       "date            0.000\n",
       "id              0.003\n",
       "store_nbr       0.003\n",
       "family          0.003\n",
       "sales           0.003\n",
       "onpromotion     0.003\n",
       "transactions    8.159\n",
       "holiday_type   83.545\n",
       "locale         83.545\n",
       "locale_name    83.545\n",
       "description    83.545\n",
       "transferred    83.545\n",
       "dcoilwtico     28.764\n",
       "city            0.003\n",
       "state           0.003\n",
       "store_type      0.003\n",
       "cluster         0.003\n",
       "dtype: float64"
      ]
     },
     "execution_count": 166,
     "metadata": {},
     "output_type": "execute_result"
    }
   ],
   "source": [
    "merged_data.isna().sum()/len(merged_data)*100"
   ]
  },
  {
   "cell_type": "markdown",
   "metadata": {},
   "source": [
    "#### Approach:\n",
    "* Drop missing values in sales column\n",
    "* Create new category for missing values in holidays"
   ]
  },
  {
   "cell_type": "code",
   "execution_count": 167,
   "metadata": {},
   "outputs": [],
   "source": [
    "#drop missing values in sales\n",
    "merged_data.dropna(subset=['sales'],inplace=True)"
   ]
  },
  {
   "cell_type": "code",
   "execution_count": 168,
   "metadata": {},
   "outputs": [],
   "source": [
    "#All unique columns in the holiday column\n",
    "merged_data['holiday_type'].unique()\n",
    "\n",
    "#Replacing missing values with a new category\n",
    "merged_data['holiday_type'].replace(np.nan,'Not Holiday', inplace=True)\n",
    "\n"
   ]
  },
  {
   "cell_type": "code",
   "execution_count": 169,
   "metadata": {},
   "outputs": [
    {
     "data": {
      "text/plain": [
       "date                  0\n",
       "id                    0\n",
       "store_nbr             0\n",
       "family                0\n",
       "sales                 0\n",
       "onpromotion           0\n",
       "transactions     249117\n",
       "holiday_type          0\n",
       "locale          2551824\n",
       "locale_name     2551824\n",
       "description     2551824\n",
       "transferred     2551824\n",
       "dcoilwtico       878526\n",
       "city                  0\n",
       "state                 0\n",
       "store_type            0\n",
       "cluster               0\n",
       "dtype: int64"
      ]
     },
     "execution_count": 169,
     "metadata": {},
     "output_type": "execute_result"
    }
   ],
   "source": [
    "merged_data.isna().sum()"
   ]
  },
  {
   "cell_type": "markdown",
   "metadata": {
    "id": "u3Pk5r-7u12w"
   },
   "source": [
    "### Analysis"
   ]
  },
  {
   "cell_type": "markdown",
   "metadata": {
    "id": "0kB6FkWtvFNF"
   },
   "source": [
    "### 1. Is the train dataset complete (has all the required dates)?"
   ]
  },
  {
   "cell_type": "code",
   "execution_count": 170,
   "metadata": {
    "colab": {
     "base_uri": "https://localhost:8080/"
    },
    "id": "s7VlHoRPykaD",
    "outputId": "b93815bf-1e03-4bdb-ebaf-8ae994bfbe86"
   },
   "outputs": [
    {
     "name": "stdout",
     "output_type": "stream",
     "text": [
      "The time series is not complete. The following dates are missing:\n",
      "DatetimeIndex(['2013-12-25', '2014-12-25', '2015-12-25', '2016-12-25'], dtype='datetime64[ns]', freq=None)\n"
     ]
    }
   ],
   "source": [
    "# Create a date range from the first date to the last date in the series\n",
    "date_range = pd.date_range(start=train.index.min(), end=train.index.max())\n",
    "\n",
    "# Check if there are any dates in the range that are not in the index\n",
    "missing_dates = date_range.difference(train.index)\n",
    "\n",
    "if len(missing_dates) == 0:\n",
    "    print(\"The time series is complete.\")\n",
    "else:\n",
    "    print(\"The time series is not complete. The following dates are missing:\")\n",
    "    print(missing_dates)"
   ]
  },
  {
   "cell_type": "markdown",
   "metadata": {},
   "source": [
    "### 2.  Which dates have the lowest and highest sales for each year?"
   ]
  },
  {
   "cell_type": "code",
   "execution_count": 171,
   "metadata": {
    "colab": {
     "base_uri": "https://localhost:8080/"
    },
    "id": "RnI0MR_nu0Ef",
    "outputId": "235d1cf8-1aba-42d9-9c9c-dc30583afff0"
   },
   "outputs": [],
   "source": [
    "merged_data['year'] = pd.to_datetime(merged_data['date']).dt.year\n",
    "\n",
    "\n",
    "\n",
    "#Group merged_data by year and date\n",
    "grouped_data = merged_data.groupby(['year', 'date'])\n",
    "\n",
    "#Calculate total sales for each date\n",
    "sales_by_date = grouped_data['sales'].sum()\n",
    "\n",
    "\n",
    "# Putting everything in a dataframe\n",
    "pd.set_option('display.float_format', lambda x: f'{x:,.3f}')\n",
    "lowest_sales = pd.DataFrame(sales_by_date.groupby('year').nsmallest(1))\n",
    "highest_sales = pd.DataFrame(sales_by_date.groupby('year').nlargest(1))\n",
    "\n",
    "\n",
    "\n",
    "# # Print dates with lowest and highest sales for each year\n",
    "# # for year in merged_data['year'].unique():\n",
    "# #     print(\"Year:\", year)\n",
    "# # print(\"Lowest sales:\", lowest_sales['sales'])\n",
    "# # print(\"Highest sales:\", highest_sales['sales'])\n",
    "# # print(\"-\" * 50)\n"
   ]
  },
  {
   "cell_type": "code",
   "execution_count": 172,
   "metadata": {},
   "outputs": [
    {
     "data": {
      "text/html": [
       "<div>\n",
       "<style scoped>\n",
       "    .dataframe tbody tr th:only-of-type {\n",
       "        vertical-align: middle;\n",
       "    }\n",
       "\n",
       "    .dataframe tbody tr th {\n",
       "        vertical-align: top;\n",
       "    }\n",
       "\n",
       "    .dataframe thead th {\n",
       "        text-align: right;\n",
       "    }\n",
       "</style>\n",
       "<table border=\"1\" class=\"dataframe\">\n",
       "  <thead>\n",
       "    <tr style=\"text-align: right;\">\n",
       "      <th></th>\n",
       "      <th></th>\n",
       "      <th></th>\n",
       "      <th>sales</th>\n",
       "    </tr>\n",
       "    <tr>\n",
       "      <th>year</th>\n",
       "      <th>year</th>\n",
       "      <th>date</th>\n",
       "      <th></th>\n",
       "    </tr>\n",
       "  </thead>\n",
       "  <tbody>\n",
       "    <tr>\n",
       "      <th>2013</th>\n",
       "      <th>2013</th>\n",
       "      <th>2013-12-22</th>\n",
       "      <td>1,392,590.294</td>\n",
       "    </tr>\n",
       "    <tr>\n",
       "      <th>2014</th>\n",
       "      <th>2014</th>\n",
       "      <th>2014-12-22</th>\n",
       "      <td>2,016,286.692</td>\n",
       "    </tr>\n",
       "    <tr>\n",
       "      <th>2015</th>\n",
       "      <th>2015</th>\n",
       "      <th>2015-12-22</th>\n",
       "      <td>2,283,723.819</td>\n",
       "    </tr>\n",
       "    <tr>\n",
       "      <th>2016</th>\n",
       "      <th>2016</th>\n",
       "      <th>2016-06-25</th>\n",
       "      <td>2,580,890.505</td>\n",
       "    </tr>\n",
       "    <tr>\n",
       "      <th>2017</th>\n",
       "      <th>2017</th>\n",
       "      <th>2017-06-25</th>\n",
       "      <td>3,277,832.576</td>\n",
       "    </tr>\n",
       "  </tbody>\n",
       "</table>\n",
       "</div>"
      ],
      "text/plain": [
       "                             sales\n",
       "year year date                    \n",
       "2013 2013 2013-12-22 1,392,590.294\n",
       "2014 2014 2014-12-22 2,016,286.692\n",
       "2015 2015 2015-12-22 2,283,723.819\n",
       "2016 2016 2016-06-25 2,580,890.505\n",
       "2017 2017 2017-06-25 3,277,832.576"
      ]
     },
     "execution_count": 172,
     "metadata": {},
     "output_type": "execute_result"
    }
   ],
   "source": [
    "#Dates with highest sales\n",
    "highest_sales"
   ]
  },
  {
   "cell_type": "code",
   "execution_count": 173,
   "metadata": {},
   "outputs": [
    {
     "data": {
      "text/html": [
       "<div>\n",
       "<style scoped>\n",
       "    .dataframe tbody tr th:only-of-type {\n",
       "        vertical-align: middle;\n",
       "    }\n",
       "\n",
       "    .dataframe tbody tr th {\n",
       "        vertical-align: top;\n",
       "    }\n",
       "\n",
       "    .dataframe thead th {\n",
       "        text-align: right;\n",
       "    }\n",
       "</style>\n",
       "<table border=\"1\" class=\"dataframe\">\n",
       "  <thead>\n",
       "    <tr style=\"text-align: right;\">\n",
       "      <th></th>\n",
       "      <th></th>\n",
       "      <th></th>\n",
       "      <th>sales</th>\n",
       "    </tr>\n",
       "    <tr>\n",
       "      <th>year</th>\n",
       "      <th>year</th>\n",
       "      <th>date</th>\n",
       "      <th></th>\n",
       "    </tr>\n",
       "  </thead>\n",
       "  <tbody>\n",
       "    <tr>\n",
       "      <th>2013</th>\n",
       "      <th>2013</th>\n",
       "      <th>2013-01-01</th>\n",
       "      <td>2,511.619</td>\n",
       "    </tr>\n",
       "    <tr>\n",
       "      <th>2014</th>\n",
       "      <th>2014</th>\n",
       "      <th>2014-01-01</th>\n",
       "      <td>8,602.065</td>\n",
       "    </tr>\n",
       "    <tr>\n",
       "      <th>2015</th>\n",
       "      <th>2015</th>\n",
       "      <th>2015-01-01</th>\n",
       "      <td>12,773.617</td>\n",
       "    </tr>\n",
       "    <tr>\n",
       "      <th>2016</th>\n",
       "      <th>2016</th>\n",
       "      <th>2016-01-01</th>\n",
       "      <td>16,433.394</td>\n",
       "    </tr>\n",
       "    <tr>\n",
       "      <th>2017</th>\n",
       "      <th>2017</th>\n",
       "      <th>2017-01-01</th>\n",
       "      <td>12,082.501</td>\n",
       "    </tr>\n",
       "  </tbody>\n",
       "</table>\n",
       "</div>"
      ],
      "text/plain": [
       "                          sales\n",
       "year year date                 \n",
       "2013 2013 2013-01-01  2,511.619\n",
       "2014 2014 2014-01-01  8,602.065\n",
       "2015 2015 2015-01-01 12,773.617\n",
       "2016 2016 2016-01-01 16,433.394\n",
       "2017 2017 2017-01-01 12,082.501"
      ]
     },
     "execution_count": 173,
     "metadata": {},
     "output_type": "execute_result"
    }
   ],
   "source": [
    "#Dates with lowest sales\n",
    "lowest_sales"
   ]
  },
  {
   "cell_type": "code",
   "execution_count": 175,
   "metadata": {
    "colab": {
     "base_uri": "https://localhost:8080/",
     "height": 1000,
     "referenced_widgets": [
      "eae78674257a499593ec73d6e5829170",
      "c3803588432a452e834aff4477de3ccd"
     ]
    },
    "id": "o4E_qHKrm57g",
    "outputId": "27e9038a-30ef-49fc-935a-886256a5fafb"
   },
   "outputs": [
    {
     "data": {
      "application/vnd.jupyter.widget-view+json": {
       "model_id": "7f2463d03dd742e89f052f831dee8f30",
       "version_major": 2,
       "version_minor": 0
      },
      "text/plain": [
       "Output()"
      ]
     },
     "metadata": {},
     "output_type": "display_data"
    }
   ],
   "source": [
    "# Group the merged_data by year and date, and calculate the minimum and maximum sales for each date\n",
    "sales_by_date = merged_data.groupby(['year', 'date'])['sales'].agg(['min', 'max'])\n",
    "\n",
    "# Create a slide object\n",
    "slide = widgets.Output()\n",
    "\n",
    "# Loop through each year, and plot the minimum and maximum sales for each date as two lines\n",
    "for year in sales_by_date.index.get_level_values('year').unique():\n",
    "    data = sales_by_date.loc[year]\n",
    "    fig, ax = plt.subplots(figsize=(8, 2))\n",
    "    ax.plot(data.index.get_level_values('date'), data['min'], label=f'Min Sales {year}')\n",
    "    ax.plot(data.index.get_level_values('date'), data['max'], label=f'Max Sales {year}')\n",
    "    ax.set_title(f'Lowest and Highest Sales for {year}')\n",
    "    ax.set_xlabel('Date')\n",
    "    ax.set_ylabel('Sales')\n",
    "    ax.legend()\n",
    "    # Display the figure in the slide\n",
    "    with slide:\n",
    "        display(fig)\n",
    "    plt.close(fig)\n",
    "\n",
    "# Display the slide\n",
    "display(slide)\n"
   ]
  },
  {
   "cell_type": "markdown",
   "metadata": {},
   "source": [
    "#### Insights:\n",
    " * From 2013 to 2015, the highest sales have been recorded in December.\n",
    " * However, the trends changed in 2016 and 2017 where the highest sales were recorded in June.\n",
    " * Perhaps, more promotions were carried out in June as compared to December"
   ]
  },
  {
   "cell_type": "markdown",
   "metadata": {
    "id": "P92F4izS1oAm"
   },
   "source": [
    "### 3. Did the earthquake impact sales?\n",
    "\n",
    " A magnitude 7.8 earthquake struck Ecuador on April 16, 2016. People rallied in relief efforts donating water and other first need products which greatly affected supermarket sales for several weeks after the earthquake."
   ]
  },
  {
   "cell_type": "code",
   "execution_count": 176,
   "metadata": {
    "colab": {
     "base_uri": "https://localhost:8080/"
    },
    "id": "u9qo-Y4HhWxm",
    "outputId": "93c49ec9-4832-40cc-d64d-e0cd49052dc3"
   },
   "outputs": [
    {
     "name": "stdout",
     "output_type": "stream",
     "text": [
      "The sales for the date 2016-04-16 is $862,121.49\n"
     ]
    }
   ],
   "source": [
    "# merged_data[merged_data['date'] == '2016-04-16']['sales'].sum()\n",
    "date = '2016-04-16'\n",
    "sales_sum = merged_data[merged_data['date'] == date]['sales'].sum()\n",
    "print(\"The sales for the date {} is ${:,.2f}\".format(date, sales_sum))\n"
   ]
  },
  {
   "cell_type": "code",
   "execution_count": 177,
   "metadata": {
    "colab": {
     "base_uri": "https://localhost:8080/",
     "height": 389
    },
    "id": "s9dFLntm_Vmo",
    "outputId": "238c53de-306c-4459-bff9-2e7efad7e4b6"
   },
   "outputs": [
    {
     "data": {
      "image/png": "[encoded data removed]",
      "text/plain": [
       "<Figure size 2000x600 with 1 Axes>"
      ]
     },
     "metadata": {},
     "output_type": "display_data"
    }
   ],
   "source": [
    "#define earthquake date\n",
    "earthquake = [pd.to_datetime('2016-04-16')]\n",
    "\n",
    "#Obtain 2016 dataset\n",
    "data16 = merged_data[merged_data['year'] ==2016]\n",
    "\n",
    "#Plotting\n",
    "ax = data16.groupby(['date'],as_index=False)['sales'].sum().plot(\n",
    "    'date', 'sales', figsize=(20,6))\n",
    "ax.axvline(earthquake, color='purple', linestyle='--')\n",
    "ax.legend(['sales', 'earthquake'])\n",
    "plt.title('Sales Trend in 2016',fontsize = 20)\n",
    "plt.xlabel('Month',fontsize = 15)\n",
    "plt.ylabel('Sales in Millions', fontsize=15);"
   ]
  },
  {
   "cell_type": "markdown",
   "metadata": {
    "id": "8s7CfCOrbl7A"
   },
   "source": [
    "#### Insights\n",
    "From the Graph:\n",
    "* Sales were on a steady rise from previous weeks prior the earthquake.\n",
    "* A few days after the earthquake, sales took a dip but rose steadily for about a week and suffered a major dip until May.\n",
    " "
   ]
  },
  {
   "cell_type": "markdown",
   "metadata": {
    "id": "iW6C56bT3Tqd"
   },
   "source": [
    "### 4. Are certain groups of stores selling more products? (Cluster, city, state, type)"
   ]
  },
  {
   "cell_type": "markdown",
   "metadata": {},
   "source": [
    "#### Collective grouping of cluster, city,state,type by transactions made"
   ]
  },
  {
   "cell_type": "code",
   "execution_count": 178,
   "metadata": {
    "colab": {
     "base_uri": "https://localhost:8080/"
    },
    "id": "I3SQeRiz5vo3",
    "outputId": "166b5d08-9e78-4c49-9896-ff585e180ea2"
   },
   "outputs": [
    {
     "name": "stdout",
     "output_type": "stream",
     "text": [
      "cluster  city           state                           type\n",
      "1        Daule          Guayas                          D        2485687\n",
      "         Guayaquil      Guayas                          D        3568206\n",
      "         Salinas        Santa Elena                     D        1520362\n",
      "2        Cuenca         Azuay                           D        3284365\n",
      "3        El Carmen      Manabi                          C        1451290\n",
      "         Guayaquil      Guayas                          C        2236356\n",
      "         Machala        El Oro                          C        2181195\n",
      "         Playas         Guayas                          C        1123889\n",
      "         Quevedo        Los Rios                        C        1743003\n",
      "         Santo Domingo  Santo Domingo de los Tsachilas  C        1464498\n",
      "4        Loja           Loja                            D        2867052\n",
      "         Machala        El Oro                          D        1764146\n",
      "         Santo Domingo  Santo Domingo de los Tsachilas  D        2347877\n",
      "5        Quito          Pichincha                       A        7273093\n",
      "6        Cayambe        Pichincha                       B        3972488\n",
      "         Cuenca         Azuay                           B        2389482\n",
      "         Guayaquil      Guayas                          B        3864018\n",
      "         Quito          Pichincha                       B        4938701\n",
      "         Santo Domingo  Santo Domingo de los Tsachilas  B         842891\n",
      "7        Puyo           Pastaza                         C         504156\n",
      "         Riobamba       Chimborazo                      C        2287850\n",
      "8        Quito          Pichincha                       D       13000314\n",
      "9        Ambato         Tungurahua                      D        1788171\n",
      "         Quito          Pichincha                       D        2519007\n",
      "10       Babahoyo       Los Rios                        B        2306044\n",
      "         Esmeraldas     Esmeraldas                      E        2182356\n",
      "         Guayaquil      Guayas                          D        1065059\n",
      "                                                        E        2939042\n",
      "         Libertad       Guayas                          E        1738129\n",
      "11       Manta          Manabi                          A         275393\n",
      "         Quito          Pichincha                       A       10775218\n",
      "12       Quito          Pichincha                       C        2295485\n",
      "13       Manta          Manabi                          D        1180082\n",
      "         Quito          Pichincha                       D        8839760\n",
      "14       Ambato         Tungurahua                      A        4384444\n",
      "         Quito          Pichincha                       A       17633708\n",
      "15       Guaranda       Bolivar                         C        2107489\n",
      "         Ibarra         Imbabura                        C        2209898\n",
      "         Latacunga      Cotopaxi                        C        3531356\n",
      "         Quito          Pichincha                       C        1652493\n",
      "16       Quito          Pichincha                       B        2071278\n",
      "17       Guayaquil      Guayas                          A        2873614\n",
      "Name: transactions, dtype: int64\n"
     ]
    }
   ],
   "source": [
    "# Here, the stores and transactions were merged to help analysis\n",
    "merged = pd.merge(stores, transactions, on='store_nbr')\n",
    "\n",
    "# group the merged dataset by cluster, city, state, and type and calculate the sum of transactions for each group\n",
    "grouped = merged.groupby(['cluster', 'city', 'state', 'type'])['transactions'].sum()\n",
    "\n",
    "# print the grouped data\n",
    "print(grouped)\n"
   ]
  },
  {
   "cell_type": "markdown",
   "metadata": {},
   "source": [
    "#### Group transactions made by city"
   ]
  },
  {
   "cell_type": "code",
   "execution_count": 179,
   "metadata": {
    "colab": {
     "base_uri": "https://localhost:8080/",
     "height": 559
    },
    "id": "WMa5HYb05vrY",
    "outputId": "37baaf82-1a90-49f4-a30d-aa099d8b9b66"
   },
   "outputs": [
    {
     "data": {
      "text/html": [
       "<div>\n",
       "<style scoped>\n",
       "    .dataframe tbody tr th:only-of-type {\n",
       "        vertical-align: middle;\n",
       "    }\n",
       "\n",
       "    .dataframe tbody tr th {\n",
       "        vertical-align: top;\n",
       "    }\n",
       "\n",
       "    .dataframe thead th {\n",
       "        text-align: right;\n",
       "    }\n",
       "</style>\n",
       "<table border=\"1\" class=\"dataframe\">\n",
       "  <thead>\n",
       "    <tr style=\"text-align: right;\">\n",
       "      <th></th>\n",
       "      <th>city</th>\n",
       "      <th>transactions</th>\n",
       "    </tr>\n",
       "  </thead>\n",
       "  <tbody>\n",
       "    <tr>\n",
       "      <th>18</th>\n",
       "      <td>Quito</td>\n",
       "      <td>70999057</td>\n",
       "    </tr>\n",
       "    <tr>\n",
       "      <th>8</th>\n",
       "      <td>Guayaquil</td>\n",
       "      <td>16546295</td>\n",
       "    </tr>\n",
       "    <tr>\n",
       "      <th>0</th>\n",
       "      <td>Ambato</td>\n",
       "      <td>6172615</td>\n",
       "    </tr>\n",
       "    <tr>\n",
       "      <th>3</th>\n",
       "      <td>Cuenca</td>\n",
       "      <td>5673847</td>\n",
       "    </tr>\n",
       "    <tr>\n",
       "      <th>21</th>\n",
       "      <td>Santo Domingo</td>\n",
       "      <td>4655266</td>\n",
       "    </tr>\n",
       "    <tr>\n",
       "      <th>2</th>\n",
       "      <td>Cayambe</td>\n",
       "      <td>3972488</td>\n",
       "    </tr>\n",
       "    <tr>\n",
       "      <th>13</th>\n",
       "      <td>Machala</td>\n",
       "      <td>3945341</td>\n",
       "    </tr>\n",
       "    <tr>\n",
       "      <th>10</th>\n",
       "      <td>Latacunga</td>\n",
       "      <td>3531356</td>\n",
       "    </tr>\n",
       "    <tr>\n",
       "      <th>12</th>\n",
       "      <td>Loja</td>\n",
       "      <td>2867052</td>\n",
       "    </tr>\n",
       "    <tr>\n",
       "      <th>4</th>\n",
       "      <td>Daule</td>\n",
       "      <td>2485687</td>\n",
       "    </tr>\n",
       "    <tr>\n",
       "      <th>1</th>\n",
       "      <td>Babahoyo</td>\n",
       "      <td>2306044</td>\n",
       "    </tr>\n",
       "    <tr>\n",
       "      <th>19</th>\n",
       "      <td>Riobamba</td>\n",
       "      <td>2287850</td>\n",
       "    </tr>\n",
       "    <tr>\n",
       "      <th>9</th>\n",
       "      <td>Ibarra</td>\n",
       "      <td>2209898</td>\n",
       "    </tr>\n",
       "    <tr>\n",
       "      <th>6</th>\n",
       "      <td>Esmeraldas</td>\n",
       "      <td>2182356</td>\n",
       "    </tr>\n",
       "    <tr>\n",
       "      <th>7</th>\n",
       "      <td>Guaranda</td>\n",
       "      <td>2107489</td>\n",
       "    </tr>\n",
       "    <tr>\n",
       "      <th>17</th>\n",
       "      <td>Quevedo</td>\n",
       "      <td>1743003</td>\n",
       "    </tr>\n",
       "    <tr>\n",
       "      <th>11</th>\n",
       "      <td>Libertad</td>\n",
       "      <td>1738129</td>\n",
       "    </tr>\n",
       "    <tr>\n",
       "      <th>20</th>\n",
       "      <td>Salinas</td>\n",
       "      <td>1520362</td>\n",
       "    </tr>\n",
       "    <tr>\n",
       "      <th>14</th>\n",
       "      <td>Manta</td>\n",
       "      <td>1455475</td>\n",
       "    </tr>\n",
       "    <tr>\n",
       "      <th>5</th>\n",
       "      <td>El Carmen</td>\n",
       "      <td>1451290</td>\n",
       "    </tr>\n",
       "    <tr>\n",
       "      <th>15</th>\n",
       "      <td>Playas</td>\n",
       "      <td>1123889</td>\n",
       "    </tr>\n",
       "    <tr>\n",
       "      <th>16</th>\n",
       "      <td>Puyo</td>\n",
       "      <td>504156</td>\n",
       "    </tr>\n",
       "  </tbody>\n",
       "</table>\n",
       "</div>"
      ],
      "text/plain": [
       "             city  transactions\n",
       "18          Quito      70999057\n",
       "8       Guayaquil      16546295\n",
       "0          Ambato       6172615\n",
       "3          Cuenca       5673847\n",
       "21  Santo Domingo       4655266\n",
       "2         Cayambe       3972488\n",
       "13        Machala       3945341\n",
       "10      Latacunga       3531356\n",
       "12           Loja       2867052\n",
       "4           Daule       2485687\n",
       "1        Babahoyo       2306044\n",
       "19       Riobamba       2287850\n",
       "9          Ibarra       2209898\n",
       "6      Esmeraldas       2182356\n",
       "7        Guaranda       2107489\n",
       "17        Quevedo       1743003\n",
       "11       Libertad       1738129\n",
       "20        Salinas       1520362\n",
       "14          Manta       1455475\n",
       "5       El Carmen       1451290\n",
       "15         Playas       1123889\n",
       "16           Puyo        504156"
      ]
     },
     "execution_count": 179,
     "metadata": {},
     "output_type": "execute_result"
    }
   ],
   "source": [
    "# Aggregate sales data by city\n",
    "sales_by_city = merged.groupby('city')['transactions'].sum().reset_index().sort_values(by = 'transactions', ascending = False)\n",
    "sales_by_city"
   ]
  },
  {
   "cell_type": "code",
   "execution_count": 180,
   "metadata": {},
   "outputs": [
    {
     "data": {
      "image/png": "[encoded data removed]",
      "text/plain": [
       "<Figure size 1400x500 with 1 Axes>"
      ]
     },
     "metadata": {},
     "output_type": "display_data"
    }
   ],
   "source": [
    "# Create bubble plot\n",
    "plt.figure(figsize=(14,5))\n",
    "sns.scatterplot(x='city', y='transactions', size='transactions', sizes=(50, 1000), data=sales_by_city, palette='Set2')\n",
    "plt.title('Total Sales by City', fontsize=15)\n",
    "plt.xlabel('City',fontsize=12)\n",
    "plt.ylabel('Total Transactions in ten million',fontsize=12)\n",
    "plt.xticks(rotation=45)\n",
    "plt.show()"
   ]
  },
  {
   "cell_type": "markdown",
   "metadata": {},
   "source": [
    "#### Insights\n",
    "\n",
    "* The City Quita recorded the highest sale transactions with Puyo recording the lowest"
   ]
  },
  {
   "cell_type": "markdown",
   "metadata": {},
   "source": [
    "#### Group transactions by State"
   ]
  },
  {
   "cell_type": "code",
   "execution_count": 181,
   "metadata": {
    "colab": {
     "base_uri": "https://localhost:8080/"
    },
    "id": "oHVdBXd85vw_",
    "outputId": "f5a1fd20-3714-4cc5-c9f7-9b5900f40dfc"
   },
   "outputs": [
    {
     "data": {
      "text/html": [
       "<div>\n",
       "<style scoped>\n",
       "    .dataframe tbody tr th:only-of-type {\n",
       "        vertical-align: middle;\n",
       "    }\n",
       "\n",
       "    .dataframe tbody tr th {\n",
       "        vertical-align: top;\n",
       "    }\n",
       "\n",
       "    .dataframe thead th {\n",
       "        text-align: right;\n",
       "    }\n",
       "</style>\n",
       "<table border=\"1\" class=\"dataframe\">\n",
       "  <thead>\n",
       "    <tr style=\"text-align: right;\">\n",
       "      <th></th>\n",
       "      <th>state</th>\n",
       "      <th>transactions</th>\n",
       "    </tr>\n",
       "  </thead>\n",
       "  <tbody>\n",
       "    <tr>\n",
       "      <th>12</th>\n",
       "      <td>Pichincha</td>\n",
       "      <td>74971545</td>\n",
       "    </tr>\n",
       "    <tr>\n",
       "      <th>6</th>\n",
       "      <td>Guayas</td>\n",
       "      <td>21894000</td>\n",
       "    </tr>\n",
       "    <tr>\n",
       "      <th>15</th>\n",
       "      <td>Tungurahua</td>\n",
       "      <td>6172615</td>\n",
       "    </tr>\n",
       "    <tr>\n",
       "      <th>0</th>\n",
       "      <td>Azuay</td>\n",
       "      <td>5673847</td>\n",
       "    </tr>\n",
       "    <tr>\n",
       "      <th>14</th>\n",
       "      <td>Santo Domingo de los Tsachilas</td>\n",
       "      <td>4655266</td>\n",
       "    </tr>\n",
       "    <tr>\n",
       "      <th>9</th>\n",
       "      <td>Los Rios</td>\n",
       "      <td>4049047</td>\n",
       "    </tr>\n",
       "    <tr>\n",
       "      <th>4</th>\n",
       "      <td>El Oro</td>\n",
       "      <td>3945341</td>\n",
       "    </tr>\n",
       "    <tr>\n",
       "      <th>3</th>\n",
       "      <td>Cotopaxi</td>\n",
       "      <td>3531356</td>\n",
       "    </tr>\n",
       "    <tr>\n",
       "      <th>10</th>\n",
       "      <td>Manabi</td>\n",
       "      <td>2906765</td>\n",
       "    </tr>\n",
       "    <tr>\n",
       "      <th>8</th>\n",
       "      <td>Loja</td>\n",
       "      <td>2867052</td>\n",
       "    </tr>\n",
       "    <tr>\n",
       "      <th>2</th>\n",
       "      <td>Chimborazo</td>\n",
       "      <td>2287850</td>\n",
       "    </tr>\n",
       "    <tr>\n",
       "      <th>7</th>\n",
       "      <td>Imbabura</td>\n",
       "      <td>2209898</td>\n",
       "    </tr>\n",
       "    <tr>\n",
       "      <th>5</th>\n",
       "      <td>Esmeraldas</td>\n",
       "      <td>2182356</td>\n",
       "    </tr>\n",
       "    <tr>\n",
       "      <th>1</th>\n",
       "      <td>Bolivar</td>\n",
       "      <td>2107489</td>\n",
       "    </tr>\n",
       "    <tr>\n",
       "      <th>13</th>\n",
       "      <td>Santa Elena</td>\n",
       "      <td>1520362</td>\n",
       "    </tr>\n",
       "    <tr>\n",
       "      <th>11</th>\n",
       "      <td>Pastaza</td>\n",
       "      <td>504156</td>\n",
       "    </tr>\n",
       "  </tbody>\n",
       "</table>\n",
       "</div>"
      ],
      "text/plain": [
       "                             state  transactions\n",
       "12                       Pichincha      74971545\n",
       "6                           Guayas      21894000\n",
       "15                      Tungurahua       6172615\n",
       "0                            Azuay       5673847\n",
       "14  Santo Domingo de los Tsachilas       4655266\n",
       "9                         Los Rios       4049047\n",
       "4                           El Oro       3945341\n",
       "3                         Cotopaxi       3531356\n",
       "10                          Manabi       2906765\n",
       "8                             Loja       2867052\n",
       "2                       Chimborazo       2287850\n",
       "7                         Imbabura       2209898\n",
       "5                       Esmeraldas       2182356\n",
       "1                          Bolivar       2107489\n",
       "13                     Santa Elena       1520362\n",
       "11                         Pastaza        504156"
      ]
     },
     "execution_count": 181,
     "metadata": {},
     "output_type": "execute_result"
    }
   ],
   "source": [
    "# Group merged dataset by state and sum transactions\n",
    "state_transactions = merged.groupby('state')['transactions'].sum().reset_index().sort_values(by = 'transactions', ascending = False)\n",
    "state_transactions"
   ]
  },
  {
   "cell_type": "code",
   "execution_count": 182,
   "metadata": {
    "colab": {
     "base_uri": "https://localhost:8080/",
     "height": 564
    },
    "id": "-rg1z1b_fnDM",
    "outputId": "5e9adf06-9469-4626-d5bc-4e921436d80e"
   },
   "outputs": [
    {
     "data": {
      "image/png": "[encoded data removed]",
      "text/plain": [
       "<Figure size 1000x600 with 1 Axes>"
      ]
     },
     "metadata": {},
     "output_type": "display_data"
    }
   ],
   "source": [
    "#Create a horizontal bar chart with Seaborn\n",
    "sns.set_style('whitegrid')\n",
    "plt.figure(figsize=(10,6))\n",
    "sns.barplot(data=state_transactions,x ='transactions',y ='state', palette ='pastel')\n",
    "plt.title('Total Sales by State',fontsize =15)\n",
    "plt.xlabel('Total Sales in ten millions', fontsize =12)\n",
    "plt.ylabel('State',fontsize =12)\n",
    "plt.show()\n"
   ]
  },
  {
   "cell_type": "markdown",
   "metadata": {},
   "source": [
    "#### Insights\n",
    "\n",
    "The state with the highest sale transsactions is Pinchincha with Pastaza recording the lowest number of transactions"
   ]
  },
  {
   "cell_type": "markdown",
   "metadata": {},
   "source": [
    "#### Group transactions by store"
   ]
  },
  {
   "cell_type": "code",
   "execution_count": 183,
   "metadata": {
    "colab": {
     "base_uri": "https://localhost:8080/"
    },
    "id": "9TbdOibs5v2Y",
    "outputId": "0c29faed-c0c1-4026-e289-7ad52a269e9a"
   },
   "outputs": [],
   "source": [
    "trans_store = merged.groupby('type')['transactions'].sum().reset_index()"
   ]
  },
  {
   "cell_type": "code",
   "execution_count": 184,
   "metadata": {
    "colab": {
     "base_uri": "https://localhost:8080/",
     "height": 675
    },
    "id": "883rLKhV5v7O",
    "outputId": "494014de-f3fb-4c0f-a611-6df784f7dbb7"
   },
   "outputs": [
    {
     "data": {
      "image/png": "[encoded data removed]",
      "text/plain": [
       "<Figure size 800x600 with 1 Axes>"
      ]
     },
     "metadata": {},
     "output_type": "display_data"
    }
   ],
   "source": [
    "# Set up the color gradient\n",
    "colors = sns.color_palette('Blues', len(trans_store))\n",
    "color_map = dict(zip(trans_store['type'], colors))\n",
    "\n",
    "# Create the treemap\n",
    "fig, ax = plt.subplots(figsize=(8, 6))\n",
    "squarify.plot(sizes=trans_store['transactions'], label=trans_store['type'], alpha=0.8, color=[color_map[type] for type in trans_store['type']])\n",
    "plt.axis('off')\n",
    "plt.title('Total Sales by Store Type')\n",
    "plt.show()\n"
   ]
  },
  {
   "cell_type": "markdown",
   "metadata": {},
   "source": [
    "#### Insights\n",
    "\n",
    "The store type D was found to record the highest number of transactions"
   ]
  },
  {
   "cell_type": "markdown",
   "metadata": {
    "id": "WrqsVvcxJtLV"
   },
   "source": [
    "### 5. Are sales affected by promotions, oil prices and holidays?"
   ]
  },
  {
   "cell_type": "code",
   "execution_count": 185,
   "metadata": {
    "colab": {
     "base_uri": "https://localhost:8080/"
    },
    "id": "zoXajKudKLuO",
    "outputId": "5cab933b-9648-4f44-f043-e53b48119544"
   },
   "outputs": [
    {
     "name": "stdout",
     "output_type": "stream",
     "text": [
      "Correlation coefficient, Promotion: 0.42824106651924443\n",
      "Correlation coefficient, Sales: -0.07916116584527771\n"
     ]
    }
   ],
   "source": [
    "# Calculate the correlation between sales and promotions\n",
    "corr1 = merged_data['sales'].corr(merged_data['onpromotion'])\n",
    "corr2 = merged_data['sales'].corr(merged_data['dcoilwtico'])\n",
    "\n",
    "# Print the correlation coefficient\n",
    "print('Correlation coefficient, Promotion:', corr1)\n",
    "print('Correlation coefficient, Sales:', corr2)"
   ]
  },
  {
   "cell_type": "markdown",
   "metadata": {
    "id": "xinGtUujwYDu"
   },
   "source": [
    "#### Insights\n",
    "\n",
    "From the values obtained:\n",
    "* Sales is positively correlated with promotion, thus an increase in promotion products may increase sales.\n",
    "* However, the relationship is quite weak.\n",
    "* Also, it can be deduced that the oil prices have a negative correlation with sales, thus, an increase in oil prices will may decrease sales at the stores due to increased prices which checks consumer spending.\n",
    "* However, there relationship is very weak"
   ]
  },
  {
   "cell_type": "markdown",
   "metadata": {},
   "source": [
    "#### Hypothesis for holiday column using ANOVA test"
   ]
  },
  {
   "cell_type": "code",
   "execution_count": 186,
   "metadata": {},
   "outputs": [
    {
     "name": "stdout",
     "output_type": "stream",
     "text": [
      "F_onewayResult(statistic=260.5458995720661, pvalue=0.0)\n"
     ]
    }
   ],
   "source": [
    "holiday_list = merged_data.groupby('holiday_type')['sales'].apply(list)\n",
    "Anova_results = f_oneway(*holiday_list)\n",
    "print(Anova_results)"
   ]
  },
  {
   "cell_type": "markdown",
   "metadata": {},
   "source": [
    "#### Insights\n",
    "The p-value is less than the significant level 0.05 so we reject the null hypothesis. That is, holiday columns are correlated with the sales made. Thus, sales are affected by holidays"
   ]
  },
  {
   "cell_type": "markdown",
   "metadata": {
    "id": "JZLlJoZSpopx"
   },
   "source": [
    "### Feature Processing"
   ]
  },
  {
   "cell_type": "code",
   "execution_count": 187,
   "metadata": {
    "id": "HgG0fkABC9Ko"
   },
   "outputs": [],
   "source": [
    "#drop unnecessary columns\n",
    "merged_data = merged_data.drop(columns=['id','locale', 'locale_name', 'description', 'transferred'])"
   ]
  },
  {
   "cell_type": "code",
   "execution_count": 188,
   "metadata": {},
   "outputs": [],
   "source": [
    "#drop columns for univariate analysis\n",
    "merged_data1 = merged_data.drop(columns=['store_nbr','family','state','onpromotion','transactions','city','dcoilwtico','holiday_type','cluster','year','store_type'])"
   ]
  },
  {
   "cell_type": "markdown",
   "metadata": {},
   "source": [
    "### Feature Engineering"
   ]
  },
  {
   "cell_type": "code",
   "execution_count": 189,
   "metadata": {},
   "outputs": [],
   "source": [
    "def getDateFeatures(df,date):\n",
    "    df['month'] = df['date'].dt.month\n",
    "    df['is_month_start'] = df['date'].dt.is_month_start.astype(int)\n",
    "    df['is_month_end'] = df['date'].dt.is_month_end.astype(int)\n",
    "    df['day'] = df['date'].dt.day\n",
    "    df['is_weekend'] = df['date'].dt.isocalendar().week\n",
    "    df['day_of_the_year'] = df['date'].dt.dayofyear\n",
    "    df['quarter'] = df['date'].dt.quarter\n",
    "    df['is_quarter_start'] = df['date'].dt.is_quarter_start.astype(int)\n",
    "    df['is_quarter_end'] = df['date'].dt.is_quarter_end.astype(int)\n",
    "    \n",
    "    return df"
   ]
  },
  {
   "cell_type": "code",
   "execution_count": 190,
   "metadata": {},
   "outputs": [],
   "source": [
    "merged_data = getDateFeatures(merged_data, 'date')"
   ]
  },
  {
   "cell_type": "code",
   "execution_count": 191,
   "metadata": {},
   "outputs": [
    {
     "data": {
      "text/html": [
       "<div>\n",
       "<style scoped>\n",
       "    .dataframe tbody tr th:only-of-type {\n",
       "        vertical-align: middle;\n",
       "    }\n",
       "\n",
       "    .dataframe tbody tr th {\n",
       "        vertical-align: top;\n",
       "    }\n",
       "\n",
       "    .dataframe thead th {\n",
       "        text-align: right;\n",
       "    }\n",
       "</style>\n",
       "<table border=\"1\" class=\"dataframe\">\n",
       "  <thead>\n",
       "    <tr style=\"text-align: right;\">\n",
       "      <th></th>\n",
       "      <th>date</th>\n",
       "      <th>store_nbr</th>\n",
       "      <th>family</th>\n",
       "      <th>sales</th>\n",
       "      <th>onpromotion</th>\n",
       "      <th>transactions</th>\n",
       "      <th>holiday_type</th>\n",
       "      <th>dcoilwtico</th>\n",
       "      <th>city</th>\n",
       "      <th>state</th>\n",
       "      <th>...</th>\n",
       "      <th>year</th>\n",
       "      <th>month</th>\n",
       "      <th>is_month_start</th>\n",
       "      <th>is_month_end</th>\n",
       "      <th>day</th>\n",
       "      <th>is_weekend</th>\n",
       "      <th>day_of_the_year</th>\n",
       "      <th>quarter</th>\n",
       "      <th>is_quarter_start</th>\n",
       "      <th>is_quarter_end</th>\n",
       "    </tr>\n",
       "  </thead>\n",
       "  <tbody>\n",
       "    <tr>\n",
       "      <th>0</th>\n",
       "      <td>2013-01-01</td>\n",
       "      <td>1.000</td>\n",
       "      <td>AUTOMOTIVE</td>\n",
       "      <td>0.000</td>\n",
       "      <td>0.000</td>\n",
       "      <td>NaN</td>\n",
       "      <td>Holiday</td>\n",
       "      <td>94.757</td>\n",
       "      <td>Quito</td>\n",
       "      <td>Pichincha</td>\n",
       "      <td>...</td>\n",
       "      <td>2013</td>\n",
       "      <td>1</td>\n",
       "      <td>1</td>\n",
       "      <td>0</td>\n",
       "      <td>1</td>\n",
       "      <td>1</td>\n",
       "      <td>1</td>\n",
       "      <td>1</td>\n",
       "      <td>1</td>\n",
       "      <td>0</td>\n",
       "    </tr>\n",
       "    <tr>\n",
       "      <th>1</th>\n",
       "      <td>2013-01-01</td>\n",
       "      <td>1.000</td>\n",
       "      <td>BABY CARE</td>\n",
       "      <td>0.000</td>\n",
       "      <td>0.000</td>\n",
       "      <td>NaN</td>\n",
       "      <td>Holiday</td>\n",
       "      <td>94.757</td>\n",
       "      <td>Quito</td>\n",
       "      <td>Pichincha</td>\n",
       "      <td>...</td>\n",
       "      <td>2013</td>\n",
       "      <td>1</td>\n",
       "      <td>1</td>\n",
       "      <td>0</td>\n",
       "      <td>1</td>\n",
       "      <td>1</td>\n",
       "      <td>1</td>\n",
       "      <td>1</td>\n",
       "      <td>1</td>\n",
       "      <td>0</td>\n",
       "    </tr>\n",
       "    <tr>\n",
       "      <th>2</th>\n",
       "      <td>2013-01-01</td>\n",
       "      <td>1.000</td>\n",
       "      <td>BEAUTY</td>\n",
       "      <td>0.000</td>\n",
       "      <td>0.000</td>\n",
       "      <td>NaN</td>\n",
       "      <td>Holiday</td>\n",
       "      <td>94.757</td>\n",
       "      <td>Quito</td>\n",
       "      <td>Pichincha</td>\n",
       "      <td>...</td>\n",
       "      <td>2013</td>\n",
       "      <td>1</td>\n",
       "      <td>1</td>\n",
       "      <td>0</td>\n",
       "      <td>1</td>\n",
       "      <td>1</td>\n",
       "      <td>1</td>\n",
       "      <td>1</td>\n",
       "      <td>1</td>\n",
       "      <td>0</td>\n",
       "    </tr>\n",
       "    <tr>\n",
       "      <th>3</th>\n",
       "      <td>2013-01-01</td>\n",
       "      <td>1.000</td>\n",
       "      <td>BEVERAGES</td>\n",
       "      <td>0.000</td>\n",
       "      <td>0.000</td>\n",
       "      <td>NaN</td>\n",
       "      <td>Holiday</td>\n",
       "      <td>94.757</td>\n",
       "      <td>Quito</td>\n",
       "      <td>Pichincha</td>\n",
       "      <td>...</td>\n",
       "      <td>2013</td>\n",
       "      <td>1</td>\n",
       "      <td>1</td>\n",
       "      <td>0</td>\n",
       "      <td>1</td>\n",
       "      <td>1</td>\n",
       "      <td>1</td>\n",
       "      <td>1</td>\n",
       "      <td>1</td>\n",
       "      <td>0</td>\n",
       "    </tr>\n",
       "    <tr>\n",
       "      <th>4</th>\n",
       "      <td>2013-01-01</td>\n",
       "      <td>1.000</td>\n",
       "      <td>BOOKS</td>\n",
       "      <td>0.000</td>\n",
       "      <td>0.000</td>\n",
       "      <td>NaN</td>\n",
       "      <td>Holiday</td>\n",
       "      <td>94.757</td>\n",
       "      <td>Quito</td>\n",
       "      <td>Pichincha</td>\n",
       "      <td>...</td>\n",
       "      <td>2013</td>\n",
       "      <td>1</td>\n",
       "      <td>1</td>\n",
       "      <td>0</td>\n",
       "      <td>1</td>\n",
       "      <td>1</td>\n",
       "      <td>1</td>\n",
       "      <td>1</td>\n",
       "      <td>1</td>\n",
       "      <td>0</td>\n",
       "    </tr>\n",
       "    <tr>\n",
       "      <th>...</th>\n",
       "      <td>...</td>\n",
       "      <td>...</td>\n",
       "      <td>...</td>\n",
       "      <td>...</td>\n",
       "      <td>...</td>\n",
       "      <td>...</td>\n",
       "      <td>...</td>\n",
       "      <td>...</td>\n",
       "      <td>...</td>\n",
       "      <td>...</td>\n",
       "      <td>...</td>\n",
       "      <td>...</td>\n",
       "      <td>...</td>\n",
       "      <td>...</td>\n",
       "      <td>...</td>\n",
       "      <td>...</td>\n",
       "      <td>...</td>\n",
       "      <td>...</td>\n",
       "      <td>...</td>\n",
       "      <td>...</td>\n",
       "      <td>...</td>\n",
       "    </tr>\n",
       "    <tr>\n",
       "      <th>3054343</th>\n",
       "      <td>2017-08-15</td>\n",
       "      <td>9.000</td>\n",
       "      <td>POULTRY</td>\n",
       "      <td>438.133</td>\n",
       "      <td>0.000</td>\n",
       "      <td>2,155.000</td>\n",
       "      <td>Holiday</td>\n",
       "      <td>47.570</td>\n",
       "      <td>Quito</td>\n",
       "      <td>Pichincha</td>\n",
       "      <td>...</td>\n",
       "      <td>2017</td>\n",
       "      <td>8</td>\n",
       "      <td>0</td>\n",
       "      <td>0</td>\n",
       "      <td>15</td>\n",
       "      <td>33</td>\n",
       "      <td>227</td>\n",
       "      <td>3</td>\n",
       "      <td>0</td>\n",
       "      <td>0</td>\n",
       "    </tr>\n",
       "    <tr>\n",
       "      <th>3054344</th>\n",
       "      <td>2017-08-15</td>\n",
       "      <td>9.000</td>\n",
       "      <td>PREPARED FOODS</td>\n",
       "      <td>154.553</td>\n",
       "      <td>1.000</td>\n",
       "      <td>2,155.000</td>\n",
       "      <td>Holiday</td>\n",
       "      <td>47.570</td>\n",
       "      <td>Quito</td>\n",
       "      <td>Pichincha</td>\n",
       "      <td>...</td>\n",
       "      <td>2017</td>\n",
       "      <td>8</td>\n",
       "      <td>0</td>\n",
       "      <td>0</td>\n",
       "      <td>15</td>\n",
       "      <td>33</td>\n",
       "      <td>227</td>\n",
       "      <td>3</td>\n",
       "      <td>0</td>\n",
       "      <td>0</td>\n",
       "    </tr>\n",
       "    <tr>\n",
       "      <th>3054345</th>\n",
       "      <td>2017-08-15</td>\n",
       "      <td>9.000</td>\n",
       "      <td>PRODUCE</td>\n",
       "      <td>2,419.729</td>\n",
       "      <td>148.000</td>\n",
       "      <td>2,155.000</td>\n",
       "      <td>Holiday</td>\n",
       "      <td>47.570</td>\n",
       "      <td>Quito</td>\n",
       "      <td>Pichincha</td>\n",
       "      <td>...</td>\n",
       "      <td>2017</td>\n",
       "      <td>8</td>\n",
       "      <td>0</td>\n",
       "      <td>0</td>\n",
       "      <td>15</td>\n",
       "      <td>33</td>\n",
       "      <td>227</td>\n",
       "      <td>3</td>\n",
       "      <td>0</td>\n",
       "      <td>0</td>\n",
       "    </tr>\n",
       "    <tr>\n",
       "      <th>3054346</th>\n",
       "      <td>2017-08-15</td>\n",
       "      <td>9.000</td>\n",
       "      <td>SCHOOL AND OFFICE SUPPLIES</td>\n",
       "      <td>121.000</td>\n",
       "      <td>8.000</td>\n",
       "      <td>2,155.000</td>\n",
       "      <td>Holiday</td>\n",
       "      <td>47.570</td>\n",
       "      <td>Quito</td>\n",
       "      <td>Pichincha</td>\n",
       "      <td>...</td>\n",
       "      <td>2017</td>\n",
       "      <td>8</td>\n",
       "      <td>0</td>\n",
       "      <td>0</td>\n",
       "      <td>15</td>\n",
       "      <td>33</td>\n",
       "      <td>227</td>\n",
       "      <td>3</td>\n",
       "      <td>0</td>\n",
       "      <td>0</td>\n",
       "    </tr>\n",
       "    <tr>\n",
       "      <th>3054347</th>\n",
       "      <td>2017-08-15</td>\n",
       "      <td>9.000</td>\n",
       "      <td>SEAFOOD</td>\n",
       "      <td>16.000</td>\n",
       "      <td>0.000</td>\n",
       "      <td>2,155.000</td>\n",
       "      <td>Holiday</td>\n",
       "      <td>47.570</td>\n",
       "      <td>Quito</td>\n",
       "      <td>Pichincha</td>\n",
       "      <td>...</td>\n",
       "      <td>2017</td>\n",
       "      <td>8</td>\n",
       "      <td>0</td>\n",
       "      <td>0</td>\n",
       "      <td>15</td>\n",
       "      <td>33</td>\n",
       "      <td>227</td>\n",
       "      <td>3</td>\n",
       "      <td>0</td>\n",
       "      <td>0</td>\n",
       "    </tr>\n",
       "  </tbody>\n",
       "</table>\n",
       "<p>3054348 rows × 22 columns</p>\n",
       "</div>"
      ],
      "text/plain": [
       "              date  store_nbr                      family     sales  \\\n",
       "0       2013-01-01      1.000                  AUTOMOTIVE     0.000   \n",
       "1       2013-01-01      1.000                   BABY CARE     0.000   \n",
       "2       2013-01-01      1.000                      BEAUTY     0.000   \n",
       "3       2013-01-01      1.000                   BEVERAGES     0.000   \n",
       "4       2013-01-01      1.000                       BOOKS     0.000   \n",
       "...            ...        ...                         ...       ...   \n",
       "3054343 2017-08-15      9.000                     POULTRY   438.133   \n",
       "3054344 2017-08-15      9.000              PREPARED FOODS   154.553   \n",
       "3054345 2017-08-15      9.000                     PRODUCE 2,419.729   \n",
       "3054346 2017-08-15      9.000  SCHOOL AND OFFICE SUPPLIES   121.000   \n",
       "3054347 2017-08-15      9.000                     SEAFOOD    16.000   \n",
       "\n",
       "         onpromotion  transactions holiday_type  dcoilwtico   city      state  \\\n",
       "0              0.000           NaN      Holiday      94.757  Quito  Pichincha   \n",
       "1              0.000           NaN      Holiday      94.757  Quito  Pichincha   \n",
       "2              0.000           NaN      Holiday      94.757  Quito  Pichincha   \n",
       "3              0.000           NaN      Holiday      94.757  Quito  Pichincha   \n",
       "4              0.000           NaN      Holiday      94.757  Quito  Pichincha   \n",
       "...              ...           ...          ...         ...    ...        ...   \n",
       "3054343        0.000     2,155.000      Holiday      47.570  Quito  Pichincha   \n",
       "3054344        1.000     2,155.000      Holiday      47.570  Quito  Pichincha   \n",
       "3054345      148.000     2,155.000      Holiday      47.570  Quito  Pichincha   \n",
       "3054346        8.000     2,155.000      Holiday      47.570  Quito  Pichincha   \n",
       "3054347        0.000     2,155.000      Holiday      47.570  Quito  Pichincha   \n",
       "\n",
       "         ...  year  month  is_month_start  is_month_end  day  is_weekend  \\\n",
       "0        ...  2013      1               1             0    1           1   \n",
       "1        ...  2013      1               1             0    1           1   \n",
       "2        ...  2013      1               1             0    1           1   \n",
       "3        ...  2013      1               1             0    1           1   \n",
       "4        ...  2013      1               1             0    1           1   \n",
       "...      ...   ...    ...             ...           ...  ...         ...   \n",
       "3054343  ...  2017      8               0             0   15          33   \n",
       "3054344  ...  2017      8               0             0   15          33   \n",
       "3054345  ...  2017      8               0             0   15          33   \n",
       "3054346  ...  2017      8               0             0   15          33   \n",
       "3054347  ...  2017      8               0             0   15          33   \n",
       "\n",
       "         day_of_the_year  quarter  is_quarter_start  is_quarter_end  \n",
       "0                      1        1                 1               0  \n",
       "1                      1        1                 1               0  \n",
       "2                      1        1                 1               0  \n",
       "3                      1        1                 1               0  \n",
       "4                      1        1                 1               0  \n",
       "...                  ...      ...               ...             ...  \n",
       "3054343              227        3                 0               0  \n",
       "3054344              227        3                 0               0  \n",
       "3054345              227        3                 0               0  \n",
       "3054346              227        3                 0               0  \n",
       "3054347              227        3                 0               0  \n",
       "\n",
       "[3054348 rows x 22 columns]"
      ]
     },
     "execution_count": 191,
     "metadata": {},
     "output_type": "execute_result"
    }
   ],
   "source": [
    "merged_data"
   ]
  },
  {
   "cell_type": "markdown",
   "metadata": {},
   "source": [
    "### Binary Encoding"
   ]
  },
  {
   "cell_type": "code",
   "execution_count": 192,
   "metadata": {
    "id": "pO9YdTVBjuqv"
   },
   "outputs": [],
   "source": [
    "# Import necessary libraries\n",
    "from  category_encoders import BinaryEncoder\n",
    "\n",
    "# Instantiate BinaryEncoder\n",
    "ce = BinaryEncoder\n",
    "\n",
    "encoder = ce(cols=['family','city','state','store_type','cluster','holiday_type'], drop_invariant=True)\n",
    "merged_data = encoder.fit_transform(merged_data)"
   ]
  },
  {
   "cell_type": "code",
   "execution_count": 193,
   "metadata": {
    "colab": {
     "base_uri": "https://localhost:8080/",
     "height": 344
    },
    "id": "gbUNyKjk5Twz",
    "outputId": "b78aecad-39dc-497d-a0d5-8c932140955f"
   },
   "outputs": [
    {
     "data": {
      "text/html": [
       "<div>\n",
       "<style scoped>\n",
       "    .dataframe tbody tr th:only-of-type {\n",
       "        vertical-align: middle;\n",
       "    }\n",
       "\n",
       "    .dataframe tbody tr th {\n",
       "        vertical-align: top;\n",
       "    }\n",
       "\n",
       "    .dataframe thead th {\n",
       "        text-align: right;\n",
       "    }\n",
       "</style>\n",
       "<table border=\"1\" class=\"dataframe\">\n",
       "  <thead>\n",
       "    <tr style=\"text-align: right;\">\n",
       "      <th></th>\n",
       "      <th>date</th>\n",
       "      <th>store_nbr</th>\n",
       "      <th>family_0</th>\n",
       "      <th>family_1</th>\n",
       "      <th>family_2</th>\n",
       "      <th>family_3</th>\n",
       "      <th>family_4</th>\n",
       "      <th>family_5</th>\n",
       "      <th>sales</th>\n",
       "      <th>onpromotion</th>\n",
       "      <th>...</th>\n",
       "      <th>year</th>\n",
       "      <th>month</th>\n",
       "      <th>is_month_start</th>\n",
       "      <th>is_month_end</th>\n",
       "      <th>day</th>\n",
       "      <th>is_weekend</th>\n",
       "      <th>day_of_the_year</th>\n",
       "      <th>quarter</th>\n",
       "      <th>is_quarter_start</th>\n",
       "      <th>is_quarter_end</th>\n",
       "    </tr>\n",
       "  </thead>\n",
       "  <tbody>\n",
       "    <tr>\n",
       "      <th>1252445</th>\n",
       "      <td>2013-08-29</td>\n",
       "      <td>3.000</td>\n",
       "      <td>0</td>\n",
       "      <td>1</td>\n",
       "      <td>1</td>\n",
       "      <td>1</td>\n",
       "      <td>1</td>\n",
       "      <td>0</td>\n",
       "      <td>323.195</td>\n",
       "      <td>0.000</td>\n",
       "      <td>...</td>\n",
       "      <td>2013</td>\n",
       "      <td>8</td>\n",
       "      <td>0</td>\n",
       "      <td>0</td>\n",
       "      <td>29</td>\n",
       "      <td>35</td>\n",
       "      <td>241</td>\n",
       "      <td>3</td>\n",
       "      <td>0</td>\n",
       "      <td>0</td>\n",
       "    </tr>\n",
       "    <tr>\n",
       "      <th>1234692</th>\n",
       "      <td>2016-10-31</td>\n",
       "      <td>29.000</td>\n",
       "      <td>0</td>\n",
       "      <td>1</td>\n",
       "      <td>1</td>\n",
       "      <td>1</td>\n",
       "      <td>1</td>\n",
       "      <td>1</td>\n",
       "      <td>769.326</td>\n",
       "      <td>5.000</td>\n",
       "      <td>...</td>\n",
       "      <td>2016</td>\n",
       "      <td>10</td>\n",
       "      <td>0</td>\n",
       "      <td>1</td>\n",
       "      <td>31</td>\n",
       "      <td>44</td>\n",
       "      <td>305</td>\n",
       "      <td>4</td>\n",
       "      <td>0</td>\n",
       "      <td>0</td>\n",
       "    </tr>\n",
       "    <tr>\n",
       "      <th>2862875</th>\n",
       "      <td>2015-11-08</td>\n",
       "      <td>6.000</td>\n",
       "      <td>0</td>\n",
       "      <td>1</td>\n",
       "      <td>1</td>\n",
       "      <td>0</td>\n",
       "      <td>1</td>\n",
       "      <td>1</td>\n",
       "      <td>16.000</td>\n",
       "      <td>0.000</td>\n",
       "      <td>...</td>\n",
       "      <td>2015</td>\n",
       "      <td>11</td>\n",
       "      <td>0</td>\n",
       "      <td>0</td>\n",
       "      <td>8</td>\n",
       "      <td>45</td>\n",
       "      <td>312</td>\n",
       "      <td>4</td>\n",
       "      <td>0</td>\n",
       "      <td>0</td>\n",
       "    </tr>\n",
       "    <tr>\n",
       "      <th>2585513</th>\n",
       "      <td>2016-04-21</td>\n",
       "      <td>50.000</td>\n",
       "      <td>0</td>\n",
       "      <td>0</td>\n",
       "      <td>1</td>\n",
       "      <td>1</td>\n",
       "      <td>1</td>\n",
       "      <td>1</td>\n",
       "      <td>0.000</td>\n",
       "      <td>0.000</td>\n",
       "      <td>...</td>\n",
       "      <td>2016</td>\n",
       "      <td>4</td>\n",
       "      <td>0</td>\n",
       "      <td>0</td>\n",
       "      <td>21</td>\n",
       "      <td>16</td>\n",
       "      <td>112</td>\n",
       "      <td>2</td>\n",
       "      <td>0</td>\n",
       "      <td>0</td>\n",
       "    </tr>\n",
       "    <tr>\n",
       "      <th>2779224</th>\n",
       "      <td>2013-08-17</td>\n",
       "      <td>54.000</td>\n",
       "      <td>0</td>\n",
       "      <td>1</td>\n",
       "      <td>1</td>\n",
       "      <td>1</td>\n",
       "      <td>1</td>\n",
       "      <td>1</td>\n",
       "      <td>0.000</td>\n",
       "      <td>0.000</td>\n",
       "      <td>...</td>\n",
       "      <td>2013</td>\n",
       "      <td>8</td>\n",
       "      <td>0</td>\n",
       "      <td>0</td>\n",
       "      <td>17</td>\n",
       "      <td>33</td>\n",
       "      <td>229</td>\n",
       "      <td>3</td>\n",
       "      <td>0</td>\n",
       "      <td>0</td>\n",
       "    </tr>\n",
       "    <tr>\n",
       "      <th>914592</th>\n",
       "      <td>2013-10-14</td>\n",
       "      <td>24.000</td>\n",
       "      <td>0</td>\n",
       "      <td>1</td>\n",
       "      <td>1</td>\n",
       "      <td>1</td>\n",
       "      <td>1</td>\n",
       "      <td>1</td>\n",
       "      <td>2.000</td>\n",
       "      <td>0.000</td>\n",
       "      <td>...</td>\n",
       "      <td>2013</td>\n",
       "      <td>10</td>\n",
       "      <td>0</td>\n",
       "      <td>0</td>\n",
       "      <td>14</td>\n",
       "      <td>42</td>\n",
       "      <td>287</td>\n",
       "      <td>4</td>\n",
       "      <td>0</td>\n",
       "      <td>0</td>\n",
       "    </tr>\n",
       "    <tr>\n",
       "      <th>2387340</th>\n",
       "      <td>2013-12-18</td>\n",
       "      <td>48.000</td>\n",
       "      <td>0</td>\n",
       "      <td>1</td>\n",
       "      <td>0</td>\n",
       "      <td>1</td>\n",
       "      <td>1</td>\n",
       "      <td>0</td>\n",
       "      <td>7.000</td>\n",
       "      <td>0.000</td>\n",
       "      <td>...</td>\n",
       "      <td>2013</td>\n",
       "      <td>12</td>\n",
       "      <td>0</td>\n",
       "      <td>0</td>\n",
       "      <td>18</td>\n",
       "      <td>51</td>\n",
       "      <td>352</td>\n",
       "      <td>4</td>\n",
       "      <td>0</td>\n",
       "      <td>0</td>\n",
       "    </tr>\n",
       "    <tr>\n",
       "      <th>1844276</th>\n",
       "      <td>2015-10-25</td>\n",
       "      <td>39.000</td>\n",
       "      <td>0</td>\n",
       "      <td>0</td>\n",
       "      <td>0</td>\n",
       "      <td>1</td>\n",
       "      <td>1</td>\n",
       "      <td>0</td>\n",
       "      <td>948.000</td>\n",
       "      <td>76.000</td>\n",
       "      <td>...</td>\n",
       "      <td>2015</td>\n",
       "      <td>10</td>\n",
       "      <td>0</td>\n",
       "      <td>0</td>\n",
       "      <td>25</td>\n",
       "      <td>43</td>\n",
       "      <td>298</td>\n",
       "      <td>4</td>\n",
       "      <td>0</td>\n",
       "      <td>0</td>\n",
       "    </tr>\n",
       "  </tbody>\n",
       "</table>\n",
       "<p>8 rows × 43 columns</p>\n",
       "</div>"
      ],
      "text/plain": [
       "              date  store_nbr  family_0  family_1  family_2  family_3  \\\n",
       "1252445 2013-08-29      3.000         0         1         1         1   \n",
       "1234692 2016-10-31     29.000         0         1         1         1   \n",
       "2862875 2015-11-08      6.000         0         1         1         0   \n",
       "2585513 2016-04-21     50.000         0         0         1         1   \n",
       "2779224 2013-08-17     54.000         0         1         1         1   \n",
       "914592  2013-10-14     24.000         0         1         1         1   \n",
       "2387340 2013-12-18     48.000         0         1         0         1   \n",
       "1844276 2015-10-25     39.000         0         0         0         1   \n",
       "\n",
       "         family_4  family_5   sales  onpromotion  ...  year  month  \\\n",
       "1252445         1         0 323.195        0.000  ...  2013      8   \n",
       "1234692         1         1 769.326        5.000  ...  2016     10   \n",
       "2862875         1         1  16.000        0.000  ...  2015     11   \n",
       "2585513         1         1   0.000        0.000  ...  2016      4   \n",
       "2779224         1         1   0.000        0.000  ...  2013      8   \n",
       "914592          1         1   2.000        0.000  ...  2013     10   \n",
       "2387340         1         0   7.000        0.000  ...  2013     12   \n",
       "1844276         1         0 948.000       76.000  ...  2015     10   \n",
       "\n",
       "         is_month_start  is_month_end  day  is_weekend  day_of_the_year  \\\n",
       "1252445               0             0   29          35              241   \n",
       "1234692               0             1   31          44              305   \n",
       "2862875               0             0    8          45              312   \n",
       "2585513               0             0   21          16              112   \n",
       "2779224               0             0   17          33              229   \n",
       "914592                0             0   14          42              287   \n",
       "2387340               0             0   18          51              352   \n",
       "1844276               0             0   25          43              298   \n",
       "\n",
       "         quarter  is_quarter_start  is_quarter_end  \n",
       "1252445        3                 0               0  \n",
       "1234692        4                 0               0  \n",
       "2862875        4                 0               0  \n",
       "2585513        2                 0               0  \n",
       "2779224        3                 0               0  \n",
       "914592         4                 0               0  \n",
       "2387340        4                 0               0  \n",
       "1844276        4                 0               0  \n",
       "\n",
       "[8 rows x 43 columns]"
      ]
     },
     "execution_count": 193,
     "metadata": {},
     "output_type": "execute_result"
    }
   ],
   "source": [
    "merged_data.sample(8)"
   ]
  },
  {
   "cell_type": "markdown",
   "metadata": {},
   "source": [
    "### Feature Drop"
   ]
  },
  {
   "cell_type": "code",
   "execution_count": 194,
   "metadata": {
    "id": "6GU4UNHAQ7Is"
   },
   "outputs": [],
   "source": [
    "# drop columns\n",
    "merged_data = merged_data.drop(columns=['date'])"
   ]
  },
  {
   "cell_type": "markdown",
   "metadata": {},
   "source": [
    "### Scaling"
   ]
  },
  {
   "cell_type": "code",
   "execution_count": 195,
   "metadata": {
    "id": "MUG4DyTRQ7Im"
   },
   "outputs": [],
   "source": [
    "from sklearn.preprocessing import StandardScaler\n",
    "\n",
    "# create an instance of StandardScaler\n",
    "scaler = StandardScaler()\n",
    "\n",
    "# select numerical columns\n",
    "num_cols = ['store_nbr','sales', 'transactions', 'dcoilwtico', 'year','month','is_month_start','is_month_end','day','is_weekend','day_of_the_year','quarter','is_quarter_start','is_quarter_end']\n",
    "\n",
    "# fit and transform the numerical columns\n",
    "merged_data[num_cols] = scaler.fit_transform(merged_data[num_cols])"
   ]
  },
  {
   "cell_type": "code",
   "execution_count": 196,
   "metadata": {
    "colab": {
     "base_uri": "https://localhost:8080/",
     "height": 424
    },
    "id": "-dYKy8VFQ7It",
    "outputId": "848c29ee-4c06-4826-bc18-5fec7b738f51"
   },
   "outputs": [
    {
     "data": {
      "text/html": [
       "<div>\n",
       "<style scoped>\n",
       "    .dataframe tbody tr th:only-of-type {\n",
       "        vertical-align: middle;\n",
       "    }\n",
       "\n",
       "    .dataframe tbody tr th {\n",
       "        vertical-align: top;\n",
       "    }\n",
       "\n",
       "    .dataframe thead th {\n",
       "        text-align: right;\n",
       "    }\n",
       "</style>\n",
       "<table border=\"1\" class=\"dataframe\">\n",
       "  <thead>\n",
       "    <tr style=\"text-align: right;\">\n",
       "      <th></th>\n",
       "      <th>store_nbr</th>\n",
       "      <th>family_0</th>\n",
       "      <th>family_1</th>\n",
       "      <th>family_2</th>\n",
       "      <th>family_3</th>\n",
       "      <th>family_4</th>\n",
       "      <th>family_5</th>\n",
       "      <th>sales</th>\n",
       "      <th>onpromotion</th>\n",
       "      <th>transactions</th>\n",
       "      <th>...</th>\n",
       "      <th>year</th>\n",
       "      <th>month</th>\n",
       "      <th>is_month_start</th>\n",
       "      <th>is_month_end</th>\n",
       "      <th>day</th>\n",
       "      <th>is_weekend</th>\n",
       "      <th>day_of_the_year</th>\n",
       "      <th>quarter</th>\n",
       "      <th>is_quarter_start</th>\n",
       "      <th>is_quarter_end</th>\n",
       "    </tr>\n",
       "  </thead>\n",
       "  <tbody>\n",
       "    <tr>\n",
       "      <th>0</th>\n",
       "      <td>-1.700</td>\n",
       "      <td>0</td>\n",
       "      <td>0</td>\n",
       "      <td>0</td>\n",
       "      <td>0</td>\n",
       "      <td>0</td>\n",
       "      <td>1</td>\n",
       "      <td>-0.324</td>\n",
       "      <td>0.000</td>\n",
       "      <td>NaN</td>\n",
       "      <td>...</td>\n",
       "      <td>-1.369</td>\n",
       "      <td>-1.548</td>\n",
       "      <td>5.392</td>\n",
       "      <td>-0.182</td>\n",
       "      <td>-1.665</td>\n",
       "      <td>-1.648</td>\n",
       "      <td>-1.676</td>\n",
       "      <td>-1.290</td>\n",
       "      <td>9.445</td>\n",
       "      <td>-0.103</td>\n",
       "    </tr>\n",
       "    <tr>\n",
       "      <th>1</th>\n",
       "      <td>-1.700</td>\n",
       "      <td>0</td>\n",
       "      <td>0</td>\n",
       "      <td>0</td>\n",
       "      <td>0</td>\n",
       "      <td>1</td>\n",
       "      <td>0</td>\n",
       "      <td>-0.324</td>\n",
       "      <td>0.000</td>\n",
       "      <td>NaN</td>\n",
       "      <td>...</td>\n",
       "      <td>-1.369</td>\n",
       "      <td>-1.548</td>\n",
       "      <td>5.392</td>\n",
       "      <td>-0.182</td>\n",
       "      <td>-1.665</td>\n",
       "      <td>-1.648</td>\n",
       "      <td>-1.676</td>\n",
       "      <td>-1.290</td>\n",
       "      <td>9.445</td>\n",
       "      <td>-0.103</td>\n",
       "    </tr>\n",
       "    <tr>\n",
       "      <th>2</th>\n",
       "      <td>-1.700</td>\n",
       "      <td>0</td>\n",
       "      <td>0</td>\n",
       "      <td>0</td>\n",
       "      <td>0</td>\n",
       "      <td>1</td>\n",
       "      <td>1</td>\n",
       "      <td>-0.324</td>\n",
       "      <td>0.000</td>\n",
       "      <td>NaN</td>\n",
       "      <td>...</td>\n",
       "      <td>-1.369</td>\n",
       "      <td>-1.548</td>\n",
       "      <td>5.392</td>\n",
       "      <td>-0.182</td>\n",
       "      <td>-1.665</td>\n",
       "      <td>-1.648</td>\n",
       "      <td>-1.676</td>\n",
       "      <td>-1.290</td>\n",
       "      <td>9.445</td>\n",
       "      <td>-0.103</td>\n",
       "    </tr>\n",
       "    <tr>\n",
       "      <th>3</th>\n",
       "      <td>-1.700</td>\n",
       "      <td>0</td>\n",
       "      <td>0</td>\n",
       "      <td>0</td>\n",
       "      <td>1</td>\n",
       "      <td>0</td>\n",
       "      <td>0</td>\n",
       "      <td>-0.324</td>\n",
       "      <td>0.000</td>\n",
       "      <td>NaN</td>\n",
       "      <td>...</td>\n",
       "      <td>-1.369</td>\n",
       "      <td>-1.548</td>\n",
       "      <td>5.392</td>\n",
       "      <td>-0.182</td>\n",
       "      <td>-1.665</td>\n",
       "      <td>-1.648</td>\n",
       "      <td>-1.676</td>\n",
       "      <td>-1.290</td>\n",
       "      <td>9.445</td>\n",
       "      <td>-0.103</td>\n",
       "    </tr>\n",
       "    <tr>\n",
       "      <th>4</th>\n",
       "      <td>-1.700</td>\n",
       "      <td>0</td>\n",
       "      <td>0</td>\n",
       "      <td>0</td>\n",
       "      <td>1</td>\n",
       "      <td>0</td>\n",
       "      <td>1</td>\n",
       "      <td>-0.324</td>\n",
       "      <td>0.000</td>\n",
       "      <td>NaN</td>\n",
       "      <td>...</td>\n",
       "      <td>-1.369</td>\n",
       "      <td>-1.548</td>\n",
       "      <td>5.392</td>\n",
       "      <td>-0.182</td>\n",
       "      <td>-1.665</td>\n",
       "      <td>-1.648</td>\n",
       "      <td>-1.676</td>\n",
       "      <td>-1.290</td>\n",
       "      <td>9.445</td>\n",
       "      <td>-0.103</td>\n",
       "    </tr>\n",
       "    <tr>\n",
       "      <th>...</th>\n",
       "      <td>...</td>\n",
       "      <td>...</td>\n",
       "      <td>...</td>\n",
       "      <td>...</td>\n",
       "      <td>...</td>\n",
       "      <td>...</td>\n",
       "      <td>...</td>\n",
       "      <td>...</td>\n",
       "      <td>...</td>\n",
       "      <td>...</td>\n",
       "      <td>...</td>\n",
       "      <td>...</td>\n",
       "      <td>...</td>\n",
       "      <td>...</td>\n",
       "      <td>...</td>\n",
       "      <td>...</td>\n",
       "      <td>...</td>\n",
       "      <td>...</td>\n",
       "      <td>...</td>\n",
       "      <td>...</td>\n",
       "      <td>...</td>\n",
       "    </tr>\n",
       "    <tr>\n",
       "      <th>3054343</th>\n",
       "      <td>-1.187</td>\n",
       "      <td>0</td>\n",
       "      <td>1</td>\n",
       "      <td>1</td>\n",
       "      <td>1</td>\n",
       "      <td>0</td>\n",
       "      <td>1</td>\n",
       "      <td>0.071</td>\n",
       "      <td>0.000</td>\n",
       "      <td>0.474</td>\n",
       "      <td>...</td>\n",
       "      <td>1.603</td>\n",
       "      <td>0.527</td>\n",
       "      <td>-0.185</td>\n",
       "      <td>-0.182</td>\n",
       "      <td>-0.075</td>\n",
       "      <td>0.521</td>\n",
       "      <td>0.515</td>\n",
       "      <td>0.535</td>\n",
       "      <td>-0.106</td>\n",
       "      <td>-0.103</td>\n",
       "    </tr>\n",
       "    <tr>\n",
       "      <th>3054344</th>\n",
       "      <td>-1.187</td>\n",
       "      <td>0</td>\n",
       "      <td>1</td>\n",
       "      <td>1</td>\n",
       "      <td>1</td>\n",
       "      <td>1</td>\n",
       "      <td>0</td>\n",
       "      <td>-0.185</td>\n",
       "      <td>1.000</td>\n",
       "      <td>0.474</td>\n",
       "      <td>...</td>\n",
       "      <td>1.603</td>\n",
       "      <td>0.527</td>\n",
       "      <td>-0.185</td>\n",
       "      <td>-0.182</td>\n",
       "      <td>-0.075</td>\n",
       "      <td>0.521</td>\n",
       "      <td>0.515</td>\n",
       "      <td>0.535</td>\n",
       "      <td>-0.106</td>\n",
       "      <td>-0.103</td>\n",
       "    </tr>\n",
       "    <tr>\n",
       "      <th>3054345</th>\n",
       "      <td>-1.187</td>\n",
       "      <td>0</td>\n",
       "      <td>1</td>\n",
       "      <td>1</td>\n",
       "      <td>1</td>\n",
       "      <td>1</td>\n",
       "      <td>1</td>\n",
       "      <td>1.861</td>\n",
       "      <td>148.000</td>\n",
       "      <td>0.474</td>\n",
       "      <td>...</td>\n",
       "      <td>1.603</td>\n",
       "      <td>0.527</td>\n",
       "      <td>-0.185</td>\n",
       "      <td>-0.182</td>\n",
       "      <td>-0.075</td>\n",
       "      <td>0.521</td>\n",
       "      <td>0.515</td>\n",
       "      <td>0.535</td>\n",
       "      <td>-0.106</td>\n",
       "      <td>-0.103</td>\n",
       "    </tr>\n",
       "    <tr>\n",
       "      <th>3054346</th>\n",
       "      <td>-1.187</td>\n",
       "      <td>1</td>\n",
       "      <td>0</td>\n",
       "      <td>0</td>\n",
       "      <td>0</td>\n",
       "      <td>0</td>\n",
       "      <td>0</td>\n",
       "      <td>-0.215</td>\n",
       "      <td>8.000</td>\n",
       "      <td>0.474</td>\n",
       "      <td>...</td>\n",
       "      <td>1.603</td>\n",
       "      <td>0.527</td>\n",
       "      <td>-0.185</td>\n",
       "      <td>-0.182</td>\n",
       "      <td>-0.075</td>\n",
       "      <td>0.521</td>\n",
       "      <td>0.515</td>\n",
       "      <td>0.535</td>\n",
       "      <td>-0.106</td>\n",
       "      <td>-0.103</td>\n",
       "    </tr>\n",
       "    <tr>\n",
       "      <th>3054347</th>\n",
       "      <td>-1.187</td>\n",
       "      <td>1</td>\n",
       "      <td>0</td>\n",
       "      <td>0</td>\n",
       "      <td>0</td>\n",
       "      <td>0</td>\n",
       "      <td>1</td>\n",
       "      <td>-0.310</td>\n",
       "      <td>0.000</td>\n",
       "      <td>0.474</td>\n",
       "      <td>...</td>\n",
       "      <td>1.603</td>\n",
       "      <td>0.527</td>\n",
       "      <td>-0.185</td>\n",
       "      <td>-0.182</td>\n",
       "      <td>-0.075</td>\n",
       "      <td>0.521</td>\n",
       "      <td>0.515</td>\n",
       "      <td>0.535</td>\n",
       "      <td>-0.106</td>\n",
       "      <td>-0.103</td>\n",
       "    </tr>\n",
       "  </tbody>\n",
       "</table>\n",
       "<p>3054348 rows × 42 columns</p>\n",
       "</div>"
      ],
      "text/plain": [
       "         store_nbr  family_0  family_1  family_2  family_3  family_4  \\\n",
       "0           -1.700         0         0         0         0         0   \n",
       "1           -1.700         0         0         0         0         1   \n",
       "2           -1.700         0         0         0         0         1   \n",
       "3           -1.700         0         0         0         1         0   \n",
       "4           -1.700         0         0         0         1         0   \n",
       "...            ...       ...       ...       ...       ...       ...   \n",
       "3054343     -1.187         0         1         1         1         0   \n",
       "3054344     -1.187         0         1         1         1         1   \n",
       "3054345     -1.187         0         1         1         1         1   \n",
       "3054346     -1.187         1         0         0         0         0   \n",
       "3054347     -1.187         1         0         0         0         0   \n",
       "\n",
       "         family_5  sales  onpromotion  transactions  ...   year  month  \\\n",
       "0               1 -0.324        0.000           NaN  ... -1.369 -1.548   \n",
       "1               0 -0.324        0.000           NaN  ... -1.369 -1.548   \n",
       "2               1 -0.324        0.000           NaN  ... -1.369 -1.548   \n",
       "3               0 -0.324        0.000           NaN  ... -1.369 -1.548   \n",
       "4               1 -0.324        0.000           NaN  ... -1.369 -1.548   \n",
       "...           ...    ...          ...           ...  ...    ...    ...   \n",
       "3054343         1  0.071        0.000         0.474  ...  1.603  0.527   \n",
       "3054344         0 -0.185        1.000         0.474  ...  1.603  0.527   \n",
       "3054345         1  1.861      148.000         0.474  ...  1.603  0.527   \n",
       "3054346         0 -0.215        8.000         0.474  ...  1.603  0.527   \n",
       "3054347         1 -0.310        0.000         0.474  ...  1.603  0.527   \n",
       "\n",
       "         is_month_start  is_month_end    day  is_weekend  day_of_the_year  \\\n",
       "0                 5.392        -0.182 -1.665      -1.648           -1.676   \n",
       "1                 5.392        -0.182 -1.665      -1.648           -1.676   \n",
       "2                 5.392        -0.182 -1.665      -1.648           -1.676   \n",
       "3                 5.392        -0.182 -1.665      -1.648           -1.676   \n",
       "4                 5.392        -0.182 -1.665      -1.648           -1.676   \n",
       "...                 ...           ...    ...         ...              ...   \n",
       "3054343          -0.185        -0.182 -0.075       0.521            0.515   \n",
       "3054344          -0.185        -0.182 -0.075       0.521            0.515   \n",
       "3054345          -0.185        -0.182 -0.075       0.521            0.515   \n",
       "3054346          -0.185        -0.182 -0.075       0.521            0.515   \n",
       "3054347          -0.185        -0.182 -0.075       0.521            0.515   \n",
       "\n",
       "         quarter  is_quarter_start  is_quarter_end  \n",
       "0         -1.290             9.445          -0.103  \n",
       "1         -1.290             9.445          -0.103  \n",
       "2         -1.290             9.445          -0.103  \n",
       "3         -1.290             9.445          -0.103  \n",
       "4         -1.290             9.445          -0.103  \n",
       "...          ...               ...             ...  \n",
       "3054343    0.535            -0.106          -0.103  \n",
       "3054344    0.535            -0.106          -0.103  \n",
       "3054345    0.535            -0.106          -0.103  \n",
       "3054346    0.535            -0.106          -0.103  \n",
       "3054347    0.535            -0.106          -0.103  \n",
       "\n",
       "[3054348 rows x 42 columns]"
      ]
     },
     "execution_count": 196,
     "metadata": {},
     "output_type": "execute_result"
    }
   ],
   "source": [
    "merged_data"
   ]
  },
  {
   "cell_type": "markdown",
   "metadata": {
    "id": "C1XknlT3xMWP"
   },
   "source": [
    "### Spliting the Dataset"
   ]
  },
  {
   "cell_type": "code",
   "execution_count": 197,
   "metadata": {
    "colab": {
     "base_uri": "https://localhost:8080/"
    },
    "id": "jWFWbeiKQ7I0",
    "outputId": "e42dbf1a-f2dd-4ba7-d786-382545ae5515"
   },
   "outputs": [],
   "source": [
    "# split the data into train and test sets\n",
    "X_train, X_test, y_train, y_test = train_test_split(merged_data.drop('sales', axis=1), merged_data['sales'], test_size=0.2, random_state=42)"
   ]
  },
  {
   "cell_type": "code",
   "execution_count": 198,
   "metadata": {},
   "outputs": [],
   "source": [
    "# split for the stats model\n",
    "combined = merged_data1.groupby('date')['sales'].sum().reset_index()\n",
    "combined =combined.set_index('date')\n",
    "\n",
    "train_data = combined[1:len(combined)-337] \n",
    "test_data = combined[len(combined)-337:]"
   ]
  },
  {
   "cell_type": "code",
   "execution_count": 199,
   "metadata": {
    "id": "2gyUBAgPQ7Ip"
   },
   "outputs": [],
   "source": [
    "merged_data.dropna(subset=['sales'], inplace=True)"
   ]
  },
  {
   "cell_type": "code",
   "execution_count": 200,
   "metadata": {
    "colab": {
     "base_uri": "https://localhost:8080/",
     "height": 112
    },
    "id": "mkgK0pAEQ7Iq",
    "outputId": "e77ebdc0-bda9-49fa-d428-413acad1e362"
   },
   "outputs": [
    {
     "data": {
      "text/html": [
       "<div>\n",
       "<style scoped>\n",
       "    .dataframe tbody tr th:only-of-type {\n",
       "        vertical-align: middle;\n",
       "    }\n",
       "\n",
       "    .dataframe tbody tr th {\n",
       "        vertical-align: top;\n",
       "    }\n",
       "\n",
       "    .dataframe thead th {\n",
       "        text-align: right;\n",
       "    }\n",
       "</style>\n",
       "<table border=\"1\" class=\"dataframe\">\n",
       "  <thead>\n",
       "    <tr style=\"text-align: right;\">\n",
       "      <th></th>\n",
       "      <th>store_nbr</th>\n",
       "      <th>family_0</th>\n",
       "      <th>family_1</th>\n",
       "      <th>family_2</th>\n",
       "      <th>family_3</th>\n",
       "      <th>family_4</th>\n",
       "      <th>family_5</th>\n",
       "      <th>sales</th>\n",
       "      <th>onpromotion</th>\n",
       "      <th>transactions</th>\n",
       "      <th>...</th>\n",
       "      <th>year</th>\n",
       "      <th>month</th>\n",
       "      <th>is_month_start</th>\n",
       "      <th>is_month_end</th>\n",
       "      <th>day</th>\n",
       "      <th>is_weekend</th>\n",
       "      <th>day_of_the_year</th>\n",
       "      <th>quarter</th>\n",
       "      <th>is_quarter_start</th>\n",
       "      <th>is_quarter_end</th>\n",
       "    </tr>\n",
       "  </thead>\n",
       "  <tbody>\n",
       "    <tr>\n",
       "      <th>0</th>\n",
       "      <td>-1.700</td>\n",
       "      <td>0</td>\n",
       "      <td>0</td>\n",
       "      <td>0</td>\n",
       "      <td>0</td>\n",
       "      <td>0</td>\n",
       "      <td>1</td>\n",
       "      <td>-0.324</td>\n",
       "      <td>0.000</td>\n",
       "      <td>NaN</td>\n",
       "      <td>...</td>\n",
       "      <td>-1.369</td>\n",
       "      <td>-1.548</td>\n",
       "      <td>5.392</td>\n",
       "      <td>-0.182</td>\n",
       "      <td>-1.665</td>\n",
       "      <td>-1.648</td>\n",
       "      <td>-1.676</td>\n",
       "      <td>-1.290</td>\n",
       "      <td>9.445</td>\n",
       "      <td>-0.103</td>\n",
       "    </tr>\n",
       "    <tr>\n",
       "      <th>1</th>\n",
       "      <td>-1.700</td>\n",
       "      <td>0</td>\n",
       "      <td>0</td>\n",
       "      <td>0</td>\n",
       "      <td>0</td>\n",
       "      <td>1</td>\n",
       "      <td>0</td>\n",
       "      <td>-0.324</td>\n",
       "      <td>0.000</td>\n",
       "      <td>NaN</td>\n",
       "      <td>...</td>\n",
       "      <td>-1.369</td>\n",
       "      <td>-1.548</td>\n",
       "      <td>5.392</td>\n",
       "      <td>-0.182</td>\n",
       "      <td>-1.665</td>\n",
       "      <td>-1.648</td>\n",
       "      <td>-1.676</td>\n",
       "      <td>-1.290</td>\n",
       "      <td>9.445</td>\n",
       "      <td>-0.103</td>\n",
       "    </tr>\n",
       "  </tbody>\n",
       "</table>\n",
       "<p>2 rows × 42 columns</p>\n",
       "</div>"
      ],
      "text/plain": [
       "   store_nbr  family_0  family_1  family_2  family_3  family_4  family_5  \\\n",
       "0     -1.700         0         0         0         0         0         1   \n",
       "1     -1.700         0         0         0         0         1         0   \n",
       "\n",
       "   sales  onpromotion  transactions  ...   year  month  is_month_start  \\\n",
       "0 -0.324        0.000           NaN  ... -1.369 -1.548           5.392   \n",
       "1 -0.324        0.000           NaN  ... -1.369 -1.548           5.392   \n",
       "\n",
       "   is_month_end    day  is_weekend  day_of_the_year  quarter  \\\n",
       "0        -0.182 -1.665      -1.648           -1.676   -1.290   \n",
       "1        -0.182 -1.665      -1.648           -1.676   -1.290   \n",
       "\n",
       "   is_quarter_start  is_quarter_end  \n",
       "0             9.445          -0.103  \n",
       "1             9.445          -0.103  \n",
       "\n",
       "[2 rows x 42 columns]"
      ]
     },
     "execution_count": 200,
     "metadata": {},
     "output_type": "execute_result"
    }
   ],
   "source": [
    "merged_data.head(2)"
   ]
  },
  {
   "cell_type": "markdown",
   "metadata": {},
   "source": [
    "#### Imputation"
   ]
  },
  {
   "cell_type": "code",
   "execution_count": 201,
   "metadata": {
    "id": "DpnAYjZYQ7I6"
   },
   "outputs": [],
   "source": [
    "from sklearn.impute import SimpleImputer\n",
    "\n",
    "# create an instance of the SimpleImputer class\n",
    "imputer = SimpleImputer(strategy='mean')\n",
    "col = ['transactions','dcoilwtico']\n",
    "# impute the missing values in your data\n",
    "X_train[col] = imputer.fit_transform(X_train[col])\n",
    "X_test[col] = imputer.transform(X_test[col])"
   ]
  },
  {
   "cell_type": "markdown",
   "metadata": {
    "id": "H5ZJNCqKy7MV"
   },
   "source": [
    "### Modelling"
   ]
  },
  {
   "cell_type": "markdown",
   "metadata": {},
   "source": [
    "### Univariate Time Forecasting \n",
    "\n",
    "Approah:\n",
    "\n",
    "Use AR, ARIMA and SARIMA models"
   ]
  },
  {
   "cell_type": "markdown",
   "metadata": {},
   "source": [
    "#### AR Model"
   ]
  },
  {
   "cell_type": "markdown",
   "metadata": {},
   "source": [
    "##### Autocorrelation and Partial Autocorrelation\n"
   ]
  },
  {
   "cell_type": "code",
   "execution_count": 202,
   "metadata": {},
   "outputs": [
    {
     "data": {
      "text/plain": [
       "<Figure size 500x800 with 0 Axes>"
      ]
     },
     "metadata": {},
     "output_type": "display_data"
    },
    {
     "data": {
      "image/png": "[encoded data removed]",
      "text/plain": [
       "<Figure size 640x480 with 1 Axes>"
      ]
     },
     "metadata": {},
     "output_type": "display_data"
    },
    {
     "data": {
      "image/png": "[encoded data removed]",
      "text/plain": [
       "<Figure size 640x480 with 1 Axes>"
      ]
     },
     "metadata": {},
     "output_type": "display_data"
    }
   ],
   "source": [
    "plt.figure(figsize=(5,8))\n",
    "pacf = plot_pacf(combined['sales'],lags =10)\n",
    "acf = plot_acf(combined['sales'],lags =10)"
   ]
  },
  {
   "cell_type": "markdown",
   "metadata": {},
   "source": [
    "##### Stationarity Test"
   ]
  },
  {
   "cell_type": "code",
   "execution_count": 203,
   "metadata": {},
   "outputs": [
    {
     "data": {
      "image/png": "[encoded data removed]",
      "text/plain": [
       "<Figure size 1200x500 with 1 Axes>"
      ]
     },
     "metadata": {},
     "output_type": "display_data"
    }
   ],
   "source": [
    "plt.figure(figsize=(12,5))\n",
    "rmean=combined['sales'].rolling(window=12).mean()\n",
    "rstd=combined['sales'].rolling(window=12).std()\n",
    "# print(rmean,rstd)\n",
    "orig=plt.plot(combined['sales'], color='black',label='Original')\n",
    "mean= plt.plot(rmean , color='red',label='Rolling Mean')\n",
    "std=plt.plot(rstd,color='blue',label = 'Rolling Standard Deviation')\n",
    "plt.legend(loc='best')\n",
    "plt.title(\"Rolling mean and standard deviation\")\n",
    "plt.show();"
   ]
  },
  {
   "cell_type": "markdown",
   "metadata": {},
   "source": [
    "###### Comment:\n",
    "From the graph above, the rolling mean and rolling standard deviation is constant, thus the dataset can be said to be stationary"
   ]
  },
  {
   "cell_type": "markdown",
   "metadata": {},
   "source": [
    "#### Ar Model"
   ]
  },
  {
   "cell_type": "code",
   "execution_count": 204,
   "metadata": {},
   "outputs": [
    {
     "data": {
      "text/html": [
       "<table class=\"simpletable\">\n",
       "<caption>AutoReg Model Results</caption>\n",
       "<tr>\n",
       "  <th>Dep. Variable:</th>       <td>sales</td>      <th>  No. Observations:  </th>    <td>1346</td>   \n",
       "</tr>\n",
       "<tr>\n",
       "  <th>Model:</th>            <td>AutoReg(5)</td>    <th>  Log Likelihood     </th> <td>-18194.672</td>\n",
       "</tr>\n",
       "<tr>\n",
       "  <th>Method:</th>         <td>Conditional MLE</td> <th>  S.D. of innovations</th> <td>188914.485</td>\n",
       "</tr>\n",
       "<tr>\n",
       "  <th>Date:</th>          <td>Sat, 29 Apr 2023</td> <th>  AIC                </th>  <td>36403.345</td>\n",
       "</tr>\n",
       "<tr>\n",
       "  <th>Time:</th>              <td>06:22:03</td>     <th>  BIC                </th>  <td>36439.753</td>\n",
       "</tr>\n",
       "<tr>\n",
       "  <th>Sample:</th>                <td>5</td>        <th>  HQIC               </th>  <td>36416.984</td>\n",
       "</tr>\n",
       "<tr>\n",
       "  <th></th>                     <td>1346</td>       <th>                     </th>      <td> </td>    \n",
       "</tr>\n",
       "</table>\n",
       "<table class=\"simpletable\">\n",
       "<tr>\n",
       "      <td></td>        <th>coef</th>     <th>std err</th>      <th>z</th>      <th>P>|z|</th>  <th>[0.025</th>    <th>0.975]</th>  \n",
       "</tr>\n",
       "<tr>\n",
       "  <th>const</th>    <td> 1.256e+05</td> <td> 1.64e+04</td> <td>    7.679</td> <td> 0.000</td> <td> 9.36e+04</td> <td> 1.58e+05</td>\n",
       "</tr>\n",
       "<tr>\n",
       "  <th>sales.L1</th> <td>    0.5466</td> <td>    0.027</td> <td>   20.223</td> <td> 0.000</td> <td>    0.494</td> <td>    0.600</td>\n",
       "</tr>\n",
       "<tr>\n",
       "  <th>sales.L2</th> <td>   -0.0540</td> <td>    0.031</td> <td>   -1.748</td> <td> 0.080</td> <td>   -0.114</td> <td>    0.007</td>\n",
       "</tr>\n",
       "<tr>\n",
       "  <th>sales.L3</th> <td>    0.1489</td> <td>    0.031</td> <td>    4.858</td> <td> 0.000</td> <td>    0.089</td> <td>    0.209</td>\n",
       "</tr>\n",
       "<tr>\n",
       "  <th>sales.L4</th> <td>    0.0030</td> <td>    0.031</td> <td>    0.096</td> <td> 0.924</td> <td>   -0.058</td> <td>    0.063</td>\n",
       "</tr>\n",
       "<tr>\n",
       "  <th>sales.L5</th> <td>    0.1465</td> <td>    0.027</td> <td>    5.417</td> <td> 0.000</td> <td>    0.093</td> <td>    0.199</td>\n",
       "</tr>\n",
       "</table>\n",
       "<table class=\"simpletable\">\n",
       "<caption>Roots</caption>\n",
       "<tr>\n",
       "    <td></td>   <th>            Real</th>  <th>         Imaginary</th> <th>         Modulus</th>  <th>        Frequency</th>\n",
       "</tr>\n",
       "<tr>\n",
       "  <th>AR.1</th> <td>           1.1123</td> <td>          -0.0000j</td> <td>           1.1123</td> <td>          -0.0000</td>\n",
       "</tr>\n",
       "<tr>\n",
       "  <th>AR.2</th> <td>           0.5849</td> <td>          -1.3983j</td> <td>           1.5157</td> <td>          -0.1869</td>\n",
       "</tr>\n",
       "<tr>\n",
       "  <th>AR.3</th> <td>           0.5849</td> <td>          +1.3983j</td> <td>           1.5157</td> <td>           0.1869</td>\n",
       "</tr>\n",
       "<tr>\n",
       "  <th>AR.4</th> <td>          -1.1511</td> <td>          -1.1605j</td> <td>           1.6346</td> <td>          -0.3744</td>\n",
       "</tr>\n",
       "<tr>\n",
       "  <th>AR.5</th> <td>          -1.1511</td> <td>          +1.1605j</td> <td>           1.6346</td> <td>           0.3744</td>\n",
       "</tr>\n",
       "</table>"
      ],
      "text/plain": [
       "<class 'statsmodels.iolib.summary.Summary'>\n",
       "\"\"\"\n",
       "                            AutoReg Model Results                             \n",
       "==============================================================================\n",
       "Dep. Variable:                  sales   No. Observations:                 1346\n",
       "Model:                     AutoReg(5)   Log Likelihood              -18194.672\n",
       "Method:               Conditional MLE   S.D. of innovations         188914.485\n",
       "Date:                Sat, 29 Apr 2023   AIC                          36403.345\n",
       "Time:                        06:22:03   BIC                          36439.753\n",
       "Sample:                             5   HQIC                         36416.984\n",
       "                                 1346                                         \n",
       "==============================================================================\n",
       "                 coef    std err          z      P>|z|      [0.025      0.975]\n",
       "------------------------------------------------------------------------------\n",
       "const       1.256e+05   1.64e+04      7.679      0.000    9.36e+04    1.58e+05\n",
       "sales.L1       0.5466      0.027     20.223      0.000       0.494       0.600\n",
       "sales.L2      -0.0540      0.031     -1.748      0.080      -0.114       0.007\n",
       "sales.L3       0.1489      0.031      4.858      0.000       0.089       0.209\n",
       "sales.L4       0.0030      0.031      0.096      0.924      -0.058       0.063\n",
       "sales.L5       0.1465      0.027      5.417      0.000       0.093       0.199\n",
       "                                    Roots                                    \n",
       "=============================================================================\n",
       "                  Real          Imaginary           Modulus         Frequency\n",
       "-----------------------------------------------------------------------------\n",
       "AR.1            1.1123           -0.0000j            1.1123           -0.0000\n",
       "AR.2            0.5849           -1.3983j            1.5157           -0.1869\n",
       "AR.3            0.5849           +1.3983j            1.5157            0.1869\n",
       "AR.4           -1.1511           -1.1605j            1.6346           -0.3744\n",
       "AR.5           -1.1511           +1.1605j            1.6346            0.3744\n",
       "-----------------------------------------------------------------------------\n",
       "\"\"\""
      ]
     },
     "execution_count": 204,
     "metadata": {},
     "output_type": "execute_result"
    }
   ],
   "source": [
    "model1 =AutoReg(train_data, lags=5).fit()\n",
    "model1.summary()"
   ]
  },
  {
   "cell_type": "markdown",
   "metadata": {},
   "source": [
    "##### Predictions"
   ]
  },
  {
   "cell_type": "code",
   "execution_count": 205,
   "metadata": {},
   "outputs": [],
   "source": [
    "Ar_pred = model1.predict(start =len(train_data),\n",
    "                       end = len(train_data) +len(test_data)-1,\n",
    "                       dynamic =False)"
   ]
  },
  {
   "cell_type": "code",
   "execution_count": 206,
   "metadata": {},
   "outputs": [
    {
     "data": {
      "image/png": "[encoded data removed]",
      "text/plain": [
       "<Figure size 500x300 with 1 Axes>"
      ]
     },
     "metadata": {},
     "output_type": "display_data"
    }
   ],
   "source": [
    "plt.figure(figsize=(5,3))\n",
    "plt.plot(train_data['sales'], label ='Train')\n",
    "plt.plot(test_data['sales'], label ='Test')\n",
    "plt.plot(Ar_pred, label ='Ar Forecast')\n",
    "plt.legend(loc='best')\n",
    "plt.title('AutoRegression Model Forecast')\n",
    "plt.show;"
   ]
  },
  {
   "cell_type": "markdown",
   "metadata": {},
   "source": [
    "##### Evaluation"
   ]
  },
  {
   "cell_type": "code",
   "execution_count": 207,
   "metadata": {},
   "outputs": [],
   "source": [
    "mse = mean_squared_error(test_data,Ar_pred)\n",
    "msle = mean_squared_log_error(test_data, Ar_pred)\n",
    "rmse =np.sqrt(mse).round(2)\n",
    "rmsle =np.sqrt(msle).round(2)"
   ]
  },
  {
   "cell_type": "code",
   "execution_count": 208,
   "metadata": {},
   "outputs": [
    {
     "data": {
      "text/html": [
       "<div>\n",
       "<style scoped>\n",
       "    .dataframe tbody tr th:only-of-type {\n",
       "        vertical-align: middle;\n",
       "    }\n",
       "\n",
       "    .dataframe tbody tr th {\n",
       "        vertical-align: top;\n",
       "    }\n",
       "\n",
       "    .dataframe thead th {\n",
       "        text-align: right;\n",
       "    }\n",
       "</style>\n",
       "<table border=\"1\" class=\"dataframe\">\n",
       "  <thead>\n",
       "    <tr style=\"text-align: right;\">\n",
       "      <th></th>\n",
       "      <th>Model</th>\n",
       "      <th>mse</th>\n",
       "      <th>msle</th>\n",
       "      <th>rmse</th>\n",
       "      <th>rmsle</th>\n",
       "    </tr>\n",
       "  </thead>\n",
       "  <tbody>\n",
       "    <tr>\n",
       "      <th>0</th>\n",
       "      <td>AR</td>\n",
       "      <td>133,593,712,396.331</td>\n",
       "      <td>0.211</td>\n",
       "      <td>365,504.740</td>\n",
       "      <td>0.460</td>\n",
       "    </tr>\n",
       "  </tbody>\n",
       "</table>\n",
       "</div>"
      ],
      "text/plain": [
       "  Model                 mse  msle        rmse  rmsle\n",
       "0    AR 133,593,712,396.331 0.211 365,504.740  0.460"
      ]
     },
     "execution_count": 208,
     "metadata": {},
     "output_type": "execute_result"
    }
   ],
   "source": [
    "results =pd.DataFrame([['AR',mse, msle,rmse,rmsle]], columns =['Model','mse','msle','rmse','rmsle'])\n",
    "\n",
    "results"
   ]
  },
  {
   "cell_type": "markdown",
   "metadata": {},
   "source": [
    "#### ARIMA"
   ]
  },
  {
   "cell_type": "code",
   "execution_count": 209,
   "metadata": {},
   "outputs": [
    {
     "name": "stdout",
     "output_type": "stream",
     "text": [
      "Performing stepwise search to minimize aic\n",
      " ARIMA(2,1,2)(0,0,0)[0] intercept   : AIC=36357.548, Time=14.70 sec\n",
      " ARIMA(0,1,0)(0,0,0)[0] intercept   : AIC=36862.492, Time=0.80 sec\n",
      " ARIMA(1,1,0)(0,0,0)[0] intercept   : AIC=36781.721, Time=0.16 sec\n",
      " ARIMA(0,1,1)(0,0,0)[0] intercept   : AIC=36524.179, Time=0.62 sec\n",
      " ARIMA(0,1,0)(0,0,0)[0]             : AIC=36860.497, Time=0.21 sec\n",
      " ARIMA(1,1,2)(0,0,0)[0] intercept   : AIC=36369.181, Time=0.69 sec\n",
      " ARIMA(2,1,1)(0,0,0)[0] intercept   : AIC=36388.175, Time=0.80 sec\n",
      " ARIMA(3,1,2)(0,0,0)[0] intercept   : AIC=36366.788, Time=1.75 sec\n",
      " ARIMA(2,1,3)(0,0,0)[0] intercept   : AIC=36162.292, Time=3.25 sec\n",
      " ARIMA(1,1,3)(0,0,0)[0] intercept   : AIC=36363.648, Time=1.84 sec\n",
      " ARIMA(3,1,3)(0,0,0)[0] intercept   : AIC=36150.595, Time=3.38 sec\n",
      " ARIMA(4,1,3)(0,0,0)[0] intercept   : AIC=36125.642, Time=3.68 sec\n",
      " ARIMA(4,1,2)(0,0,0)[0] intercept   : AIC=36242.199, Time=3.51 sec\n",
      " ARIMA(5,1,3)(0,0,0)[0] intercept   : AIC=36166.751, Time=3.42 sec\n",
      " ARIMA(4,1,4)(0,0,0)[0] intercept   : AIC=36161.170, Time=4.35 sec\n",
      " ARIMA(3,1,4)(0,0,0)[0] intercept   : AIC=36294.955, Time=2.25 sec\n",
      " ARIMA(5,1,2)(0,0,0)[0] intercept   : AIC=36172.865, Time=2.73 sec\n",
      " ARIMA(5,1,4)(0,0,0)[0] intercept   : AIC=36171.240, Time=2.51 sec\n",
      " ARIMA(4,1,3)(0,0,0)[0]             : AIC=36127.382, Time=3.43 sec\n",
      "\n",
      "Best model:  ARIMA(4,1,3)(0,0,0)[0] intercept\n",
      "Total fit time: 57.889 seconds\n"
     ]
    },
    {
     "data": {
      "text/html": [
       "<table class=\"simpletable\">\n",
       "<caption>SARIMAX Results</caption>\n",
       "<tr>\n",
       "  <th>Dep. Variable:</th>           <td>y</td>        <th>  No. Observations:  </th>    <td>1346</td>   \n",
       "</tr>\n",
       "<tr>\n",
       "  <th>Model:</th>           <td>SARIMAX(4, 1, 3)</td> <th>  Log Likelihood     </th> <td>-18053.821</td>\n",
       "</tr>\n",
       "<tr>\n",
       "  <th>Date:</th>            <td>Sat, 29 Apr 2023</td> <th>  AIC                </th>  <td>36125.642</td>\n",
       "</tr>\n",
       "<tr>\n",
       "  <th>Time:</th>                <td>06:23:07</td>     <th>  BIC                </th>  <td>36172.479</td>\n",
       "</tr>\n",
       "<tr>\n",
       "  <th>Sample:</th>                  <td>0</td>        <th>  HQIC               </th>  <td>36143.186</td>\n",
       "</tr>\n",
       "<tr>\n",
       "  <th></th>                      <td> - 1346</td>     <th>                     </th>      <td> </td>    \n",
       "</tr>\n",
       "<tr>\n",
       "  <th>Covariance Type:</th>        <td>opg</td>       <th>                     </th>      <td> </td>    \n",
       "</tr>\n",
       "</table>\n",
       "<table class=\"simpletable\">\n",
       "<tr>\n",
       "      <td></td>         <th>coef</th>     <th>std err</th>      <th>z</th>      <th>P>|z|</th>  <th>[0.025</th>    <th>0.975]</th>  \n",
       "</tr>\n",
       "<tr>\n",
       "  <th>intercept</th> <td> 1460.7701</td> <td>  790.021</td> <td>    1.849</td> <td> 0.064</td> <td>  -87.643</td> <td> 3009.183</td>\n",
       "</tr>\n",
       "<tr>\n",
       "  <th>ar.L1</th>     <td>    1.2954</td> <td>    0.023</td> <td>   56.276</td> <td> 0.000</td> <td>    1.250</td> <td>    1.341</td>\n",
       "</tr>\n",
       "<tr>\n",
       "  <th>ar.L2</th>     <td>   -1.2286</td> <td>    0.037</td> <td>  -33.035</td> <td> 0.000</td> <td>   -1.301</td> <td>   -1.156</td>\n",
       "</tr>\n",
       "<tr>\n",
       "  <th>ar.L3</th>     <td>    0.2585</td> <td>    0.041</td> <td>    6.363</td> <td> 0.000</td> <td>    0.179</td> <td>    0.338</td>\n",
       "</tr>\n",
       "<tr>\n",
       "  <th>ar.L4</th>     <td>   -0.1630</td> <td>    0.032</td> <td>   -5.147</td> <td> 0.000</td> <td>   -0.225</td> <td>   -0.101</td>\n",
       "</tr>\n",
       "<tr>\n",
       "  <th>ma.L1</th>     <td>   -1.9972</td> <td>    0.020</td> <td> -100.943</td> <td> 0.000</td> <td>   -2.036</td> <td>   -1.958</td>\n",
       "</tr>\n",
       "<tr>\n",
       "  <th>ma.L2</th>     <td>    1.9208</td> <td>    0.027</td> <td>   72.345</td> <td> 0.000</td> <td>    1.869</td> <td>    1.973</td>\n",
       "</tr>\n",
       "<tr>\n",
       "  <th>ma.L3</th>     <td>   -0.7732</td> <td>    0.018</td> <td>  -43.478</td> <td> 0.000</td> <td>   -0.808</td> <td>   -0.738</td>\n",
       "</tr>\n",
       "<tr>\n",
       "  <th>sigma2</th>    <td> 2.755e+10</td> <td>    0.001</td> <td>  3.1e+13</td> <td> 0.000</td> <td> 2.75e+10</td> <td> 2.75e+10</td>\n",
       "</tr>\n",
       "</table>\n",
       "<table class=\"simpletable\">\n",
       "<tr>\n",
       "  <th>Ljung-Box (L1) (Q):</th>     <td>0.42</td> <th>  Jarque-Bera (JB):  </th> <td>50173.34</td>\n",
       "</tr>\n",
       "<tr>\n",
       "  <th>Prob(Q):</th>                <td>0.51</td> <th>  Prob(JB):          </th>   <td>0.00</td>  \n",
       "</tr>\n",
       "<tr>\n",
       "  <th>Heteroskedasticity (H):</th> <td>5.61</td> <th>  Skew:              </th>   <td>3.31</td>  \n",
       "</tr>\n",
       "<tr>\n",
       "  <th>Prob(H) (two-sided):</th>    <td>0.00</td> <th>  Kurtosis:          </th>   <td>32.18</td> \n",
       "</tr>\n",
       "</table><br/><br/>Warnings:<br/>[1] Covariance matrix calculated using the outer product of gradients (complex-step).<br/>[2] Covariance matrix is singular or near-singular, with condition number 2.94e+27. Standard errors may be unstable."
      ],
      "text/plain": [
       "<class 'statsmodels.iolib.summary.Summary'>\n",
       "\"\"\"\n",
       "                               SARIMAX Results                                \n",
       "==============================================================================\n",
       "Dep. Variable:                      y   No. Observations:                 1346\n",
       "Model:               SARIMAX(4, 1, 3)   Log Likelihood              -18053.821\n",
       "Date:                Sat, 29 Apr 2023   AIC                          36125.642\n",
       "Time:                        06:23:07   BIC                          36172.479\n",
       "Sample:                             0   HQIC                         36143.186\n",
       "                               - 1346                                         \n",
       "Covariance Type:                  opg                                         \n",
       "==============================================================================\n",
       "                 coef    std err          z      P>|z|      [0.025      0.975]\n",
       "------------------------------------------------------------------------------\n",
       "intercept   1460.7701    790.021      1.849      0.064     -87.643    3009.183\n",
       "ar.L1          1.2954      0.023     56.276      0.000       1.250       1.341\n",
       "ar.L2         -1.2286      0.037    -33.035      0.000      -1.301      -1.156\n",
       "ar.L3          0.2585      0.041      6.363      0.000       0.179       0.338\n",
       "ar.L4         -0.1630      0.032     -5.147      0.000      -0.225      -0.101\n",
       "ma.L1         -1.9972      0.020   -100.943      0.000      -2.036      -1.958\n",
       "ma.L2          1.9208      0.027     72.345      0.000       1.869       1.973\n",
       "ma.L3         -0.7732      0.018    -43.478      0.000      -0.808      -0.738\n",
       "sigma2      2.755e+10      0.001    3.1e+13      0.000    2.75e+10    2.75e+10\n",
       "===================================================================================\n",
       "Ljung-Box (L1) (Q):                   0.42   Jarque-Bera (JB):             50173.34\n",
       "Prob(Q):                              0.51   Prob(JB):                         0.00\n",
       "Heteroskedasticity (H):               5.61   Skew:                             3.31\n",
       "Prob(H) (two-sided):                  0.00   Kurtosis:                        32.18\n",
       "===================================================================================\n",
       "\n",
       "Warnings:\n",
       "[1] Covariance matrix calculated using the outer product of gradients (complex-step).\n",
       "[2] Covariance matrix is singular or near-singular, with condition number 2.94e+27. Standard errors may be unstable.\n",
       "\"\"\""
      ]
     },
     "execution_count": 209,
     "metadata": {},
     "output_type": "execute_result"
    }
   ],
   "source": [
    "stepwise_fit = auto_arima(train_data['sales'], trace =True,suppress_warning =True)\n",
    "stepwise_fit.summary()"
   ]
  },
  {
   "cell_type": "code",
   "execution_count": 210,
   "metadata": {},
   "outputs": [
    {
     "data": {
      "text/html": [
       "<table class=\"simpletable\">\n",
       "<caption>SARIMAX Results</caption>\n",
       "<tr>\n",
       "  <th>Dep. Variable:</th>         <td>sales</td>      <th>  No. Observations:  </th>    <td>1346</td>   \n",
       "</tr>\n",
       "<tr>\n",
       "  <th>Model:</th>            <td>ARIMA(4, 1, 3)</td>  <th>  Log Likelihood     </th> <td>-18055.691</td>\n",
       "</tr>\n",
       "<tr>\n",
       "  <th>Date:</th>            <td>Sat, 29 Apr 2023</td> <th>  AIC                </th>  <td>36127.382</td>\n",
       "</tr>\n",
       "<tr>\n",
       "  <th>Time:</th>                <td>06:23:33</td>     <th>  BIC                </th>  <td>36169.015</td>\n",
       "</tr>\n",
       "<tr>\n",
       "  <th>Sample:</th>                  <td>0</td>        <th>  HQIC               </th>  <td>36142.976</td>\n",
       "</tr>\n",
       "<tr>\n",
       "  <th></th>                      <td> - 1346</td>     <th>                     </th>      <td> </td>    \n",
       "</tr>\n",
       "<tr>\n",
       "  <th>Covariance Type:</th>        <td>opg</td>       <th>                     </th>      <td> </td>    \n",
       "</tr>\n",
       "</table>\n",
       "<table class=\"simpletable\">\n",
       "<tr>\n",
       "     <td></td>       <th>coef</th>     <th>std err</th>      <th>z</th>      <th>P>|z|</th>  <th>[0.025</th>    <th>0.975]</th>  \n",
       "</tr>\n",
       "<tr>\n",
       "  <th>ar.L1</th>  <td>    1.2820</td> <td>    0.022</td> <td>   57.086</td> <td> 0.000</td> <td>    1.238</td> <td>    1.326</td>\n",
       "</tr>\n",
       "<tr>\n",
       "  <th>ar.L2</th>  <td>   -1.2265</td> <td>    0.037</td> <td>  -33.219</td> <td> 0.000</td> <td>   -1.299</td> <td>   -1.154</td>\n",
       "</tr>\n",
       "<tr>\n",
       "  <th>ar.L3</th>  <td>    0.2653</td> <td>    0.040</td> <td>    6.633</td> <td> 0.000</td> <td>    0.187</td> <td>    0.344</td>\n",
       "</tr>\n",
       "<tr>\n",
       "  <th>ar.L4</th>  <td>   -0.1745</td> <td>    0.030</td> <td>   -5.750</td> <td> 0.000</td> <td>   -0.234</td> <td>   -0.115</td>\n",
       "</tr>\n",
       "<tr>\n",
       "  <th>ma.L1</th>  <td>   -1.9850</td> <td>    0.017</td> <td> -113.638</td> <td> 0.000</td> <td>   -2.019</td> <td>   -1.951</td>\n",
       "</tr>\n",
       "<tr>\n",
       "  <th>ma.L2</th>  <td>    1.9188</td> <td>    0.024</td> <td>   80.844</td> <td> 0.000</td> <td>    1.872</td> <td>    1.965</td>\n",
       "</tr>\n",
       "<tr>\n",
       "  <th>ma.L3</th>  <td>   -0.7774</td> <td>    0.017</td> <td>  -44.537</td> <td> 0.000</td> <td>   -0.812</td> <td>   -0.743</td>\n",
       "</tr>\n",
       "<tr>\n",
       "  <th>sigma2</th> <td> 2.755e+10</td> <td> 8.04e-13</td> <td> 3.43e+22</td> <td> 0.000</td> <td> 2.75e+10</td> <td> 2.75e+10</td>\n",
       "</tr>\n",
       "</table>\n",
       "<table class=\"simpletable\">\n",
       "<tr>\n",
       "  <th>Ljung-Box (L1) (Q):</th>     <td>0.71</td> <th>  Jarque-Bera (JB):  </th> <td>48616.10</td>\n",
       "</tr>\n",
       "<tr>\n",
       "  <th>Prob(Q):</th>                <td>0.40</td> <th>  Prob(JB):          </th>   <td>0.00</td>  \n",
       "</tr>\n",
       "<tr>\n",
       "  <th>Heteroskedasticity (H):</th> <td>5.50</td> <th>  Skew:              </th>   <td>3.24</td>  \n",
       "</tr>\n",
       "<tr>\n",
       "  <th>Prob(H) (two-sided):</th>    <td>0.00</td> <th>  Kurtosis:          </th>   <td>31.73</td> \n",
       "</tr>\n",
       "</table><br/><br/>Warnings:<br/>[1] Covariance matrix calculated using the outer product of gradients (complex-step).<br/>[2] Covariance matrix is singular or near-singular, with condition number 5.18e+37. Standard errors may be unstable."
      ],
      "text/plain": [
       "<class 'statsmodels.iolib.summary.Summary'>\n",
       "\"\"\"\n",
       "                               SARIMAX Results                                \n",
       "==============================================================================\n",
       "Dep. Variable:                  sales   No. Observations:                 1346\n",
       "Model:                 ARIMA(4, 1, 3)   Log Likelihood              -18055.691\n",
       "Date:                Sat, 29 Apr 2023   AIC                          36127.382\n",
       "Time:                        06:23:33   BIC                          36169.015\n",
       "Sample:                             0   HQIC                         36142.976\n",
       "                               - 1346                                         \n",
       "Covariance Type:                  opg                                         \n",
       "==============================================================================\n",
       "                 coef    std err          z      P>|z|      [0.025      0.975]\n",
       "------------------------------------------------------------------------------\n",
       "ar.L1          1.2820      0.022     57.086      0.000       1.238       1.326\n",
       "ar.L2         -1.2265      0.037    -33.219      0.000      -1.299      -1.154\n",
       "ar.L3          0.2653      0.040      6.633      0.000       0.187       0.344\n",
       "ar.L4         -0.1745      0.030     -5.750      0.000      -0.234      -0.115\n",
       "ma.L1         -1.9850      0.017   -113.638      0.000      -2.019      -1.951\n",
       "ma.L2          1.9188      0.024     80.844      0.000       1.872       1.965\n",
       "ma.L3         -0.7774      0.017    -44.537      0.000      -0.812      -0.743\n",
       "sigma2      2.755e+10   8.04e-13   3.43e+22      0.000    2.75e+10    2.75e+10\n",
       "===================================================================================\n",
       "Ljung-Box (L1) (Q):                   0.71   Jarque-Bera (JB):             48616.10\n",
       "Prob(Q):                              0.40   Prob(JB):                         0.00\n",
       "Heteroskedasticity (H):               5.50   Skew:                             3.24\n",
       "Prob(H) (two-sided):                  0.00   Kurtosis:                        31.73\n",
       "===================================================================================\n",
       "\n",
       "Warnings:\n",
       "[1] Covariance matrix calculated using the outer product of gradients (complex-step).\n",
       "[2] Covariance matrix is singular or near-singular, with condition number 5.18e+37. Standard errors may be unstable.\n",
       "\"\"\""
      ]
     },
     "execution_count": 210,
     "metadata": {},
     "output_type": "execute_result"
    }
   ],
   "source": [
    "model2 = ARIMA(train_data, order=(4,1,3))\n",
    "model_fit = model2.fit()\n",
    "model_fit.summary()"
   ]
  },
  {
   "cell_type": "markdown",
   "metadata": {},
   "source": [
    "##### Prediction"
   ]
  },
  {
   "cell_type": "code",
   "execution_count": 211,
   "metadata": {},
   "outputs": [
    {
     "name": "stdout",
     "output_type": "stream",
     "text": [
      "1346   820,937.289\n",
      "1347   696,914.523\n",
      "1348   676,693.669\n",
      "1349   733,076.491\n",
      "1350   831,540.205\n",
      "           ...    \n",
      "1678   817,262.097\n",
      "1679   820,289.410\n",
      "1680   805,361.557\n",
      "1681   783,947.326\n",
      "1682   772,317.826\n",
      "Name: predicted_mean, Length: 337, dtype: float64\n"
     ]
    }
   ],
   "source": [
    "Arima_pred = model_fit.predict(start =len(train_data),\n",
    "                       end = len(train_data) +len(test_data)-1,\n",
    "                       typ ='levels')\n",
    "\n",
    "print(Arima_pred)"
   ]
  },
  {
   "cell_type": "code",
   "execution_count": 212,
   "metadata": {},
   "outputs": [
    {
     "data": {
      "image/png": "[encoded data removed]",
      "text/plain": [
       "<Figure size 800x400 with 1 Axes>"
      ]
     },
     "metadata": {},
     "output_type": "display_data"
    }
   ],
   "source": [
    "plt.figure(figsize=(8,4))\n",
    "plt.plot(train_data['sales'], label ='Train')\n",
    "plt.plot(test_data['sales'], label ='Test')\n",
    "plt.plot(Arima_pred, label ='Arima Forecast')\n",
    "plt.legend(loc='best')\n",
    "plt.title('ARIMA Model Forecast')\n",
    "plt.show();"
   ]
  },
  {
   "cell_type": "markdown",
   "metadata": {},
   "source": [
    "###### Evaluation"
   ]
  },
  {
   "cell_type": "code",
   "execution_count": 213,
   "metadata": {},
   "outputs": [
    {
     "data": {
      "text/html": [
       "<div>\n",
       "<style scoped>\n",
       "    .dataframe tbody tr th:only-of-type {\n",
       "        vertical-align: middle;\n",
       "    }\n",
       "\n",
       "    .dataframe tbody tr th {\n",
       "        vertical-align: top;\n",
       "    }\n",
       "\n",
       "    .dataframe thead th {\n",
       "        text-align: right;\n",
       "    }\n",
       "</style>\n",
       "<table border=\"1\" class=\"dataframe\">\n",
       "  <thead>\n",
       "    <tr style=\"text-align: right;\">\n",
       "      <th></th>\n",
       "      <th>Model</th>\n",
       "      <th>mse</th>\n",
       "      <th>msle</th>\n",
       "      <th>rmse</th>\n",
       "      <th>rmsle</th>\n",
       "    </tr>\n",
       "  </thead>\n",
       "  <tbody>\n",
       "    <tr>\n",
       "      <th>0</th>\n",
       "      <td>AR</td>\n",
       "      <td>133,593,712,396.331</td>\n",
       "      <td>0.211</td>\n",
       "      <td>365,504.740</td>\n",
       "      <td>0.460</td>\n",
       "    </tr>\n",
       "    <tr>\n",
       "      <th>1</th>\n",
       "      <td>ARIMA</td>\n",
       "      <td>62,010,718,148.119</td>\n",
       "      <td>0.101</td>\n",
       "      <td>249,019.510</td>\n",
       "      <td>0.320</td>\n",
       "    </tr>\n",
       "  </tbody>\n",
       "</table>\n",
       "</div>"
      ],
      "text/plain": [
       "   Model                 mse  msle        rmse  rmsle\n",
       "0     AR 133,593,712,396.331 0.211 365,504.740  0.460\n",
       "1  ARIMA  62,010,718,148.119 0.101 249,019.510  0.320"
      ]
     },
     "execution_count": 213,
     "metadata": {},
     "output_type": "execute_result"
    }
   ],
   "source": [
    "mse = mean_squared_error(test_data,Arima_pred)\n",
    "msle = mean_squared_log_error(test_data, Arima_pred)\n",
    "rmse =np.sqrt(mse).round(2)\n",
    "rmsle =np.sqrt(msle).round(2)\n",
    "\n",
    "results1 =pd.DataFrame([['ARIMA',mse, msle,rmse,rmsle]], columns =['Model','mse','msle','rmse','rmsle'])\n",
    "\n",
    "results = results.append(results1,ignore_index =True)\n",
    "\n",
    "results"
   ]
  },
  {
   "cell_type": "markdown",
   "metadata": {},
   "source": [
    "##### Comment:\n",
    "\n",
    "The ARIMA model performs better than the AR model"
   ]
  },
  {
   "cell_type": "markdown",
   "metadata": {},
   "source": [
    "#### Multivariate Forecasting with Sales as dependent variable"
   ]
  },
  {
   "cell_type": "markdown",
   "metadata": {},
   "source": [
    "#### Linear Model"
   ]
  },
  {
   "cell_type": "code",
   "execution_count": 214,
   "metadata": {
    "id": "m0n_baUexL9L"
   },
   "outputs": [],
   "source": [
    "# Linear Regression Model\n",
    "lr = LinearRegression()\n",
    "model = lr.fit(X_train, y_train)\n",
    "\n",
    "# Make prediction on X_test\n",
    "lr_predictions = lr.predict(X_test)"
   ]
  },
  {
   "cell_type": "code",
   "execution_count": 215,
   "metadata": {
    "colab": {
     "base_uri": "https://localhost:8080/"
    },
    "id": "8FtlvF2yQ7JC",
    "outputId": "11b3b2c0-795f-4268-f78f-db79850739c1"
   },
   "outputs": [
    {
     "name": "stdout",
     "output_type": "stream",
     "text": [
      "\n",
      "Evaluation Results for Linear Regression:\n",
      "MSE: 0.69\n",
      "RMSE: 0.83\n",
      "RMSLE: 0.27\n"
     ]
    }
   ],
   "source": [
    "# Evaluation Metrics for Linear Regression\n",
    "lr_mse = mean_squared_error(y_test, lr_predictions).round(2)\n",
    "lr_rmse = np.sqrt(lr_mse).round(2)\n",
    "\n",
    "# apply the absolute value function to y_test to remove negative signs\n",
    "y_test_abs = abs(y_test)\n",
    "lr_predictions_abs = abs(lr_predictions)\n",
    "\n",
    "# calculate the mean squared logarithmic error using the new y_test_abs and lr_predictions_abs array\n",
    "lr_rmsle = np.sqrt(mean_squared_log_error(y_test_abs, lr_predictions_abs)).round(2)\n",
    "\n",
    "# Print the evaluation results for Linear Regression model\n",
    "print(\"\\nEvaluation Results for Linear Regression:\")\n",
    "print(\"MSE:\", lr_mse)\n",
    "print(\"RMSE:\", lr_rmse)\n",
    "print(\"RMSLE:\", lr_rmsle)"
   ]
  },
  {
   "cell_type": "code",
   "execution_count": 216,
   "metadata": {
    "colab": {
     "base_uri": "https://localhost:8080/"
    },
    "id": "Gytm9GdexMAg",
    "outputId": "3581d9db-3ed0-4e47-b1b3-646270acbc7d"
   },
   "outputs": [
    {
     "name": "stdout",
     "output_type": "stream",
     "text": [
      "Mean Squared Error: 0.69\n"
     ]
    }
   ],
   "source": [
    "from sklearn.metrics import mean_squared_error\n",
    "\n",
    "# predict on test set\n",
    "y_pred = model.predict(X_test)\n",
    "\n",
    "# calculate MSE\n",
    "mse = mean_squared_error(y_test, y_pred)\n",
    "\n",
    "print(f\"Mean Squared Error: {mse:.2f}\")"
   ]
  },
  {
   "cell_type": "markdown",
   "metadata": {
    "id": "-mZ4p3DSQ7JG"
   },
   "source": [
    "#### Decision Tree Regression Model"
   ]
  },
  {
   "cell_type": "code",
   "execution_count": 217,
   "metadata": {
    "colab": {
     "base_uri": "https://localhost:8080/"
    },
    "id": "mdbdDyANQ7JH",
    "outputId": "5037f2b0-21a8-415e-e30d-cbe6ccbf8dd8"
   },
   "outputs": [
    {
     "name": "stdout",
     "output_type": "stream",
     "text": [
      "\n",
      "Evaluation Results for Decision Tree Regression:\n",
      "MSE: 0.07\n",
      "RMSE: 0.26\n",
      "RMLSE: 0.06\n"
     ]
    }
   ],
   "source": [
    "# Decision Tree Regression Model\n",
    "dt = DecisionTreeRegressor()\n",
    "dt.fit(X_train, y_train)\n",
    "\n",
    "# Make prediction on X_test\n",
    "dt_predictions = dt.predict(X_test)\n",
    "\n",
    "# Evaluation Metrics for Decision Tree Regression\n",
    "dt_mse = mean_squared_error(y_test, dt_predictions).round(2)\n",
    "dt_rmse = np.sqrt(dt_mse).round(2)\n",
    "\n",
    "# Evaluation Metrics for Decision Tree Regression\n",
    "dt_predictions_abs = abs(dt_predictions)\n",
    "\n",
    "# calculate the mean squared logarithmic error using the new y_test_abs and dt_predictions_abs array\n",
    "dt_rmsle = np.sqrt(mean_squared_log_error(y_test_abs, dt_predictions_abs)).round(2)\n",
    "\n",
    "# Print the evaluation results for Decision Tree Regression model\n",
    "print(\"\\nEvaluation Results for Decision Tree Regression:\")\n",
    "print(\"MSE:\", dt_mse)\n",
    "print(\"RMSE:\", dt_rmse)\n",
    "\n",
    "print(\"RMLSE:\", dt_rmsle)"
   ]
  },
  {
   "cell_type": "markdown",
   "metadata": {
    "id": "MUnvBcAin-mL"
   },
   "source": [
    "#### XGBoost Model"
   ]
  },
  {
   "cell_type": "code",
   "execution_count": 218,
   "metadata": {
    "id": "nKuDBvuDQ7JM"
   },
   "outputs": [],
   "source": [
    "# create an instance of the XGBRegressor class\n",
    "xgb_model = xgb.XGBRegressor()\n",
    "\n",
    "# fit the model on the training data\n",
    "xgb_model.fit(X_train, y_train)\n",
    "\n",
    "# make predictions on the test data\n",
    "xgb_predictions = xgb_model.predict(X_test)"
   ]
  },
  {
   "cell_type": "code",
   "execution_count": 219,
   "metadata": {
    "colab": {
     "base_uri": "https://localhost:8080/"
    },
    "id": "dfqvq88JQ7JN",
    "outputId": "0d699c2c-232e-45d6-b6b0-96a9725ff6dd"
   },
   "outputs": [
    {
     "name": "stdout",
     "output_type": "stream",
     "text": [
      "\n",
      "Evaluation Results for XGBoost:\n",
      "MSE: 0.12\n",
      "RMSE: 0.35\n",
      "RMSLE: 0.12\n"
     ]
    }
   ],
   "source": [
    "# Evaluation Metrics for XGBoost\n",
    "xgb_mse = mean_squared_error(y_test, xgb_predictions).round(2)\n",
    "xgb_rmse = np.sqrt(xgb_mse).round(2)\n",
    "\n",
    "#y_test_abs = abs(y_test)\n",
    "xgb_predictions_abs = abs(xgb_predictions)\n",
    "\n",
    "# calculate the mean squared logarithmic error using the new y_test_abs and xgb_predictions_abs array\n",
    "xgb_rmsle = np.sqrt(mean_squared_log_error(y_test_abs, xgb_predictions_abs)).round(2)\n",
    "\n",
    "# Print the evaluation results for XGBoost model\n",
    "print(\"\\nEvaluation Results for XGBoost:\")\n",
    "print(\"MSE:\", xgb_mse)\n",
    "print(\"RMSE:\", xgb_rmse)\n",
    "print(\"RMSLE:\", xgb_rmsle)"
   ]
  },
  {
   "cell_type": "markdown",
   "metadata": {
    "id": "2mgkhgCdQ7JO"
   },
   "source": [
    "#### Random Forest Regression Model"
   ]
  },
  {
   "cell_type": "code",
   "execution_count": 220,
   "metadata": {
    "id": "XbzUgVqgQ7JQ"
   },
   "outputs": [],
   "source": [
    "# Random Forest Regression Model\n",
    "rf = RandomForestRegressor(n_estimators=20, random_state=42)\n",
    "rf.fit(X_train, y_train)\n",
    "\n",
    "# Make prediction on X_test\n",
    "rf_predictions = rf.predict(X_test)"
   ]
  },
  {
   "cell_type": "code",
   "execution_count": 221,
   "metadata": {
    "colab": {
     "base_uri": "https://localhost:8080/"
    },
    "id": "kAbQUZpOy3QT",
    "outputId": "0ef69db3-4286-46f8-aa8e-cb539e726ee8"
   },
   "outputs": [
    {
     "name": "stdout",
     "output_type": "stream",
     "text": [
      "\n",
      "Evaluation Results for Random Forest:\n",
      "MSE: 0.04\n",
      "RMSE: 0.2\n",
      "RMSLE: 0.05\n"
     ]
    }
   ],
   "source": [
    "# Evaluation Metrics for Random Forest Regression\n",
    "rf_mse = mean_squared_error(y_test, rf_predictions).round(2)\n",
    "rf_rmse = np.sqrt(rf_mse).round(2)\n",
    "\n",
    "# apply the absolute value function to y_test to remove negative signs\n",
    "rf_predictions_abs = abs(rf_predictions)\n",
    "\n",
    "# calculate the mean squared logarithmic error using the new y_test_abs and rf_predictions_abs array\n",
    "rf_rmsle = np.sqrt(mean_squared_log_error(y_test_abs, rf_predictions_abs)).round(2)\n",
    "\n",
    "# Print the evaluation results for Random Forest Regrression model\n",
    "print(\"\\nEvaluation Results for Random Forest:\")\n",
    "print(\"MSE:\", rf_mse)\n",
    "print(\"RMSE:\", rf_rmse)\n",
    "print(\"RMSLE:\", rf_rmsle)\n",
    "                                          "
   ]
  },
  {
   "cell_type": "markdown",
   "metadata": {},
   "source": [
    "### Evaluation"
   ]
  },
  {
   "cell_type": "code",
   "execution_count": 222,
   "metadata": {
    "colab": {
     "base_uri": "https://localhost:8080/"
    },
    "id": "qCa9cWS43oe0",
    "outputId": "4042c17a-a70f-4406-ad7f-12a36925d84f"
   },
   "outputs": [
    {
     "name": "stdout",
     "output_type": "stream",
     "text": [
      "Comparison Table of Evaluation Results:\n",
      "                     MSE  RMSE  RMSLE\n",
      "Linear Regression 0.690 0.830  0.270\n",
      "Decision Tree     0.070 0.260  0.060\n",
      "XGBoost           0.120 0.350  0.120\n",
      "Random Forest     0.040 0.200  0.050\n"
     ]
    }
   ],
   "source": [
    "# Define a table to compare evaluation results\n",
    "evaluation_metrics = ['MSE', 'RMSE', 'RMSLE']\n",
    "models = ['Linear Regression', 'Decision Tree', 'XGBoost', 'Random Forest']\n",
    "results = [[lr_mse, lr_rmse, lr_rmsle],\n",
    "           [dt_mse, dt_rmse, dt_rmsle],\n",
    "           [xgb_mse, xgb_rmse, xgb_rmsle],\n",
    "           [rf_mse, rf_rmse, rf_rmsle]]\n",
    "results_table = pd.DataFrame(data=results, columns=evaluation_metrics, index=models)\n",
    "\n",
    "# Print the comparison table\n",
    "print(\"Comparison Table of Evaluation Results:\\n\", results_table)\n"
   ]
  },
  {
   "cell_type": "markdown",
   "metadata": {},
   "source": [
    "#### Comments\n",
    "\n",
    "* From the evaluation metric summary, the decision tree model performs better than the other models "
   ]
  }
 ],
 "metadata": {
  "colab": {
   "provenance": []
  },
  "kernelspec": {
   "display_name": "Python 3 (ipykernel)",
   "language": "python",
   "name": "python3"
  },
  "language_info": {
   "codemirror_mode": {
    "name": "ipython",
    "version": 3
   },
   "file_extension": ".py",
   "mimetype": "text/x-python",
   "name": "python",
   "nbconvert_exporter": "python",
   "pygments_lexer": "ipython3",
   "version": "3.10.9"
  },
  "widgets": {
   "application/vnd.jupyter.widget-state+json": {
    "c3803588432a452e834aff4477de3ccd": {
     "model_module": "@jupyter-widgets/base",
     "model_module_version": "1.2.0",
     "model_name": "LayoutModel",
     "state": {
      "_model_module": "@jupyter-widgets/base",
      "_model_module_version": "1.2.0",
      "_model_name": "LayoutModel",
      "_view_count": null,
      "_view_module": "@jupyter-widgets/base",
      "_view_module_version": "1.2.0",
      "_view_name": "LayoutView",
      "align_content": null,
      "align_items": null,
      "align_self": null,
      "border": null,
      "bottom": null,
      "display": null,
      "flex": null,
      "flex_flow": null,
      "grid_area": null,
      "grid_auto_columns": null,
      "grid_auto_flow": null,
      "grid_auto_rows": null,
      "grid_column": null,
      "grid_gap": null,
      "grid_row": null,
      "grid_template_areas": null,
      "grid_template_columns": null,
      "grid_template_rows": null,
      "height": null,
      "justify_content": null,
      "justify_items": null,
      "left": null,
      "margin": null,
      "max_height": null,
      "max_width": null,
      "min_height": null,
      "min_width": null,
      "object_fit": null,
      "object_position": null,
      "order": null,
      "overflow": null,
      "overflow_x": null,
      "overflow_y": null,
      "padding": null,
      "right": null,
      "top": null,
      "visibility": null,
      "width": null
     }
    },
    "eae78674257a499593ec73d6e5829170": {
     "model_module": "@jupyter-widgets/output",
     "model_module_version": "1.0.0",
     "model_name": "OutputModel",
     "state": {
      "_dom_classes": [],
      "_model_module": "@jupyter-widgets/output",
      "_model_module_version": "1.0.0",
      "_model_name": "OutputModel",
      "_view_count": null,
      "_view_module": "@jupyter-widgets/output",
      "_view_module_version": "1.0.0",
      "_view_name": "OutputView",
      "layout": "IPY_MODEL_c3803588432a452e834aff4477de3ccd",
      "msg_id": "",
      "outputs": [
       {
        "data": {
         "image/png": "iVBORw0KGgoAAAANSUhEUgAAAtMAAADvCAYAAAAw01jOAAAAOXRFWHRTb2Z0d2FyZQBNYXRwbG90bGliIHZlcnNpb24zLjcuMSwgaHR0cHM6Ly9tYXRwbG90bGliLm9yZy/bCgiHAAAACXBIWXMAAA9hAAAPYQGoP6dpAABULUlEQVR4nO3dd1gUV/s38C8sICKKUqyosQFKRxIFwd5bROyiYCyI2DWKXRSDsfcSe8FYsWN5EkswAhEEERu2GDSJ0lSagMu8f/hjXlZ2FVbaku/nurge98yZU252n9zMnD2jJgiCACIiIiIiKjT10h4AEREREZGqYjJNRERERKQkJtNEREREREpiMk1EREREpCQm00RERERESmIyTURERESkJCbTRERERERKYjJNRERERKQkJtNEREREREpiMk1EVAICAwNhamqK58+fF3nbpqamWL9+vdLnLlq0qIhHVPZ9ScyUlZCQgIkTJ6JFixYwNTXF7t27S7R/IioeTKaJ/uNyk7zbt2+X9lCKxOnTp1U6SVm/fj1MTU2RlJQk93j79u3h6elZwqMqWjdv3sT69evx9u3bAp9z6dIluLm5wcHBAdbW1ujQoQMmTZqE3377rRhHWrT8/f0RHByMMWPGYNmyZXB2di62vpKTk7F9+3YMHToULVu2hL29PQYMGICgoCC59bOysrB8+XI4OTnBysoK/fv3x++//56v3rVr1zB79mz07NkTTZs2Rfv27eW29/jxYyxbtgzffvstbG1t4eTkhDFjxpSb/58hyovJNBGVK2fOnMHevXtLexglKjo6Gl5eXqU9jAKLjIzEhg0bCpxM79ixA15eXlBTU4OnpydmzZqFzp0749mzZwqTw7IoNDQUHTp0wMiRI/Htt9+iUaNGxdZXVFQU1qxZAz09PXh5eWHKlCnQ1tbGlClTsG7dunz1fXx8sHv3bvTq1Qtz5syBRCLBmDFjEB4eLlPvzJkzOHPmDHR1dVG9enWF/R89ehRHjhyBhYUFfHx84OHhgadPn2LgwIG4fv16kc+XqDRplPYAiIjoy1SoUKG0h1Bs3r9/j02bNqFVq1bYuXNnvuOJiYmlMCrlJCYmokqVKkXWXmZmJjQ1NaGunv+6WOPGjXHhwgXUqVNHLBsyZAg8PDywbds2jBo1Cjo6OgA+/DF29uxZzJgxAyNHjgQA9OnTBz179sSKFStw8OBBsY0pU6Zg8eLF0NTUhKenJx4+fCh3bD169MD48eNRqVIlsczV1RXdu3fH+vXr4ejoWCQxICoLeGWaiArk7t27GDVqFOzs7GBrawt3d3dERUWJx9++fYumTZvKXBVOSkqCmZkZWrRoAUEQxPIFCxagVatWMu3funULI0eORPPmzWFtbQ03NzdERETI1ElNTcWSJUvQvn17WFhYwMHBASNGjMCdO3cAAMOGDcOVK1fw4sULmJqawtTUVOFt6FzHjh3D8OHD4eDgAAsLC3Tv3h0HDhzIVy93eUV4eDj69esHS0tLdOjQASdOnMhX9+HDhxg+fDisrKzQunVrbNq0CTk5OZ8cx5eQt/43LCwMffv2haWlJTp27IiDBw+KS0jk+eWXX9CzZ09YWFigR48ecpdPvHz5ErNmzYKjo6NY7+jRo/nq7du3Dz169IC1tTW+/vpr9O3bF6dPnwbwYRnLsmXLAAAdOnQQf0+K1pInJycjNTUVdnZ2co8bGBiI/87KysLatWvRt29fNG/eHDY2NhgyZAhCQ0Plnlsc85MndymVIAgICAgQ55wrLi4OEydOxDfffANra2sMGDAAV65ckWkjLCwMpqamOHv2LFavXg1nZ2dYW1sjNTVVbp9169aVSaQBQE1NDR07dkRWVhbi4uLE8vPnz0MikWDgwIFiWYUKFdCvXz9ERkbin3/+Ectr1KgBTU1NhXPNZWFhIZNIA0C1atVgb2+PJ0+efPZ8IlXCK9NE9FkPHz7E0KFDUalSJYwaNQoaGho4dOgQhg0bhv3798Pa2hpVqlRBkyZNEB4ejuHDhwP4sDZWTU0Nr1+/xqNHj9CkSRMAQEREBJo3by62HxISgtGjR8PCwgLjx4+HmpoaAgMD4e7ujgMHDsDKygrAhyT8woULcHNzQ6NGjfD69WtERETg8ePHMDc3x9ixY5GSkoJ///0Xs2bNAoB8/0H/2M8//4wmTZqgffv20NDQwOXLl+Hr6wtBEDB06FCZus+ePcOkSZPQr18/uLi44NixY/Dx8YG5ubk4t/j4eAwfPhxSqRRjxoxBxYoVcfjw4UJfPX7z5o3c8oIk5bl/+BgZGWHChAnIycnBxo0boa+vL7d+REQELl68iCFDhqBSpUrYt28fJk6ciMuXL6NatWoAPnx5bsCAAVBTU8PQoUOhr6+P3377DXPmzEFqaio8PDwAAIcPH4afnx+6dOmC4cOHIzMzEw8ePMCtW7fQq1cvdOrUCX/++SfOnDmDWbNmie0rGpuBgQG0tbXFNdNVq1ZVOO/U1FQcOXIEPXv2RP/+/ZGWloajR49i1KhROHLkCJo2barw3KKanzxff/01li1bhhkzZqBVq1b49ttvZfodNGgQMjIyMGzYMFSrVg3Hjx+Hl5cX1q1bh06dOsm0tWnTJmhqamLkyJHIysoqUGL78TwBiHEHgHv37uGrr76Crq6uTN3cz929e/dQq1atQvWjSHx8/Cd/h0QqSSCi/7Rjx44JJiYmQnR0tMI648aNE8zNzYW//vpLLHv58qVga2srDB06VCzz9fUVHB0dxdf+/v7C0KFDBQcHB+HAgQOCIAhCcnKyYGpqKuzZs0cQBEHIyckROnfuLHz33XdCTk6OeG5GRobQvn17YcSIEWJZ8+bNBV9f30/OZ8yYMUK7du0KOPsP/Xzsu+++Ezp06CBT1q5dO8HExES4ceOGWJaYmChYWFgIS5cuFcuWLFkimJiYCLdu3ZKp17x5c8HExESIi4v75HjWrVsnmJiYfPJnzJgxMueYmJgI69atE197enoK1tbWwr///iuW/fnnn0KzZs0EExOTfOeam5sLz549E8vu3bsnmJiYCPv27RPLZs+eLbRq1UpISkqSOX/KlClC8+bNxTh6eXkJPXr0+OQct2/fXqBY5Fq7dq1gYmIi2NjYCKNGjRI2b94sxMTE5Kv3/v17ITMzU6bszZs3gqOjozBr1qx8884bs6KcnyImJib53r+575e876vU1FShffv2Qrt27QSpVCoIgiCEhoYKJiYmQocOHeS+ZwsiOTlZcHBwEIYMGSJT3qNHD2H48OH56j98+FAwMTERfv75Z7ntFfazduPGDcHU1FRYs2ZN4QZOVMZxmQcRfZJUKsXvv/+Ojh07om7dumJ59erV0bNnT0RERIi3mu3t7ZGQkCDexg0PD4e9vT3s7e3FLzJFRERAEATY29sD+HDV688//0SvXr2QnJyMpKQkJCUlIT09HQ4ODrhx44Z4NbZKlSq4desWXr58WWTz09bWFv+dkpKCpKQkfPPNN4iLi0NKSopM3caNG4vjBj5cTW3QoIHMLfOrV6/CxsZGvKqXW0/RVUtF1q9fj127duX7MTQ0/OR5UqkUISEh6NChA2rUqCGW169fX+HuEY6OjqhXr5742szMDLq6uuK8BEHAxYsX0b59ewiCIP6OkpKS4OTkhJSUFHGpTZUqVfDvv/8iOjq6UPP9lIkTJ2LlypVo2rQprl27htWrV6Nv375wcXHB48ePxXoSiQRaWloAPlzBf/36Nd6/fw8LCwvcvXtXYfulOb+rV6/CyspK5n1VqVIlDBw4EC9evMCjR49k6vfp00fmPVtQOTk5mD59Ot6+fYt58+bJHHv37p0Yt7xy76a8e/eu0P19LDExEdOmTYOxsTFGjRr1xe0RlSVc5kFEn5SUlISMjAw0aNAg37FGjRohJycH//zzD5o0aSIu3YiIiEDNmjVx7949TJ48Gfr6+uKXx8LDw6GrqwszMzMAwJ9//gkAmDlzpsIxpKSkQE9PD9OnT4ePjw/atm0Lc3NztGnTBn369JFJ8gsrIiIC69evR1RUFDIyMvL1W7lyZfG1vFvdenp6Mksy/v77b1hbW+erJy9+n2Jvby936cPnloskJibi3bt3qF+/fr5j8soAxfPK3W0jKSkJb9++xaFDh3Do0CG5beRu5Td69Ghcv34d/fv3R/369dGqVSv07NlTZlmPMnr27ImePXsiNTUVt27dQmBgIM6cOYOxY8fizJkzYlyOHz+OnTt34unTp8jOzhbPNzY2Vth2ac5P0fulYcOG4nETE5MCzeNTFi9ejODgYPz444/iZy+XtrY2srKy8p2TmZkpHv8S6enp8PT0RFpaGg4cOPDZpVdEqobJNBEVmRo1asDY2Bg3btxAnTp1IAgCbGxsoK+vjyVLluDFixeIiIiAra2tuAOB8H9fTJwxY4bCNa25uw50794d9vb2+N///offf/8dO3bswLZt27B+/Xq0adOm0OP966+/4OHhgYYNG8LHxwe1atWCpqYmrl69it27d+dbnyyRSArdhypQNK/c301uHHr37g0XFxe5dXO/UNeoUSOcP38eV65cQXBwMC5evIgDBw7A29sbEydO/OKx6urqolWrVmjVqhU0NTVx/Phx3Lp1C9988w1OnjwJHx8fdOzYESNHjoSBgQEkEgm2bt0qc/fgY2Vpfp+jTGK7YcMGHDhwANOmTUOfPn3yHTcyMpJ7tyc+Ph4APrkF3udkZWVhwoQJePDgAXbs2CHzhwFRecFkmog+SV9fHxUrVsTTp0/zHXvy5AnU1dVlrmza29vjxo0bMDY2FpcLmJmZoXLlyggODsbdu3cxYcIEsX7uVWVdXd0CbZdVvXp1DB06FEOHDkViYiJcXFywZcsWMZlWU1Mr8NwuXbqErKwsbN68GbVr1xbLw8LCCtzGx2rXro1nz57lK5cXv+JgYGCAChUqyB2DvLKC0NfXR6VKlZCTk1Og35GOjg66d++O7t27i8nUli1b4OnpiQoVKhTqd/QpFhYWOH78uJj0XbhwAXXr1sWGDRtk+pC3r3JeRT2/wqhdu7bCz1bu8S8REBCA9evXw93dHWPGjJFbx8zMDGFhYUhNTZX5EuKtW7cA4JNf3PyUnJwczJw5EyEhIVizZg2++eYbpdohKuu4ZpqIPkkikaBVq1b49ddfZbYvS0hIwJkzZ9C8eXOZ/wDb29vjxYsXCAoKEteBqqurw9bWFrt27UJ2drbMLXELCwvUq1cPO3fuRFpaWr7+c2+vS6XSfGuYDQwMUL16dZlb1BUrVsxX71NzAyCzbV9KSgqOHTtWoPPladOmDaKiomTW1CYlJX1y67SiJJFI4OjoiF9//VXmauOzZ88QHBysdJtdunTBhQsXEBsbm+943qc1JicnyxzT0tJCo0aNIAiCuOyiYsWKAFCg31NGRgYiIyPlHsvdvi93CY283+etW7dktnCUp6jnVxht2rRBdHS0zBzT09Nx+PBh1KlTB40bNy50m7mCgoLg5+eHXr16ibvbyNO1a1dIpVKZJS5ZWVkIDAyEtbW10jt5LF68GEFBQViwYAE6d+6sVBtEqoBXpokIwIf9luUlW8OHD8fkyZNx/fp1DBkyBEOGDIFEIsGhQ4eQlZWF77//XqZ+bqL89OlTTJ06VSz/+uuv8dtvv0FLS0vmy3nq6urw8/PD6NGj0bNnT/Tt2xc1atTAy5cvERYWBl1dXWzZsgVpaWlo06YNunTpAjMzM+jo6OD69eu4ffs2fHx8xPbMzc0RFBQEf39/WFpaQkdHR+Fe07lLBcaOHYtBgwYhLS0NR44cgYGBgXi1s7BGjRqFkydPYtSoURg+fLi4NV7t2rXx4MEDpdosrPHjx+PatWsYPHgwBg8ejJycHOzfvx9NmjTBvXv3lGpz2rRpCAsLw4ABA9C/f380btwYb968wZ07dxASEoI//vgDADBy5EgYGhrCzs4OBgYGePLkCfbv3482bdqIf3SZm5sDAFavXo3u3btDU1MT7dq1E5fz5JWRkYFBgwbBxsYGzs7OqFmzJlJSUvDLL78gPDwcHTt2RLNmzQAAbdu2xcWLF+Ht7Y22bdvi+fPnOHjwIBo3boz09PQSm19hjBkzBmfPnsXo0aMxbNgw6Onp4cSJE3j+/DnWr18v94EsBREdHY0ZM2agatWqcHBwwKlTp2SO29nZiXeFrK2t0bVrV6xatQqJiYmoX78+jh8/jhcvXmDJkiUy592/fx+XLl0C8OEPtJSUFGzatAnAhyvcuZ+13bt348CBA7C1tYW2tjZOnjwp006nTp3k/r6JVBGTaSIC8GG/ZXn69u2LJk2aICAgACtXrsTWrVshCAKsrKywfPnyfF+eatiwIQwMDJCYmChzBTr331ZWVvl2DmjRogUOHTqETZs2Yf/+/UhPT4eRkRGsrKzEB0loa2tj8ODB+P3333Hx4kUIgoB69ephwYIFGDJkiNjWkCFDcO/ePQQGBmL37t2oU6eOwmS6YcOGWLduHdasWYMff/wRhoaGGDx4MPT19TF79uzCBxEflqHs3bsXfn5++Omnn1C1alUMGjQI1atXx5w5c5Rqs7AsLCywbds2LFu2DGvXrkWtWrUwceJEPHnyROkHZhgaGuLIkSPYuHEj/ve//+Hnn39G1apV0bhxY0yfPl2sN3DgQJw+fRq7du1Ceno6atasiWHDhmHcuHFiHSsrK0yaNAkHDx5EcHAwcnJy8Ouvv8pNrqpUqQI/Pz9cuXIFgYGBiI+Ph0QiQYMGDTBjxgwMGzZMrNu3b18kJCTg0KFDuHbtGho3bozly5fj/PnzYjJcEvMrbFwPHjyI5cuXY//+/cjMzISpqSm2bNmCtm3bKtUmADx69AjZ2dlISkqS+1729/eX+eLusmXLsGbNGpw6dQpv3rwRx/D111/LnHf37l2sXbtWpiz3tYuLi/hZu3//PoAPj46Xd2dB0e+bSBWpCXnvhxERUbk1btw4PHr0CBcvXiztoRARlRtcM01EVA59vDfwn3/+id9++41fAiMiKmJc5kFEVA517NgRLi4uqFu3Ll68eIGDBw9CU1OTD8wgIipiTKaJiMohZ2dnnD17FvHx8dDS0oKNjQ2mTp2Kr776qrSHRkRUrnDNNBERERGRkrhmmoiIiIhISUymiYiIiIiUxDXTJSAnJwfv37+Hurp6kT1Gl4iIiIiKjiAIyMnJgYaGRqEemMRkugS8f/8et2/fLu1hEBEREdFnWFpa5nu42KcwmS4BuX/dWFpaQiKRFHt/UqkUt2/fLrH+VAljIx/johhjIx/johhjIx/johhjI19JxyW3v8JclQaYTJeI3KUdEomkRD8kJd2fKmFs5GNcFGNs5GNcFGNs5GNcFGNs5CvpuBR2Sa7KfQExICAA7du3h6WlJfr374/o6OhP1j937hy6du0KS0tL9OrVC1evXpU57uPjA1NTU5mfkSNHytR5/fo1pk2bBjs7O9jb22P27NlIS0sr8rkRERERkWpRqWQ6KCgI/v7+8Pb2xvHjx2FmZoaRI0ciMTFRbv2bN29i2rRp6NevH06cOIEOHTrA29sbsbGxMvWcnZ1x7do18WfVqlUyx6dPn45Hjx5h165d2LJlC8LDwzF//vximycRERERqQaVSqZ37dqFAQMGwNXVFY0bN4avry+0tbVx7NgxufX37t0LZ2dnjBo1Co0aNcLkyZPRrFkz7N+/X6aelpYWjIyMxB89PT3x2OPHjxEcHAw/Pz9YW1vD3t4ec+fOxdmzZ/Hy5ctinS8RERERlW0qs2Y6KysLd+7cgaenp1imrq4OR0dHREZGyj0nKioKHh4eMmVOTk745ZdfZMr++OMPODg4oEqVKmjZsiUmT56MatWqAQAiIyNRpUoVWFpaivUdHR2hrq6O6OhodOrUqcBzkEqlBa77JXL7Kan+VAljIx/johhjIx/johhjI5+8uEilUmRnZ5fWkMqM3JikpaVxzXQexREXTU1NhW0p+5lVmWQ6OTkZUqkUBgYGMuUGBgZ48uSJ3HMSEhJgaGiYr35CQoL42tnZGZ06dYKxsTHi4uKwatUqjB49GocOHYJEIkFCQgL09fVl2tDQ0ICenh7i4+MLNYeS3h6P2/EpxtjIx7goxtjIx7goxtjIlzcuampqfAbD/9HQ0MDTp09LexhlTlHGJXcfaUEQiqS9XCqTTBeXHj16iP/O/QJix44dxavVRYlb45U+xkY+xkUxxkY+xkUxxka+vHEBPiyjrFSpEgwNDf/zybQgCHj37h20tbX/87HIq6jjIggCEhISkJaWhkaNGuX7fOa+RwtLZZLpatWqQSKR5PuyYWJiYr6rz7kMDQ1lrkJ/rj4A1K1bF9WqVcOzZ8/g4OAAQ0NDJCUlydR5//493rx5AyMjo0LNgVvjlR2MjXyMi2KMjXyMi2KMjXwSiURc2mFkZISKFSuW8ohKnyAIEAQBFStWZDKdR3HExcjICGlpacjJySnUg1k+RWW+gKilpQVzc3OEhISIZTk5OQgJCYGtra3cc2xsbBAaGipTdv36ddjY2Cjs599//8Xr16/FRNnW1hZv375FTEyMWCc0NBQ5OTmwsrL6ghkRERH9tzFxpJJWHO85lUmmAWDEiBE4fPgwjh8/jsePH2PhwoXIyMhA3759AQAzZszAypUrxfrDhw9HcHAwdu7cicePH2P9+vWIiYmBm5sbgA8L2n/88UdERUXh+fPnCAkJwbhx41C/fn04OzsDABo1agRnZ2fMmzcP0dHRiIiIwOLFi9GjRw/UqFGj5INARERERGWGyizzAIDu3bsjKSkJ69atQ3x8PJo2bYrt27eLyzb++ecfmUdA2tnZYcWKFVizZg1WrVqFr776Chs3boSJiQmAD7eaYmNjceLECaSkpKB69epo1aoVJk2aJHPpf8WKFVi8eDHc3d2hrq6Ozp07Y+7cuSU7eSIiIiIqc1QqmQYANzc38cryx/bt25evrFu3bujWrZvc+tra2tixY8dn+6xatarMFW8iIiKizxk2bBjMzMwwZ86cUh1HYGAgfvjhB4SHh5fqOMorlVrmQURERFRafHx8YGpqKvcpyL6+vjA1NYWPj49Ytn79ekyaNOmL+kxKSsKCBQvQtm1bWFhYoFWrVhg5ciQiIiK+qN2idPHiRYwYMQItW7aEnZ0dBg4ciODg4Hz1AgIC0L59e1haWqJ///6Ijo6WOX7o0CEMGzYMdnZ2MDU1xdu3b2WOP3/+HLNnz0b79u1hZWWFjh07Yt26dcjKyirW+X0Ok2kiIiKiAqpVqxaCgoLw7t07sSwzMxNnzpxB7dq1ZepWrVoVurq6X9TfhAkTcO/ePSxduhQXLlzA5s2b8c033+D169df1G5RunHjBhwdHfHTTz8hMDAQLVq0gJeXF+7evSvWCQoKgr+/P7y9vXH8+HGYmZlh5MiRMru0ZWRkwNnZGWPHjpXbz5MnTyAIAhYtWoSzZ89i1qxZOHjwIFavXl3sc/wUlVvmQUREROWPIAjIyC7Zp0ZW1JQUeneHZs2aIS4uDhcvXkTv3r0BfLgyW6tWLRgbG8vU/XiZR/v27TFgwAA8e/YM58+fh56eHry8vDBgwAC5fb19+xbh4eHYt28fvvnmGwBAnTp18u0mtmvXLgQGBiIuLg56enpo164dvv/+e1SqVEnhPH755Rds3LgRjx49QvXq1eHi4oKxY8dCQ0MDgiBgw4YNOHbsGBISElC1alV07dpV4ffFPl7GMnXqVPz666+4dOkSmjVrJo5xwIABcHV1BfDhSv6VK1dw7NgxjBkzBgDEp1aHhYXJ7ad169Zo3bq1+Lpu3bp4+vQpfv75Z8ycOVPhXIsbk2kiIiIqVYIgoN+WEEQ8Sy7Rfu3rV8ORsQ6FTqhdXV0RGBgoJtPHjh1D37598ccff3z23F27dmHixIkYO3YsLly4gIULF8Le3h41a9bMV1dHRwc6Ojr45ZdfYGNjo3BfZDU1NcyZM0d8mrOvry+WL1+OhQsXyq0fHh6OmTNnYu7cubC3t8dff/2FefPmAQDGjx+PCxcuYPfu3Vi1ahWaNGmChIQE3L9/v4DR+bB1cVpaGqpWrQoAyMrKwp07d+Dp6SnWUVdXh6OjIyIjIwvcrjwpKSnQ09P7oja+FJd5EBERUalTpR2ne/fujYiICLx48QIvXrzAzZs3xcT6c1q3bo2hQ4eifv36GD16NKpVq6YwCdfQ0MDSpUtx4sQJ2NvbY9CgQVi1alW+xNbDwwMtW7aEsbExHBwcMHnyZJw7d07hGDZs2IAxY8bAxcUFdevWFXcyO3jwIIAPu6MZGhrC0dERtWvXhpWVlcKr5/Ls2LED6enp4gYQycnJkEqlMDAwkKlnYGCQ7+F6hfHs2TPs378fgwYNUrqNosAr00RERFSq1NTUcGSsg0os8wAAfX19tG3bFsePH4cgCGjbti309fULdK6pqan4bzU1NRgaGuZ7unNeXbp0Qdu2bREeHo6oqCgEBwdj+/bt8PPzE5+zcf36dWzduhVPnjxBamoqpFIpMjMzkZGRIfcJk/fv38fNmzexZcsWsSzvOV27dsWePXvQsWNHODs7o02bNmjXrh00ND6fNp4+fRobN27Epk2b8iXPRenly5cYNWoUunbtWqhEvzgwmSYiIqJSp6amBh0t1UlLXF1dsWjRIgDAggULCnzexwmpmpoacnJyPnlOhQoV0KpVK7Rq1Qre3t6YM2cO1q9fj759++L58+fw9PTE4MGDMWXKFOjp6SEiIgJz5sxBdna23GQ6PT0dEyZMQOfOneX2VatWLZw/fx7Xr1/H9evX4evrix07dmDfvn3Q1NRUOM6zZ89i7ty5WLt2LRwdHcXyatWqQSKR5PujITExUXxWSGG8fPkSw4cPh62tLRYvXlzo84sal3kQERERFZKzszOys7Px/v17ODk5lWjfjRs3Rnp6OgDgzp07EAQBPj4+sLGxQYMGDfDq1atPnt+sWTM8ffoU9evXz/eT+/A7bW1ttG/fHnPnzsXevXsRGRmJ2NhYhW2eOXMGs2bNwsqVK9G2bVuZY1paWjA3N0dISIhYlpOTg5CQENja2hZq7rmJtLm5Ofz9/WUe1ldaVOdPQCIiIqIyQiKRiOuSJRJJsfSRnJyMSZMmwdXVFaampqhUqRJiYmKwfft2dOjQAQBQv359ZGdnY9++fWjfvj0iIiLEtc+KeHt7Y+zYsahduza6dOkCdXV13L9/H7GxsZgyZQoCAwMhlUphbW2NihUr4tSpU9DW1s639V+u06dPw8fHB7Nnz4a1tTXi4+MBfEjIK1euDAAYMWIEZs6cCQsLC1hZWWHPnj3IyMgQl6oAQHx8PBISEvDXX38BAGJjYyGRSNCgQQNUq1YNL1++xLBhw1C7dm3MnDkTSUlJ4rlGRkbKB/oLMZkmIiIiUsKX7iH9OZUqVYK1tTX27NmDv/76C+/fv0fNmjXRv39/cS9mMzMzzJo1C9u2bcOqVatgb2+PqVOnfnKrOGdnZ2zZsgUbN27Etm3boKGhgYYNG6J///4AgCpVquCnn37C0qVLkZOTAxMTE2zZsgXVqlWT297hw4fx/v17LFq0SFz6AgAuLi5YunQpAKB79+5ISkrCunXrEB8fj6ZNm2L79u0yyzwOHjyIDRs2iK9zn3j9ww8/wNXVFb///juePXuGZ8+eyWyRBwAPHjwoTGiLlJogCEKp9f4fIZVKERUVBRsbm2L767U0+1MljI18jItijI18jItijI18eeOSnZ2Np0+fokGDBtDW1i7toZU6QRCQnp4OHR0dpb4QWV4VR1zevXun8L2n7Ge39BeaEBERERGpKCbTRERERERKYjJNRERERKQkJtNEREREREpiMk1EREREpCQm00RERERESmIyTURERESkJCbTRERERERKYjJNRERERKQkJtNERERE/yHPnz+Hqakp7t27V9pDKReYTBMREREVgI+PD0xNTTF//vx8x3x9fWFqagofH59iHYNUKsVPP/2Erl27wsrKCt988w369++PI0eOFGu/hXH//n1MnToVbdq0gZWVFbp164Y9e/bkqxcWFgYXFxdYWFigU6dOCAwMlDl+48YNTJo0Cc7OzjA1NcUvv/wiczw7OxvLly9Hr169YGNjAycnJ8yYMQMvX74s1vl9jMk0ERERUQHVqlULQUFBePfunViWmZmJM2fOoHbt2sXe/4YNG7B7925MmjQJZ8+exd69ezFgwAC8ffu22PsuqJiYGOjr62P58uU4e/Ysxo4di1WrVmH//v1inbi4OHh6eqJFixY4efIk3N3dMXfuXAQHB4t1MjIyYGJiIvePFwB49+4d7t69Cy8vLwQGBmLDhg14+vQpvLy8in2OeWmUaG9ERERE8ggCkJ1esn1q6gBqaoU6pVmzZoiLi8PFixfRu3dvAMDFixdRq1YtGBsby9T97bffsHnzZjx8+BASiQQ2NjaYM2cO6tWrBwA4ceIEfH19ERgYiOrVqwMAFi5ciNDQUBw/fhwVK1bM1/+lS5cwZMgQdOvWTSwzMzMrVL/yxMbGYtmyZYiIiEDFihXRqlUrzJo1C/r6+gCA8+fPY+PGjXj27BkqVqyIpk2bYtOmTdDR0cnXVr9+/WRe161bF1FRUbh48SLc3NwAAAcPHoSxsbF4Jb9Ro0aIiIjA7t274ezsDABo3bo17O3t5fYBAJUrV8auXbtkyubNm4f+/fvj77//LpE/bgAVTKYDAgKwY8cOxMfHw8zMDPPmzYOVlZXC+ufOncPatWvx4sULfPXVV5g+fTratGkD4MPtgTVr1uC3335DXFwcdHV14ejoiGnTpqFGjRpiG+3bt8eLFy9k2p02bRrGjBlTPJMkIiL6LxEEYGcXIC6sZPut2xL47nyhE2pXV1cEBgaKyfSxY8fQt29f/PHHHzL1MjIyMGLECJiamiI9PR1r166Ft7c3Tp48CXV1dfTp0weXL1/G999/jx07duDKlSs4evQoDh48KDeRBgBDQ0OEhoZiyJAhYqL7sc/1+7G3b9/C3d0d/fv3x6xZs5CZmYkVK1Zg8uTJ2Lt3L169eoVp06bh+++/R8eOHZGWlobw8HAIglDgmKWkpKBq1ari66ioKDg4OMjUcXJywg8//FDgNuVJTU2FmpoaqlSp8kXtFIZKJdNBQUHw9/eHr68vrK2tsWfPHowcORLnz5+HgYFBvvo3b97EtGnTMHXqVLRr1w6nT5+Gt7c3AgMDYWJiInN7wMzMDG/fvsWSJUvE2wV5TZw4EQMGDBBfV6pUqdjnS0RE9N9RuIS2NPXu3RsrV64UL7TdvHkTq1atypdMd+nSReb1Dz/8AAcHBzx69AgmJiYAgEWLFqF3795Yvnw5Ll++jPHjx8PCwkJh37NmzcLEiRPRqlUrNG7cGLa2tujQoYN4obCg/ea1f/9+NGvWDFOnTpU5p02bNnj69CnS09Px/v17dOrUCXXq1AEAmJqaFiRUAD7E59y5c9i6datYlpCQAENDQ5l6hoaGSE1Nxbt376CtrV3g9nPl/hHQo0cP6OrqFvp8ZalUMr1r1y4MGDAArq6uAD4s9r9y5QqOHTsm9yrx3r174ezsjFGjRgEAJk+ejOvXr2P//v1YtGhRoW4PVKpUCUZGRsU4OyIiov8oNbUPV4hVYJkHAOjr66Nt27Y4fvw4BEFA27Zt5V4l/vPPP7Fu3TrcunULycnJ4pXcf/75R0xq9fT04Ofnh1GjRsHW1vazd70bN26MM2fOICYmBjdv3kR4eDi8vLzg4uKCJUuWFLjfvO7fv4+wsDDY2trmO/bXX3/ByckJDg4O6NWrF5ycnODk5IQuXbpAT0/vs7GKjY3FuHHj4O3tDScnp8/WV1Z2djYmTZoEQRDg6+tbbP3IozLJdFZWFu7cuQNPT0+xTF1dHY6OjoiMjJR7TlRUFDw8PGTKnJyc8n0bNC9Ftwe2bduGzZs3o1atWujZsyc8PDygoVG48Eml0kLVV1ZuPyXVnyphbORjXBRjbORjXBRjbOTLGxepVApBEMQfkab8tbHFqhBLFXLHKggC+vbti8WLFwMA5s+fL3Ms999jx45F7dq1sXjxYlSvXh05OTno1asXsrKyZOZ948YNSCQSxMfHIy0t7bNXVdXU1GBpaQlLS0u4u7vj1KlTmDFjBsaOHQtjY+PP9vvxWNPT09G2bVtMnz49X19GRkZQV1fHzp07ERkZiWvXrmHfvn1YvXo1Dh8+nG+deF6PHj2Ch4cHBgwYAC8vL5k5GxoaIiEhQaYsPj4eurq6qFChQr5xfhzbvLKzszFlyhT8/fff2L17NypVqqRwCUpuG7nvw7yU/cyqTDKdnJwMqVSabzmHgYEBnjx5IvccebcQDAwMkJCQILe+otsDw4YNQ7NmzaCnp4fIyEisWrUK8fHxmDVrVqHmcPv27ULV/1Il3Z8qYWzkY1wUY2zkY1wUY2zky42LhoYGMjIykJOTU8ojKrjcBCw9PR3NmzdHVlYW1NTUYGdnh/T0dJnjr1+/xtOnTzFnzhxYW1sDgHjxLzMzE+npH67C37p1Czt27MCaNWuwdu1aLFy4EIsWLSrUuHKXXiQlJUFdXf2z/ebuRPLu3Tukp6ejSZMmuHTpEqpVqyb3QmHuWM3MzGBmZoYRI0agR48eCAoKEr9Q+LHHjx/D09MTPXv2hKenp9hGLnNzc/z+++8y5cHBwbC0tMxXNyMjI1/ccmVnZ8PHxwd//fUXfvrpJ1SoUCFfnbwyMzORnZ2N+/fvK6xTWCqTTBe3T90eGDFihPhvMzMzaGpqYsGCBZg2bRq0tLQK3IelpSUkEkmRjVkRqVSK27dvl1h/qoSxkY9xUYyxkY9xUYyxkS9vXLKzs8VdIZRZG1taJBIJJBKJuLvEuXPnAEC8AJf3uLa2NqpWrYpTp06hbt26+Oeff7BmzRoAQIUKFaCjo4PU1FTMnz8fbm5uaNWqFerVq4f+/fujY8eO6Nq1q9wxTJw4EXZ2drC1tYWhoSGeP3+OVatW4auvvkKzZs2grq7+2X5zY66trQ0dHR24u7vjxIkTmDdvHkaNGgU9PT08e/YMQUFB8PPzQ0xMDEJCQtCqVSsYGBggOjoaycnJMDMzk7vTRmxsLDw9PeHk5ITRo0cjLS1NjE/ucphhw4bh8OHD2LhxI1xdXREaGor//e9/2LJli9hmamoqHj58iAoVKgD4cOX62bNn0NPTQ+3atZGdnY3p06fj3r172LJlC7S0tMS+9PT05OZo6urq0NTUROPGjfO993Lfo4WlMsl0tWrVIJFIkJiYKFOemJiY7+pzrtxbCJ+rn52djcmTJ+Pvv//Gnj17Pnt7xdraGu/fv8fz58/RsGHDAs8h90NWUkq6P1XC2MjHuCjG2MjHuCjG2MgnkUiQk5MDNTU18UdV5I41938rV64st46amhokEglWr14NPz8/9OrVCw0aNMDcuXMxbNgwsc4PP/yAihUrYurUqXj//j1MTU0xdepULFy4EHZ2djI7i+VydnbGmTNn8NNPPyElJQVGRkZo2bIlxo8fD01NTQD4bL9556GmpoaaNWvi559/xooVKzBy5EhkZWWhdu3acHZ2hkQiQeXKlREeHo69e/ciNTUVtWvXho+Pj8yXHvO6ePEikpKScOrUKZw6dUosr1OnDi5dugTgw3Z5W7duhb+/P/bu3YuaNWvCz88PrVu3FuvfuXMH7u7u4uulS5cCAFxcXLB06VK8evVKbK9Pnz4yY9i7dy9atGjxyd9PUX0+1YTC7GtSyvr37w8rKyvMmzcPAJCTk4O2bdvCzc1N7oL9yZMn4927d9iyZYtYNmjQIJiYmIi3UHIT6WfPnmHv3r0Kt5nJ69SpU5g5cyZCQ0MLtPheKpUiKioKNjY2JXZluiT7UyWMjXyMi2KMjXyMi2KMjXx545KdnY2nT5+iQYMGKnVlurjkrlvW0dFRqT8uiltxxOXdu3cK33vKfnZV5so08GG5xcyZM2FhYQErKyvs2bMHGRkZ6Nu3LwBgxowZqFGjBqZNmwYAGD58OIYNG4adO3eiTZs2CAoKQkxMjEwiPXHiRNy9exdbt26FVCpFfHw8gP9/eyAyMhK3bt1Cy5YtUalSJURGRsLf3x+9e/cuUCJNREREROWXSiXT3bt3R1JSEtatW4f4+Hg0bdoU27dvF5dt/PPPPzKbkdvZ2WHFihVYs2aNuJ5o48aN4rYwL1++FG8PfPvttzJ95d4e0NLSQlBQEDZs2ICsrCwYGxvDw8NDZh01EREREf03qVQyDQBubm4Kvzm6b9++fGXdunWTeeRmXsbGxnjw4MEn+zM3N8fhw4cLP1AiIiIiKvfyP1OSiIiIiIgKhMk0ERERlQoV2gOByonieM8xmSYiIqISlbtTQlZWVimPhP5rct9zRbnTjsqtmSYiIiLVpqGhAR0dHcTHx0NTU1Nm84D/IkEQkJmZCXV1dW6Nl0dRxyUnJwfx8fHQ0dGR+6RHZTGZJiIiohKlpqaGWrVq4enTp3j27FlpD6fUCYKA7OxsaGpqMpnOozjioq6ujnr16hVpnJlMExERUYnT0tJCkyZNuNQDHx4Wcv/+fTRu3JgP+smjOOKipaVV5HdCmEwTERFRqVBXV+cTEPEhaQQAbW1tJtN5qEpc/tuLlIiIiIiIvgCTaSIiIiIiJTGZJiIiIiJSEpNpIiIiIiIlMZkmIiIiIlJSkSTTUqkU9+7dw5s3b4qiOSIiIiIilaBUMr1kyRIcOXIEwIdE2s3NDS4uLmjbti3CwsKKdIBERERERGWVUsn0hQsXYGZmBgC4fPkynj9/jnPnzsHd3R2rV68u0gESEREREZVVSiXTycnJMDIyAgBcvXoVXbt2RYMGDeDq6orY2NgiHSARERERUVmlVDJtaGiIR48eQSqVIjg4GK1atQIAvHv3rkw/oYaIiIiIqCgp9Tjxvn37YvLkyTAyMoKamhocHR0BALdu3ULDhg2LdIBERERERGWVUsn0hAkT0KRJE/z777/o2rUrtLS0AAASiQSjR48u0gESEREREZVVSiXTANC1a1cAQGZmpljm4uLy5SMiIiIiIlIRSq2Zlkql2LhxI5ydnWFra4u4uDgAwJo1a8Qt84iIiIiIyjulkunNmzfj+PHj+P7776GpqSmWm5iY4OjRo0U2OCIiIiKiskypZPrkyZNYvHgxevfuDXX1/9+Eqakpnjx5UmSDIyIiIiIqy5RKpl++fIl69erlKxcEAe/fv//iQRERERERqQKlkunGjRsjPDw8X/n58+fRtGnTLx7UpwQEBKB9+/awtLRE//79ER0d/cn6586dQ9euXWFpaYlevXrh6tWrMscFQcDatWvh5OQEKysreHh44M8//5Sp8/r1a0ybNg12dnawt7fH7NmzkZaWVtRTIyIiIiIVo1QyPW7cOCxevBg//fQTBEHAxYsXMXfuXGzZsgXe3t5FPUZRUFAQ/P394e3tjePHj8PMzAwjR45EYmKi3Po3b97EtGnT0K9fP5w4cQIdOnSAt7e3zFMat23bhn379mHhwoU4fPgwKlasiJEjR8rsUjJ9+nQ8evQIu3btwpYtWxAeHo758+cX2zyJiIiISDUolUx37NgRW7ZsQUhICCpWrIh169bh8ePH2LJli/g0xOKwa9cuDBgwAK6urmjcuDF8fX2hra2NY8eOya2/d+9eODs7Y9SoUWjUqBEmT56MZs2aYf/+/QA+XJXeu3cvvLy80LFjR5iZmWHZsmV49eoVfvnlFwDA48ePERwcDD8/P1hbW8Pe3h5z587F2bNn8fLly2KbKxERERGVfUrvM21vb49du3YV5Vg+KSsrC3fu3IGnp6dYpq6uDkdHR0RGRso9JyoqCh4eHjJlTk5OYqL8/PlzxMfHi09wBIDKlSvD2toakZGR6NGjByIjI1GlShVYWlqKdRwdHaGuro7o6Gh06tSpwHOQSqUFrvslcvspqf5UCWMjH+OiGGMjH+OiGGMjH+OiGGMjX0nHRdl+lE6mS1pycjKkUikMDAxkyg0MDBTuIJKQkABDQ8N89RMSEgAA8fHxYpmiOgkJCdDX15c5rqGhAT09PfH8grp9+3ah6n+pku5PlTA28jEuijE28jEuijE28jEuijE28pX1uBQ4mf7666+hpqZWoLp//PGH0gMqzywtLSGRSIq9H6lUitu3b5dYf6qEsZGPcVGMsZGPcVGMsZGPcVGMsZGvpOOS219hFTiZnj17dqEbL0rVqlWDRCLJ92XDxMTEfFefcxkaGopXmOXVNzIyEsuqV68uU8fMzExsIykpSaaN9+/f482bN+L5BSWRSEr0Q1LS/akSxkY+xkUxxkY+xkUxxkY+xkUxxka+sh6XAifTLi4uxTmOz9LS0oK5uTlCQkLQsWNHAEBOTg5CQkLg5uYm9xwbGxuEhobKrJu+fv06bGxsAADGxsYwMjJCSEiIuKVfamoqbt26hcGDBwMAbG1t8fbtW8TExMDCwgIAEBoaipycHFhZWRXTbImIiIhIFSi1m0demZmZSE1NlfkpLiNGjMDhw4dx/PhxPH78GAsXLkRGRgb69u0LAJgxYwZWrlwp1h8+fDiCg4Oxc+dOPH78GOvXr0dMTIyYfKupqWH48OHYvHkzfv31Vzx48AAzZsxA9erVxYS9UaNGcHZ2xrx58xAdHY2IiAgsXrwYPXr0QI0aNYptrkRERERU9in1BcT09HSsWLEC586dw+vXr/Mdv3fv3peOS67u3bsjKSkJ69atQ3x8PJo2bYrt27eLyzb++ecfmceb29nZYcWKFVizZg1WrVqFr776Chs3boSJiYlYZ/To0cjIyMD8+fPx9u1bNG/eHNu3b0eFChXEOitWrMDixYvh7u4OdXV1dO7cGXPnzi2WORIRERGR6lAqmV6+fDnCwsKwcOFCzJgxA/Pnz8fLly9x6NAhTJs2rajHKMPNzU3hso59+/blK+vWrRu6deumsD01NTVMmjQJkyZNUlinatWqMle8iYiIiIgAJZd5XL58GQsWLECXLl0gkUhgb2+PcePGYcqUKTh9+nRRj5GIiIiIqExSKpl+8+YN6tatCwDQ1dXFmzdvAADNmzdHeHh40Y2OiIiIiKgMUyqZNjY2xvPnzwEADRs2xLlz5wB8uGJduXLlohsdEREREVEZplQy7erqivv37wMAxowZg4CAAFhaWsLf3x8jR44s0gESEREREZVVSn0BMe++zY6Ojjh37hzu3LmDevXqiQ87ISIiIiIq7wp1ZToyMhKXL1+WKTtx4gSGDRuGBQsWICAgAFlZWUU6QCIiIiKisqpQyfTGjRvx8OFD8fWDBw8wZ84cODo6wtPTE5cvX8bWrVuLfJBERERERGVRoZLp+/fvw8HBQXwdFBQEKysr+Pn5wcPDA3PmzBG/jEhEREREVN4VKpl+8+aN+LRBAPjjjz/QunVr8bWlpSX++eefohsdEREREVEZVqhk2tDQUNwSLysrC3fv3oWNjY14PC0tDZqamkU6QCIiIiKisqpQyXTr1q2xcuVKhIeHY9WqVdDW1kbz5s3F4w8ePBAf5kJEREREVN4VKpmeNGkSJBIJ3NzccPjwYfj5+UFLS0s8fuzYMTg5ORX5IImIiIiIyqJC7TOtr6+PgIAApKSkQEdHBxKJROb42rVroaOjU6QDJCIiIiIqq5R6aIuiR4ZXrVr1S8ZCRERERKRSlHqcOBERERERMZkmIiIiIlIak2kiIiIiIiUxmSYiIiIiUhKTaSIiIiIiJTGZJiIiIiJSEpNpIiIiIiIlMZkmIiIiIlISk2kiIiIiIiUxmSYiIiIiUpLKJNOvX7/GtGnTYGdnB3t7e8yePRtpaWmfPCczMxO+vr5o0aIFbG1tMWHCBCQkJIjH79+/j6lTp6JNmzawsrJCt27dsGfPHpk2wsLCYGpqmu8nPj6+WOZJRERERKpDo7QHUFDTp09HfHw8du3ahezsbMyePRvz58/HypUrFZ7zww8/4OrVq1izZg0qV66MxYsXY/z48Th48CAAICYmBvr6+li+fDlq1aqFmzdvYv78+ZBIJHBzc5Np6/z589DV1RVfGxgYFM9EiYiIiEhlqEQy/fjxYwQHB+Po0aOwtLQEAMydOxdjxozBjBkzUKNGjXznpKSk4NixY1ixYgUcHBwAfEiuu3fvjqioKNjY2KBfv34y59StWxdRUVG4ePFivmTawMAAVapUKaYZEhEREZEqUolkOjIyElWqVBETaQBwdHSEuro6oqOj0alTp3znxMTEIDs7G46OjmJZo0aNULt2bTGZliclJQVVq1bNV96nTx9kZWWhSZMmGD9+PJo3b17oeUil0kKfo4zcfkqqP1XC2MjHuCjG2MjHuCjG2MjHuCjG2MhX0nFRth+VSKYTEhKgr68vU6ahoQE9PT2Fa5cTEhKgqamZ72qygYGBwnNu3ryJc+fOYevWrWKZkZERfH19YWFhgaysLBw5cgTDhw/H4cOHYW5uXqh53L59u1D1v1RJ96dKGBv5GBfFGBv5GBfFGBv5GBfFGBv5ynpcSjWZXrFiBbZt2/bJOkFBQSUyltjYWIwbNw7e3t5wcnISyxs2bIiGDRuKr+3s7BAXF4fdu3dj+fLlherD0tISEomkyMasiFQqxe3bt0usP1XC2MjHuCjG2MjHuCjG2MjHuCjG2MhX0nHJ7a+wSjWZ/u677+Di4vLJOnXr1oWhoSGSkpJkyt+/f483b97AyMhI7nmGhobIzs7G27dvZa5OJyYm5jvn0aNH8PDwwMCBAzFu3LjPjtvS0hI3b978bL2PSSSSEv2QlHR/qoSxkY9xUYyxkY9xUYyxkY9xUYyxka+sx6VUk2l9ff18yzfksbW1xdu3bxETEwMLCwsAQGhoKHJycmBlZSX3HAsLC2hqaiIkJARdunQBADx58gR///23zHrphw8fwt3dHX369MGUKVMKNO779+8rTOKJiIiI6L9DJdZMN2rUCM7Ozpg3bx58fX2RnZ2NxYsXo0ePHuJOHi9fvoS7uzuWLVsGKysrVK5cGa6urli6dCn09PSgq6sLPz8/2Nraisl0bGws3N3d4eTkhBEjRohrqSUSiZjk7969G8bGxmjSpAkyMzNx5MgRhIaGYufOnaUSCyIiIiIqO1QimQY+rK9evHgx3N3doa6ujs6dO2Pu3Lni8ezsbDx9+hQZGRli2ezZs6Guro6JEyciKysLTk5OWLBggXj8woULSEpKwqlTp3Dq1CmxvE6dOrh06ZLY7o8//oiXL1+iYsWKMDExwa5du9CyZcsSmDURERERlWUqk0xXrVr1kw9oMTY2xoMHD2TKKlSogAULFsgk0HlNmDABEyZM+GS/o0ePxujRows/YCIiIiIq91TmceJERERERGUNk2kiIiIiIiUxmSYiIiIiUhKTaSIiIiIiJTGZJiIiIiJSEpNpIiIiIiIlMZkmIiIiIlISk2kiIiIiIiUxmSYiIiIiUhKTaSIiIiIiJTGZJiIiIiJSEpNpIiIiIiIlMZkmIiIiIlISk2kiIiIiIiUxmSYiIiIiUhKTaSIiIiIiJTGZJiIiIiJSEpNpIiIiIiIlMZkmIiIiIlISk2kiIiIiIiUxmSYiIiIiUhKTaSIiIiIiJTGZJiIiIiJSEpNpIiIiIiIlqUwy/fr1a0ybNg12dnawt7fH7NmzkZaW9slzMjMz4evrixYtWsDW1hYTJkxAQkKCTB1TU9N8P2fPnpWpExYWBhcXF1hYWKBTp04IDAws8vkRERERkepRmWR6+vTpePToEXbt2oUtW7YgPDwc8+fP/+Q5P/zwAy5fvow1a9Zg3759ePXqFcaPH5+vnr+/P65duyb+dOzYUTwWFxcHT09PtGjRAidPnoS7uzvmzp2L4ODgIp8jEREREakWjdIeQEE8fvwYwcHBOHr0KCwtLQEAc+fOxZgxYzBjxgzUqFEj3zkpKSk4duwYVqxYAQcHBwAfkuvu3bsjKioKNjY2Yt0qVarAyMhIbt8HDx6EsbExfHx8AACNGjVCREQEdu/eDWdn5yKeKRERERGpEpVIpiMjI1GlShUxkQYAR0dHqKurIzo6Gp06dcp3TkxMDLKzs+Ho6CiWNWrUCLVr186XTPv6+mLOnDmoW7cuBg0aBFdXV6ipqQEAoqKixGQ8l5OTE3744YdCz0MqlRb6HGXk9lNS/akSxkY+xkUxxkY+xkUxxkY+xkUxxka+ko6Lsv2oRDKdkJAAfX19mTINDQ3o6ekhPj5e4TmampqoUqWKTLmBgYHMORMnTkTLli1RsWJFXLt2Db6+vkhPT8fw4cPFdgwNDWXaMDQ0RGpqKt69ewdtbe0Cz+P27dsFrlsUSro/VcLYyMe4KMbYyMe4KMbYyMe4KMbYyFfW41KqyfSKFSuwbdu2T9YJCgoq1jF4e3uL/27WrBkyMjKwY8cOMZkuSpaWlpBIJEXe7sekUilu375dYv2pEsZGPsZFMcZGPsZFMcZGPsZFMcZGvpKOS25/hVWqyfR3330HFxeXT9apW7cuDA0NkZSUJFP+/v17vHnzRuFaZ0NDQ2RnZ+Pt27cyV6cTExMVngMA1tbW2LRpE7KysqClpQVDQ8N8O4AkJCRAV1e3UFelAUAikZToh6Sk+1MljI18jItijI18jItijI18jItijI18ZT0upZpM6+vr51u+IY+trS3evn2LmJgYWFhYAABCQ0ORk5MDKysruedYWFhAU1MTISEh6NKlCwDgyZMn+Pvvv2XWS3/s3r170NPTg5aWFgDAxsYGv/32m0yd69evf7INIiIiIvpvUImt8Ro1agRnZ2fMmzcP0dHRiIiIwOLFi9GjRw9xJ4+XL1+ia9euiI6OBgBUrlwZrq6uWLp0KUJDQxETE4PZs2fD1tZWTIQvXbqEI0eOIDY2Fs+ePcOBAwewdetWuLm5iX0PGjQIcXFxWLZsGR4/foyAgACcO3cOHh4eJR0GIiIiIipjVOILiMCH9dWLFy+Gu7s71NXV0blzZ8ydO1c8np2djadPnyIjI0Msmz17NtTV1TFx4kRkZWXByckJCxYsEI9raGggICBA3JmjXr168PHxwYABA8Q6devWxdatW+Hv74+9e/eiZs2a8PPz47Z4RERERKQ6yXTVqlWxcuVKhceNjY3x4MEDmbIKFSpgwYIFMgl0Xq1bt0br1q0/23eLFi1w4sSJQo03L0EQAHBrvLKAsZGPcVGMsZGPcVGMsZGPcVGMsZGvtLbGy83bCkpNKOwZVGhZWVllflsXIiIiIvqw+1rud+cKgsl0CcjJycH79++hrq4uPgyGiIiIiMoOQRCQk5MDDQ0NqKsX/GuFTKaJiIiIiJSkErt5EBERERGVRUymiYiIiIiUxGSaiIiIiEhJTKaJiIiIiJTEZJqIiIiISElMpomIiIiIlMRkmoiIiIhISUymiYiIiIiUxGS6BAQEBKB9+/awtLRE//79ER0dLXP80KFDGDZsGOzs7GBqaoq3b98WqN2///4bY8aMgbW1NRwcHPDjjz/i/fv34vFXr15h2rRp6NKlC8zMzLBkyZIiaRcAwsLC4OLiAgsLC3Tq1AmBgYEFavtj5S024eHhGDRoEFq0aAErKyt07doVu3fvLlDbeZW3uABAVlYWVq9ejXbt2sHCwgLt27fH0aNHC9R+XuUxNgEBAejWrRusrKzQpUsXnDhxokBtf9yGKsXFz88Pffv2hYWFBb799tt8x8PCwuDl5QUnJyfY2Njg22+/xalTpwrU9sfKW2yeP38OU1PTfD9RUVEFaj9XeYsLAAQHB2PAgAGwtbVFy5YtMWHCBDx//rxA7eelSrG5f/8+pk6dijZt2sDKygrdunXDnj17ZOooG/OPlVZcLl68iBEjRqBly5aws7PDwIEDERwc/Nl279+/jyFDhsDS0hJt2rTBtm3b8tU5d+4cunbtCktLS/Tq1QtXr14t0JjzYjJdzIKCguDv7w9vb28cP34cZmZmGDlyJBITE8U6GRkZcHZ2xtixYwvcrlQqhaenJ7Kzs3Hw4EEsXboUx48fx7p168Q6WVlZqFatGry8vGBmZlZk7cbFxcHT0xMtWrTAyZMn4e7ujrlz5xbojZ1XeYyNjo4O3NzcsH//fgQFBcHLywtr1qzBoUOHCjz+8hgXAJg0aRJCQkKwZMkSnD9/HitXrkSDBg0KPH6gfMbmwIEDWLlyJSZMmICzZ89i4sSJ8PX1xaVLlwo8flWLSy5XV1d0795d7rHIyEiYmppi3bp1OHXqFPr27YuZM2fi8uXLheqjPMYm1+7du3Ht2jXxx9zcvMDtl8e4xMXFYdy4cWjZsiVOnjyJHTt2IDk5GRMmTChUH6oWm5iYGOjr62P58uU4e/Ysxo4di1WrVmH//v1f1O7HSjMuN27cgKOjI3766ScEBgaiRYsW8PLywt27dxW2m5qaipEjR6J27doIDAzEjBkzsGHDBpn/Ht+8eRPTpk1Dv379cOLECXTo0AHe3t6IjY0tXHAEKlb9+vUTfH19xddSqVRwcnIStm7dmq9uaGioYGJiIrx58+az7V65ckUwMzMT4uPjxbIDBw4IdnZ2QmZmZr76bm5ugp+fX5G0u2zZMqFHjx4y502ePFn47rvvPtt+XuUxNvJ4e3sL06dP/2z7ucpjXK5evSo0b95cSE5O/mx7n1IeYzNw4EBh6dKlMuf5+/sLgwYN+mz7uVQtLnmtW7dO6N27d4Hqjh49WvDx8SlU++UxNnFxcYKJiYlw9+7dQrWXV3mMy7lz54RmzZoJUqlULPv1118FU1NTISsrq8Dtq3Jsci1cuFAYNmyY3GPKtltW4pKre/fuwvr16xUeDwgIEL7++muZNpYvXy506dJFfD1p0iRhzJgxMuf1799fmDdv3mfHnRevTBejrKws3LlzB46OjmKZuro6HB0dERkZ+UVtR0VFwcTEBIaGhmKZk5MTUlNT8ejRo2JtNyoqCg4ODjLnOTk5FeoWY3mNzcfu3r2LyMhIfPPNNwXqo7zG5dKlS7CwsMD27dvh7OyMLl264Mcff8S7d+8K3E95jU1WVhYqVKggc16FChVw+/ZtZGdnf7YPVYyLslJSUlC1atUC1y/vsfHy8oKDgwMGDx6MX3/9tcDnlde4mJubQ01NDceOHYNUKkVKSgpOnjwJR0dHaGpqFqiN8hKbwn5WPqesxSUnJwdpaWmfnGNUVBTs7e2hpaUl0+7Tp0/x5s0bsc6X5jMAl3kUq+TkZEilUhgYGMiUGxgYICEh4YvaTkhIkHnjARBfx8fHF2u7iuqkpqYWODkqr7HJ1bp1a1hYWMDV1RVDhgxB//79C9RHeY1LXFwcIiIi8PDhQ2zcuBGzZ8/GhQsX4OvrW+B+ymtsnJyccPToUcTExEAQBNy+fRtHjx5FdnY2kpOTP9uHKsZFGUFBQbh9+zb69u1b4HPKa2x0dHTg4+ODtWvXYuvWrWjevDm8vb0LnFCX17jUrVsXO3fuxOrVq2FpaQl7e3u8fPkSa9asKXAb5SE2N2/exLlz5zBgwIAia7OsxWXHjh1IT09Ht27dlGo3d8zy6igzJ41C1aZSMWrUKERERAAAateujbNnz5byiMqOshqbgIAApKen49atW1i5ciXq16+Pnj17llj/ZS0ugiBATU0NK1asQOXKlQEAPj4+mDhxIhYsWABtbe0SG0tZi824ceMQHx+PgQMHQhAEGBgYoE+fPti+fTvU1UvuekdZi0teoaGhmD17Nvz8/NCkSZMS77+sxUZfXx8jRowQX1tZWeHVq1fYsWMHOnToUGLjKGtxiY+Px7x589CnTx/07NkTaWlpWLduHSZOnIhdu3ZBTU2txMZSWrGJjY3FuHHj4O3tDScnpxLpszCKIi6nT5/Gxo0bsWnTpnzJfWlhMl2MqlWrBolEIrM4HwASExPz/SX0KUuWLBGv+GpofPiVGRoa5vsWbe5fUkZGRkqPuSDtGhoa5vurLSEhAbq6ugVOisprbHLVrVsXAGBqaoqEhASsX7++QMl0eY2LkZERatSoISbSANCoUSMIgoB///0XX3311Wf7Ka+x0dbWhr+/PxYtWoTExEQYGRnh0KFDqFSpEvT19T/bhyrGpTD++OMPeHl5YdasWejTp0+hzi3vscnL2toa169fL1Dd8hqXgIAA6OrqYsaMGWLZ8uXL0aZNG9y6dQs2NjafbUOVY/Po0SN4eHhg4MCBGDdu3Be3l1dZicvZs2cxd+5crF27VmbJiTyKcpXcY4rqFHZOAJd5FCstLS2Ym5sjJCRELMvJyUFISAhsbW0L3E6NGjVQv3591K9fH3Xq1AEA2NjYIDY2VuaNff36dejq6qJx48ZKj7kg7drY2CA0NFTmvOvXrxfo/6hyldfYyJOTk1Ogta9A+Y2LnZ0dXr16hbS0NLHO06dPoa6ujpo1axaon/Iam1yampqoWbMmJBIJgoKC0K5duwJdmVbFuBRUWFgYPD09MX36dAwcOLDQ55fn2Hzs3r17BU7Iymtc3r17l+8zk/s6JyenQG2oamwePnyI4cOHo0+fPpgyZcoXtSVPWYjLmTNnMGvWLKxcuRJt27b9bF82NjYIDw+X+e/v9evX0aBBA+jp6Yl1vjSfAXhlutiNGDECM2fOhIWFBaysrLBnzx5kZGTIrPuLj49HQkIC/vrrLwAfbtNUqlQJtWrVUri43snJCY0bN8aMGTPw/fffIz4+HmvWrMHQoUNlFtvfu3cPAJCWloakpCTcu3cPmpqaCj+4BWl30KBBCAgIwLJly+Dq6orQ0FCcO3cOW7du/c/HJiAgALVq1ULDhg0BfNjOZ+fOnRg2bNh/Oi49e/bEpk2bMGvWLEycOBHJyclYvnw5XF1dC7XEozzG5unTp4iOjoa1tTXevn2LXbt24eHDh1i6dGm5jQsAPHv2DOnp6YiPj8e7d+/ENho1agQtLS2EhoZi7NixGD58ODp37iyundTU1CzUF6vKY2yOHz8OTU1NNG3aFADwv//9D8eOHYOfn99/Oi5t2rTB7t27sWHDBnGZx6pVq1CnTh00a9as3MYmNjYW7u7ucHJywogRI8TPikQikbm7pUzMy0pcTp8+DR8fH8yePRvW1tbiHLW1tWXueObVq1cvbNy4EXPmzMHo0aPx8OFD7N27F7NmzRLrDB8+HMOGDcPOnTvRpk0bBAUFISYmBosWLSpQTESF2vuDlLJv3z6hbdu2grm5udCvXz8hKipK5vi6desEExOTfD/Hjh37ZLvPnz8XRo0aJVhZWQktWrQQli5dKmRnZ8vUkdduu3btvrjd0NBQ4dtvvxXMzc2FDh06fHasipS32Ozdu1fo0aOHYG1tLdjZ2Ql9+vQRAgICZLZq+i/GRRAE4dGjR4KHh4dgZWUltG7dWvD39xcyMjIKEZUPyltsHj16JHz77beClZWVYGdnJ3h5eQmPHz8uZFRULy5ubm5yz4uLixMEQRBmzpwp97ibm9t/PjaBgYFCt27dxP+f6devn3Du3Ln/fFwEQRDOnDkj9OnTR7CxsRFatmwpjB07Vnj06FEhI6NasVE0lo/PUSbmZSUuin73M2fO/GS79+7dEwYPHixYWFgIzs7OcrfxCwoKEjp37iyYm5sLPXr0EK5cuVKIiHygJgiCULj0m4iIiIiIAK6ZJiIiIiJSGpNpIiIiIiIlMZkmIiIiIlISk2kiIiIiIiUxmSYiIiIiUhKTaSIiIiIiJTGZJiIiIiJSEpNpIiIiIiIlMZkmIiIiIlISk2kiov8wHx8fmJqawtTUFObm5nB0dMSIESNw9OhR5OTkFLidwMBA2NvbF+NIiYjKJo3SHgAREZUuZ2dn+Pv7IycnBwkJCQgODsaSJUtw4cIFbN68GRoa/E8FEZEivDJNRPQfp6WlBSMjI9SoUQPm5uYYO3YsNm3ahN9++w3Hjx8HAOzatQu9evWCjY0N2rRpg4ULFyItLQ0AEBYWhlmzZiElJUW8yr1+/XoAQFZWFn788Uc4OzvDxsYG/fv3R1hYWKnNlYioqDGZJiKifBwcHGBmZoaLFy8CANTU1DBnzhycOXMGS5cuRWhoKJYvXw4AsLW1xezZs6Grq4tr167h2rVr+O677wAAixYtQmRkJFavXo1Tp06ha9euGDVqFP7888/SmhoRUZFiMk1ERHI1bNgQL168AAB4eHigZcuWMDY2hoODAyZPnoxz584B+HBlu3LlylBTU4ORkRGMjIxQqVIl/P333wgMDMTatWthb2+PevXqYeTIkWjevDkCAwNLc2pEREWGC+GIiEguQRCgpqYGALh+/Tq2bt2KJ0+eIDU1FVKpFJmZmcjIyEDFihXlnh8bGwupVIquXbvKlGdlZaFq1arFPXwiohLBZJqIiOR6/PgxjI2N8fz5c3h6emLw4MGYMmUK9PT0EBERgTlz5iA7O1thMp2eng6JRIJjx45BIpHIHNPR0SmJKRARFTsm00RElE9ISAhiY2Ph4eGBO3fuQBAE+Pj4QF39w+rA3CUeuTQ1NSGVSmXKmjZtCqlUiqSkJG6bR0TlFpNpIqL/uKysLMTHx8tsjbd161a0a9cOffr0wcOHD5GdnY19+/ahffv2iIiIwMGDB2XaqFOnDtLT0xESEgJTU1NUrFgRDRo0QK9evTBjxgz4+PigadOmSE5OFuu0bdu2dCZMRFSE1ARBEEp7EEREVDp8fHzE7e80NDRQpUoVmJmZoWfPnnBxcRGvRO/evRvbt29HSkoK7O3t0atXL8ycORM3btxAlSpVAAALFizA+fPn8fr1a4wfPx4TJkxAdnY2Nm/ejBMnTuDVq1eoWrUqbGxsMGHCBJiampbavImIigqTaSIiIiIiJXFrPCIiIiIiJTGZJiIiIiJSEpNpIiIiIiIlMZkmIiIiIlISk2kiIiIiIiUxmSYiIiIiUhKTaSIiIiIiJTGZJiIiIiJSEpNpIiIiIiIlMZkmIiIiIlISk2kiIiIiIiX9P4dPQ3BJcEbrAAAAAElFTkSuQmCC\n",
         "text/plain": "<Figure size 800x200 with 1 Axes>"
        },
        "metadata": {},
        "output_type": "display_data"
       },
       {
        "data": {
         "image/png": "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\n",
         "text/plain": "<Figure size 800x200 with 1 Axes>"
        },
        "metadata": {},
        "output_type": "display_data"
       },
       {
        "data": {
         "image/png": "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\n",
         "text/plain": "<Figure size 800x200 with 1 Axes>"
        },
        "metadata": {},
        "output_type": "display_data"
       },
       {
        "data": {
         "image/png": "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\n",
         "text/plain": "<Figure size 800x200 with 1 Axes>"
        },
        "metadata": {},
        "output_type": "display_data"
       },
       {
        "data": {
         "image/png": "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\n",
         "text/plain": "<Figure size 800x200 with 1 Axes>"
        },
        "metadata": {},
        "output_type": "display_data"
       },
       {
        "data": {
         "image/png": "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\n",
         "text/plain": "<Figure size 800x200 with 1 Axes>"
        },
        "metadata": {},
        "output_type": "display_data"
       }
      ]
     }
    }
   }
  }
 },
 "nbformat": 4,
 "nbformat_minor": 1
}
